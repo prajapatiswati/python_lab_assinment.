{
  "nbformat": 4,
  "nbformat_minor": 0,
  "metadata": {
    "colab": {
      "provenance": []
    },
    "kernelspec": {
      "name": "python3",
      "display_name": "Python 3"
    },
    "language_info": {
      "name": "python"
    }
  },
  "cells": [
    {
      "cell_type": "markdown",
      "source": [
        "wrie a program to caluclate the area of circle in given radius\n"
      ],
      "metadata": {
        "id": "UhRPTeFW8enj"
      }
    },
    {
      "cell_type": "code",
      "source": [
        "a=10\n",
        "def area(a):\n",
        "  return 3.14*a*a\n",
        "print(area(a))"
      ],
      "metadata": {
        "colab": {
          "base_uri": "https://localhost:8080/"
        },
        "id": "IrRehQd8yz8T",
        "outputId": "11ae3a6d-862b-4e71-8d61-716df85903d1"
      },
      "execution_count": null,
      "outputs": [
        {
          "output_type": "stream",
          "name": "stdout",
          "text": [
            "314.0\n"
          ]
        }
      ]
    },
    {
      "cell_type": "markdown",
      "source": [
        "write creat a program that take user input from a temperture in celusius and convert into fahernit"
      ],
      "metadata": {
        "id": "NZzIpM6V9Q7z"
      }
    },
    {
      "cell_type": "code",
      "source": [
        "\n",
        "celsius = 47\n",
        "\n",
        "fahrenheit = (celsius * 1.8) + 32\n",
        "\n",
        "print('%.2f Celsius is equivalent to: %.2f Fahrenheit'\n",
        "\t% (celsius, fahrenheit))\n"
      ],
      "metadata": {
        "colab": {
          "base_uri": "https://localhost:8080/"
        },
        "id": "xJ1MTcU4y5UM",
        "outputId": "e503a791-d559-486c-c069-2d7f3a156744"
      },
      "execution_count": null,
      "outputs": [
        {
          "output_type": "stream",
          "name": "stdout",
          "text": [
            "47.00 Celsius is equivalent to: 116.60 Fahrenheit\n"
          ]
        }
      ]
    },
    {
      "cell_type": "markdown",
      "source": [
        "implement a calculater that perform basic arthmatic opration (addition ,substraction ,multiplication ,division) based on user input"
      ],
      "metadata": {
        "id": "pcNhyZz30Ns7"
      }
    },
    {
      "cell_type": "code",
      "source": [
        "# add two numbers\n",
        "def add(num1, num2):\n",
        "    return num1 + num2\n",
        "\n",
        "# subtract two numbers\n",
        "def subtract(num1, num2):\n",
        "    return num1 - num2\n",
        "\n",
        "# multiply two numbers\n",
        "def multiply(num1, num2):\n",
        "    return num1 * num2\n",
        "\n",
        "# divide two numbers\n",
        "def divide(num1, num2):\n",
        "    return num1 / num2\n",
        "\n",
        "print(\"Please select operation -\\n\" \\\n",
        "        \"1  = Add\\n\" \\\n",
        "        \"2 = Subtract\\n\" \\\n",
        "        \"3 = Multiply\\n\" \\\n",
        "        \"4 = Divide\\n\")\n",
        "\n",
        "select = int(input(\"Select operations form 1, 2, 3, 4 :\"))\n",
        "\n",
        "n1 = int(input(\"Enter first number: \"))\n",
        "n2= int(input(\"Enter second number: \"))\n",
        "\n",
        "if select == 1:\n",
        "    print(n1, \"+\", n2, \"=\", add(n1,n2))\n",
        "\n",
        "elif select == 2:\n",
        "    print(n1, \"-\", n2, \"=\",subtract(n1, n2))\n",
        "\n",
        "elif select == 3:\n",
        "    print(n1, \"*\", n2, \"=\", multiply(n1, n2))\n",
        "\n",
        "elif select == 4:\n",
        "    print(n1, \"/\", n2, \"=\", divide(n1, n2))\n",
        "else:\n",
        "    print(\"Invalid input\")"
      ],
      "metadata": {
        "colab": {
          "base_uri": "https://localhost:8080/"
        },
        "id": "XHypLTyizzRE",
        "outputId": "56717ba2-0393-4728-a9e9-5741915206b1"
      },
      "execution_count": null,
      "outputs": [
        {
          "output_type": "stream",
          "name": "stdout",
          "text": [
            "Please select operation -\n",
            "1  = Add\n",
            "2 = Subtract\n",
            "3 = Multiply\n",
            "4 = Divide\n",
            "\n",
            "Select operations form 1, 2, 3, 4 :3\n",
            "Enter first number: 12\n",
            "Enter second number: 2\n",
            "12 * 2 = 24\n"
          ]
        }
      ]
    },
    {
      "cell_type": "markdown",
      "source": [
        "Write a program that checks if a number is even or odd."
      ],
      "metadata": {
        "id": "8fdgzds94cdF"
      }
    },
    {
      "cell_type": "code",
      "source": [
        "n = int(input(\"Enter a number: \"))\n",
        "if (n % 2) == 0:\n",
        "   print(\"this is Even\")\n",
        "else:\n",
        "   print(\"this is Odd\")"
      ],
      "metadata": {
        "colab": {
          "base_uri": "https://localhost:8080/"
        },
        "id": "WgUr3N7yzhHu",
        "outputId": "9dd4bdf3-430d-42f7-eec2-27a8e6c56a97"
      },
      "execution_count": null,
      "outputs": [
        {
          "output_type": "stream",
          "name": "stdout",
          "text": [
            "Enter a number: 34\n",
            "this is Even\n"
          ]
        }
      ]
    },
    {
      "cell_type": "markdown",
      "source": [
        "Develop a function that takes a string as input and returns the string reversed"
      ],
      "metadata": {
        "id": "fFp8iGYS6BEd"
      }
    },
    {
      "cell_type": "code",
      "source": [
        "s = \"swati_prajapati\"\n",
        "rev = ''.join(reversed(s))\n",
        "print(rev)"
      ],
      "metadata": {
        "colab": {
          "base_uri": "https://localhost:8080/"
        },
        "id": "dtNUdaJZzn7U",
        "outputId": "09e7cb91-230d-4354-ee6c-1266581cfedb"
      },
      "execution_count": null,
      "outputs": [
        {
          "output_type": "stream",
          "name": "stdout",
          "text": [
            "itapajarp_itaws\n"
          ]
        }
      ]
    },
    {
      "cell_type": "markdown",
      "source": [
        "Create a program that asks the user for their age and prints whether they are a minor,adult, or senior"
      ],
      "metadata": {
        "id": "XZcxDCeW9tw-"
      }
    },
    {
      "cell_type": "code",
      "source": [
        "age = int(input(\"Enter your age: \"))\n",
        "\n",
        "if age < 18:\n",
        "  print(\"minor\")\n",
        "elif age >= 18 and age < 65:\n",
        "  print(\"adult\")\n",
        "else:\n",
        "  print(\"senior\")"
      ],
      "metadata": {
        "colab": {
          "base_uri": "https://localhost:8080/"
        },
        "id": "8uUyuTF6zrZD",
        "outputId": "bff94151-abd6-422d-9065-31b33aa00fd9"
      },
      "execution_count": null,
      "outputs": [
        {
          "output_type": "stream",
          "name": "stdout",
          "text": [
            "Enter your age: 45\n",
            "adult\n"
          ]
        }
      ]
    },
    {
      "cell_type": "markdown",
      "source": [
        "Write a program that evaluates three numbers and prints the largest one"
      ],
      "metadata": {
        "id": "uwFvKGQe-sgH"
      }
    },
    {
      "cell_type": "code",
      "source": [
        "a =23\n",
        "b=12\n",
        "c=32\n",
        "if a>b and a>c:\n",
        "  print(\"a is larger number\")\n",
        "  if b>a and b>c:\n",
        "    print(\"b is larger number\")\n",
        "else:\n",
        "  print(\"c is larger than a and b\")"
      ],
      "metadata": {
        "colab": {
          "base_uri": "https://localhost:8080/"
        },
        "id": "j7Fcil2Rz3x0",
        "outputId": "947959cb-ea2d-4c38-bee6-c632b558ecc6"
      },
      "execution_count": null,
      "outputs": [
        {
          "output_type": "stream",
          "name": "stdout",
          "text": [
            "c is larger than a and b\n"
          ]
        }
      ]
    },
    {
      "cell_type": "markdown",
      "source": [
        "Implement a program that gives feedback based on a user's score (A, B. C. D.F)."
      ],
      "metadata": {
        "id": "yAYBSvv5AJwY"
      }
    },
    {
      "cell_type": "code",
      "source": [
        "def feedback(score):\n",
        "  if score >= 80:\n",
        "    print(\"Excellent score : A grad \")\n",
        "  elif score >= 70:\n",
        "    print(\"Good score.B grad\")\n",
        "  elif score >= 60:\n",
        "     print(\"average score.C grad\")\n",
        "  elif score >= 50:\n",
        "     print(\"average score.D grad\")\n",
        "  else:\n",
        "    print(\"F grad\")\n",
        "score =int (input(\"enter score\"))\n",
        "feedback(score)"
      ],
      "metadata": {
        "colab": {
          "base_uri": "https://localhost:8080/"
        },
        "id": "CGuRDHNmz7P0",
        "outputId": "60e68b7b-3935-44a1-e44d-570e1b3f20c9"
      },
      "execution_count": null,
      "outputs": [
        {
          "output_type": "stream",
          "name": "stdout",
          "text": [
            "enter score81\n",
            "Excellent score : A grad \n"
          ]
        }
      ]
    },
    {
      "cell_type": "markdown",
      "source": [
        "Write a program to check if a year is leap year"
      ],
      "metadata": {
        "id": "NcOcslweNOYb"
      }
    },
    {
      "cell_type": "code",
      "source": [
        "def leapyear(year):\n",
        "  if (year % 4==0 and year % 100 != 0):\n",
        "    print (\"this is leap \")\n",
        "  elif (year% 400 == 0):\n",
        "    print (\"this is leap \")\n",
        "  else :\n",
        "    print (\"this is not leap \")\n",
        "year=int(input(\"enter year \"))\n",
        "leapyear(year)"
      ],
      "metadata": {
        "colab": {
          "base_uri": "https://localhost:8080/"
        },
        "id": "T7U5Kbzrz_WU",
        "outputId": "848c4be8-ab44-4ba4-8530-945cf24c8e48"
      },
      "execution_count": null,
      "outputs": [
        {
          "output_type": "stream",
          "name": "stdout",
          "text": [
            "enter year 2005\n",
            "this is not leap \n"
          ]
        }
      ]
    },
    {
      "cell_type": "markdown",
      "source": [
        " Develop a simple login system that checks a username and password."
      ],
      "metadata": {
        "id": "BUmaNfjpzeab"
      }
    },
    {
      "cell_type": "code",
      "source": [
        "def logic():\n",
        "\n",
        "  username = input(\"Enter your username: \")\n",
        "  password = input(\"Enter your password: \")\n",
        "\n",
        "  if username == user and password == code:\n",
        "    print(\"Login successful!\")\n",
        "  else:\n",
        "    print(\"Invalid username or password.\")\n",
        "\n",
        "user = \"swati\"\n",
        "code = \"12345\"\n",
        "logic()"
      ],
      "metadata": {
        "colab": {
          "base_uri": "https://localhost:8080/"
        },
        "id": "cR6dvVWP0C6U",
        "outputId": "aa60c5dd-5a86-4b38-b625-3c4a56718000"
      },
      "execution_count": null,
      "outputs": [
        {
          "output_type": "stream",
          "name": "stdout",
          "text": [
            "Enter your username: swati\n",
            "Enter your password: 123456\n",
            "Invalid username or password.\n"
          ]
        }
      ]
    },
    {
      "cell_type": "markdown",
      "source": [
        "11. Write a Python program that counts the number of vovels in a given string."
      ],
      "metadata": {
        "id": "r1Xr521HAQc-"
      }
    },
    {
      "cell_type": "code",
      "source": [
        "def check_vowels(s):\n",
        "  vowel=['a','e','i','o','u','A','E','I','U','O']\n",
        "  for s in vowel:\n",
        "    return True\n",
        "  else:\n",
        "    return False\n",
        "def count_vowels(s):\n",
        "  count=0\n",
        "  for i in s:\n",
        "    count +=1\n",
        "    return count\n",
        "\n",
        "s = \"a\"\n",
        "print(check_vowels(s))\n",
        "print(count_vowels(s))"
      ],
      "metadata": {
        "colab": {
          "base_uri": "https://localhost:8080/"
        },
        "id": "kPbhYm520GAE",
        "outputId": "6e1ceaab-8c9d-4a97-c3ae-f3adbf1fc38d"
      },
      "execution_count": null,
      "outputs": [
        {
          "output_type": "stream",
          "name": "stdout",
          "text": [
            "True\n",
            "1\n"
          ]
        }
      ]
    },
    {
      "cell_type": "markdown",
      "source": [
        "12. Create a function that removes all whitespace from a user-inputted string"
      ],
      "metadata": {
        "id": "QpYepYLNC0MO"
      }
    },
    {
      "cell_type": "code",
      "source": [
        "def string_a(text):\n",
        "  return text.replace(\" \", \"\")\n",
        "\n",
        "text =\"swati prajapati\"\n",
        "print(string_a(\"swati prajapati\"))"
      ],
      "metadata": {
        "colab": {
          "base_uri": "https://localhost:8080/"
        },
        "id": "bnu7dAYP0Jdk",
        "outputId": "d0681447-da57-4ba1-c9aa-fc89bab288c2"
      },
      "execution_count": null,
      "outputs": [
        {
          "output_type": "stream",
          "name": "stdout",
          "text": [
            "swatiprajapati\n"
          ]
        }
      ]
    },
    {
      "cell_type": "markdown",
      "source": [
        "13. Implement a program to check if two strings are anagrams of each other."
      ],
      "metadata": {
        "id": "LSoOtgZdEl3P"
      }
    },
    {
      "cell_type": "code",
      "source": [
        "def are_anagrams(str1, str2):\n",
        "\n",
        "  str1 = str1.lower().replace(\" \", \"\")\n",
        "  str2 = str2.lower().replace(\" \", \"\")\n",
        "\n",
        "  return sorted(str1) == sorted(str2)\n",
        "\n",
        "string1 = input(\"Enter the first string: \")\n",
        "string2 = input(\"Enter the second string: \")\n",
        "\n",
        "if are_anagrams(string1, string2):\n",
        "  print(\"The strings are anagrams.\")\n",
        "else:\n",
        "  print(\"The strings are not anagrams.\")"
      ],
      "metadata": {
        "colab": {
          "base_uri": "https://localhost:8080/"
        },
        "id": "YnQtUyqq0MMD",
        "outputId": "cce413b1-affb-4790-d6a0-e348c7656fb1"
      },
      "execution_count": null,
      "outputs": [
        {
          "output_type": "stream",
          "name": "stdout",
          "text": [
            "Enter the first string: swati\n",
            "Enter the second string: prajapati\n",
            "The strings are not anagrams.\n"
          ]
        }
      ]
    },
    {
      "cell_type": "markdown",
      "source": [
        "14. Write a program to count the frequency of words in a given sentence"
      ],
      "metadata": {
        "id": "pI36on38Hmgd"
      }
    },
    {
      "cell_type": "code",
      "source": [
        "def frequency(sentence):\n",
        "    words = sentence.split()\n",
        "\n",
        "    word_count = {}\n",
        "\n",
        "    for word in words:\n",
        "        word = word.lower()\n",
        "        if word in word_count:\n",
        "            word_count[word] += 1\n",
        "        else:\n",
        "            word_count[word] = 1\n",
        "\n",
        "    return word_count\n",
        "\n",
        "sentence = input(\"Enter a sentence: \")\n",
        "result = frequency(sentence)\n",
        "\n",
        "print(\"Word frequency count:\")\n",
        "for word, count in result.items():\n",
        "    print(f\"{word}: {count}\")"
      ],
      "metadata": {
        "colab": {
          "base_uri": "https://localhost:8080/"
        },
        "id": "4-3vFhR60PoE",
        "outputId": "965a69cc-ff02-4aa1-83a0-9d579d6afa0b"
      },
      "execution_count": null,
      "outputs": [
        {
          "output_type": "stream",
          "name": "stdout",
          "text": [
            "Enter a sentence: this  is  a car and car is blue\n",
            "Word frequency count:\n",
            "this: 1\n",
            "is: 2\n",
            "a: 1\n",
            "car: 2\n",
            "and: 1\n",
            "blue: 1\n"
          ]
        }
      ]
    },
    {
      "cell_type": "markdown",
      "source": [
        "15. Create a fuinction that replaces every occurrence of a substring with another substring in a string"
      ],
      "metadata": {
        "id": "8774csQdJbFl"
      }
    },
    {
      "cell_type": "code",
      "source": [
        "input_string = \"swatiprajapati\"\n",
        "s1 = \"swati\"\n",
        "s2 = \"rajeshwari\"\n",
        "input_string = input_string.replace(s1, s2)\n",
        "print(input_string)"
      ],
      "metadata": {
        "colab": {
          "base_uri": "https://localhost:8080/"
        },
        "id": "yfeoJMAB0SWT",
        "outputId": "f8463f35-10ae-46ea-9507-8c2c3b12a51e"
      },
      "execution_count": null,
      "outputs": [
        {
          "output_type": "stream",
          "name": "stdout",
          "text": [
            "rajeshwariprajapati\n"
          ]
        }
      ]
    },
    {
      "cell_type": "markdown",
      "source": [
        "16. Write a program that generates the first 10 Fibonacci numbers using iteration"
      ],
      "metadata": {
        "id": "qo0aGSEtaESl"
      }
    },
    {
      "cell_type": "code",
      "source": [
        "num1 = 0\n",
        "num2 = 1\n",
        "next_number = num1\n",
        "count = 1\n",
        "\n",
        "while count <= 10:\n",
        "    print(next_number, end=\" \")\n",
        "    count += 1\n",
        "    num1 = num2\n",
        "    num2 = next_number\n",
        "    next_number = num1 + num2\n",
        "print()"
      ],
      "metadata": {
        "colab": {
          "base_uri": "https://localhost:8080/"
        },
        "id": "91NWT8PT0Vus",
        "outputId": "cad458b5-aeb3-4b30-cede-dda6e49bf2a5"
      },
      "execution_count": null,
      "outputs": [
        {
          "output_type": "stream",
          "name": "stdout",
          "text": [
            "0 1 1 2 3 5 8 13 21 34 \n"
          ]
        }
      ]
    },
    {
      "cell_type": "markdown",
      "source": [
        "17. Create a program that sums all ever numbers from 1 to 100"
      ],
      "metadata": {
        "id": "bWaYOtzzbl1U"
      }
    },
    {
      "cell_type": "code",
      "source": [
        "total = 0\n",
        "for num in range(1,101):\n",
        "  if num % 2 ==0:\n",
        "    total += num\n",
        "print(\" sum is all ever numbers from 1 to 100\")\n",
        "print(\"total\",total)"
      ],
      "metadata": {
        "colab": {
          "base_uri": "https://localhost:8080/"
        },
        "id": "q-yWNHDA0bhc",
        "outputId": "c1afef74-f4fb-4bb3-85d3-6f921c0dfaba"
      },
      "execution_count": null,
      "outputs": [
        {
          "output_type": "stream",
          "name": "stdout",
          "text": [
            " sum is all ever numbers from 1 to 100\n",
            "total 2550\n"
          ]
        }
      ]
    },
    {
      "cell_type": "markdown",
      "source": [
        "18. Write a Python script that prints the multiplication table of a user-defined\n",
        "number."
      ],
      "metadata": {
        "id": "9v9bsHnneHez"
      }
    },
    {
      "cell_type": "code",
      "source": [
        "num = int (input(\"enter a number\"))\n",
        "\n",
        "for i in range(1, 11):\n",
        "   print(num, 'x', i, '=', num*i)"
      ],
      "metadata": {
        "colab": {
          "base_uri": "https://localhost:8080/"
        },
        "id": "2IkHstHo0eEj",
        "outputId": "c982c62c-884f-44aa-99cc-67c277e8bd9b"
      },
      "execution_count": null,
      "outputs": [
        {
          "output_type": "stream",
          "name": "stdout",
          "text": [
            "enter a number2\n",
            "2 x 1 = 2\n",
            "2 x 2 = 4\n",
            "2 x 3 = 6\n",
            "2 x 4 = 8\n",
            "2 x 5 = 10\n",
            "2 x 6 = 12\n",
            "2 x 7 = 14\n",
            "2 x 8 = 16\n",
            "2 x 9 = 18\n",
            "2 x 10 = 20\n"
          ]
        }
      ]
    },
    {
      "cell_type": "markdown",
      "source": [
        "19. Develop a program that calculates the factorial of a number using a loop"
      ],
      "metadata": {
        "id": "QY8YELQXfadZ"
      }
    },
    {
      "cell_type": "code",
      "source": [
        "num = 3\n",
        "factorial = 1\n",
        "\n",
        "if num < 0:\n",
        "   print(\"factorial not exist for negative numbers\")\n",
        "elif num == 0:\n",
        "   print(\"factorial of 0 is 1\")\n",
        "else:\n",
        "   for i in range(1,num + 1):\n",
        "       factorial = factorial*i\n",
        "   print(\"The factorial of\",num,\"is\",factorial)"
      ],
      "metadata": {
        "colab": {
          "base_uri": "https://localhost:8080/"
        },
        "id": "dxy0ipEY0ii8",
        "outputId": "88dba5b0-a9e1-4aa8-c056-2e9c5cbe2803"
      },
      "execution_count": null,
      "outputs": [
        {
          "output_type": "stream",
          "name": "stdout",
          "text": [
            "The factorial of 3 is 6\n"
          ]
        }
      ]
    },
    {
      "cell_type": "markdown",
      "source": [
        "20. Create a function that lists all prime numbers up to a specified limit."
      ],
      "metadata": {
        "id": "CK8x8F-khnWB"
      }
    },
    {
      "cell_type": "code",
      "source": [
        "def prime(x, y):\n",
        "    prime_list = []\n",
        "    for i in range(x, y):\n",
        "        if i == 0 or i == 1:\n",
        "            continue\n",
        "        else:\n",
        "            for j in range(2, int(i/2)+1):\n",
        "                if i % j == 0:\n",
        "                    break\n",
        "            else:\n",
        "                prime_list.append(i)\n",
        "    return prime_list\n",
        "\n",
        "starting_range = 1\n",
        "ending_range = 15\n",
        "lst = prime(starting_range, ending_range)\n",
        "if len(lst) == 0:\n",
        "    print(\"There are no prime numbers in this range\")\n",
        "else:\n",
        "    print(\"The prime numbers in this range are: \", lst)"
      ],
      "metadata": {
        "colab": {
          "base_uri": "https://localhost:8080/"
        },
        "id": "LhQ6veWc0l6r",
        "outputId": "718907c8-0486-4c32-a48e-947178f5b6a2"
      },
      "execution_count": null,
      "outputs": [
        {
          "output_type": "stream",
          "name": "stdout",
          "text": [
            "The prime numbers in this range are:  [2, 3, 5, 7, 11, 13]\n"
          ]
        }
      ]
    },
    {
      "cell_type": "markdown",
      "source": [
        "21. Write a function that calculates the greatest common divisor (GCD) of two numbers."
      ],
      "metadata": {
        "id": "8ZvfEnBlj7YH"
      }
    },
    {
      "cell_type": "code",
      "source": [
        "def gcd(a, b):\n",
        "    while b != 0:\n",
        "        a , b = b , a % b\n",
        "    return a\n",
        "\n",
        "x = 48\n",
        "y = 18\n",
        "print(f\"The GCD of {x} and {y} is {gcd(x, y)}\")"
      ],
      "metadata": {
        "colab": {
          "base_uri": "https://localhost:8080/"
        },
        "id": "O0_svf360ofU",
        "outputId": "60c7581d-f5ec-4397-bb52-3a1f63fdf251"
      },
      "execution_count": null,
      "outputs": [
        {
          "output_type": "stream",
          "name": "stdout",
          "text": [
            "The GCD of 48 and 18 is 6\n"
          ]
        }
      ]
    },
    {
      "cell_type": "markdown",
      "source": [
        "22. Create a Python function that takes a list of numbers and returns the largest number"
      ],
      "metadata": {
        "id": "PXXi6Zl-q1I0"
      }
    },
    {
      "cell_type": "code",
      "source": [
        "a = [10, 24, 76, 23, 12]\n",
        "\n",
        "largest = max(a)\n",
        "print(largest)"
      ],
      "metadata": {
        "colab": {
          "base_uri": "https://localhost:8080/"
        },
        "id": "6CyhtXFL0rC8",
        "outputId": "ce6f57f1-2430-43e4-9990-e97119895c9d"
      },
      "execution_count": null,
      "outputs": [
        {
          "output_type": "stream",
          "name": "stdout",
          "text": [
            "76\n"
          ]
        }
      ]
    },
    {
      "cell_type": "markdown",
      "source": [
        "23.\tImplement a function for finding the factorial of a number using recursion."
      ],
      "metadata": {
        "id": "5KgtMiB60B53"
      }
    },
    {
      "cell_type": "code",
      "source": [
        "def Recursion(num):\n",
        "  if num == 1:\n",
        "    return 1\n",
        "  else:\n",
        "    return num* Recursion(num-1)\n",
        "\n",
        "num = 5\n",
        "Recursion(num)"
      ],
      "metadata": {
        "colab": {
          "base_uri": "https://localhost:8080/"
        },
        "id": "LMs8m4j40txs",
        "outputId": "4bde2e81-ecb8-4c8b-9c8a-b0773e1f95e3"
      },
      "execution_count": null,
      "outputs": [
        {
          "output_type": "execute_result",
          "data": {
            "text/plain": [
              "120"
            ]
          },
          "metadata": {},
          "execution_count": 29
        }
      ]
    },
    {
      "cell_type": "markdown",
      "source": [
        "24.\tWrite a program that utilizes global variables and demonstrates their use in functions."
      ],
      "metadata": {
        "id": "z4lQIG7a1pyH"
      }
    },
    {
      "cell_type": "code",
      "source": [
        "G_var = 10\n",
        "\n",
        "def modify_global():\n",
        "  global G_var\n",
        "  G_var = 31\n",
        "\n",
        "def access_global():\n",
        "  print(G_var)\n",
        "\n",
        "access_global()\n",
        "modify_global()\n",
        "access_global()"
      ],
      "metadata": {
        "colab": {
          "base_uri": "https://localhost:8080/"
        },
        "id": "1E1MbxOY0w6T",
        "outputId": "e747b06f-ed18-444c-9a7e-a422c3f5caac"
      },
      "execution_count": null,
      "outputs": [
        {
          "output_type": "stream",
          "name": "stdout",
          "text": [
            "10\n",
            "31\n"
          ]
        }
      ]
    },
    {
      "cell_type": "markdown",
      "source": [
        "25.\tDevelop a module that contains utility functions for string manipulations."
      ],
      "metadata": {
        "id": "VlxfouqO6Q8V"
      }
    },
    {
      "cell_type": "code",
      "source": [
        "import string\n",
        "\n",
        "print(string.ascii_letters)\n",
        "\n",
        "print(string.ascii_lowercase)\n",
        "\n",
        "print(string.ascii_uppercase)\n",
        "\n",
        "print(string.digits)\n",
        "\n",
        "print(string.hexdigits)\n",
        "\n",
        "print(string.octdigits)\n",
        "\n",
        "print(string.punctuation)\n",
        "\n",
        "print(string.printable)\n",
        "\n",
        "print(string.whitespace)"
      ],
      "metadata": {
        "colab": {
          "base_uri": "https://localhost:8080/"
        },
        "id": "U0yLrzaK00Zj",
        "outputId": "6002bef3-a154-426e-e90f-b4406d44bd51"
      },
      "execution_count": null,
      "outputs": [
        {
          "output_type": "stream",
          "name": "stdout",
          "text": [
            "abcdefghijklmnopqrstuvwxyzABCDEFGHIJKLMNOPQRSTUVWXYZ\n",
            "abcdefghijklmnopqrstuvwxyz\n",
            "ABCDEFGHIJKLMNOPQRSTUVWXYZ\n",
            "0123456789\n",
            "0123456789abcdefABCDEF\n",
            "01234567\n",
            "!\"#$%&'()*+,-./:;<=>?@[\\]^_`{|}~\n",
            "0123456789abcdefghijklmnopqrstuvwxyzABCDEFGHIJKLMNOPQRSTUVWXYZ!\"#$%&'()*+,-./:;<=>?@[\\]^_`{|}~ \t\n",
            "\r\u000b\f\n",
            " \t\n",
            "\r\u000b\f\n"
          ]
        }
      ]
    },
    {
      "cell_type": "markdown",
      "source": [
        "26.\tWrite a simple testing script that verifies the functionality of your calculator from a previous assignment."
      ],
      "metadata": {
        "id": "2uOAdyVH61VU"
      }
    },
    {
      "cell_type": "code",
      "source": [
        "def calc(a,num1,num2):\n",
        "  if a == 1:\n",
        "    return num1 + num2\n",
        "  if a == 2:\n",
        "    return num1 - num2\n",
        "  if a == 3:\n",
        "    return num1 * num2\n",
        "  if a == 4:\n",
        "    return num1 / num2\n",
        "  else:\n",
        "    print(\"invaid statament\")\n",
        "\n",
        "calc(2,24,12)"
      ],
      "metadata": {
        "colab": {
          "base_uri": "https://localhost:8080/"
        },
        "id": "5HH0H2fn03CU",
        "outputId": "f3b53005-ec15-4b29-e186-7f9a2efea08a"
      },
      "execution_count": null,
      "outputs": [
        {
          "output_type": "execute_result",
          "data": {
            "text/plain": [
              "12"
            ]
          },
          "metadata": {},
          "execution_count": 32
        }
      ]
    },
    {
      "cell_type": "markdown",
      "source": [
        "27.\tCreate a program that includes debugging statements to show the flow of execution."
      ],
      "metadata": {
        "id": "BPJPoEp367al"
      }
    },
    {
      "cell_type": "code",
      "source": [
        "def add_numbers(a, b):\n",
        "    print(f\"Entering add_numbers function with arguments: a = {a}, b = {b}\")\n",
        "    result = a + b\n",
        "    print(f\"Result of addition: {result}\")\n",
        "    return result\n",
        "def main():\n",
        "    print(\"Program started.\")\n",
        "\n",
        "    # Variables to test the functions\n",
        "    num1 = 5\n",
        "    num2 = 10\n",
        "\n",
        "    print(f\"Calling add_numbers with {num1} and {num2}\")\n",
        "    addition_result = add_numbers(num1, num2)\n",
        "\n",
        "    print(f\"Addition result: {addition_result}\")\n",
        "\n",
        "    print(\"Program ended.\")\n",
        "\n",
        "if __name__ == \"__main__\":\n",
        "    main()"
      ],
      "metadata": {
        "colab": {
          "base_uri": "https://localhost:8080/"
        },
        "id": "EdVDjLo6059b",
        "outputId": "11dcf2e8-eaba-4024-a7c9-f4a36b998e97"
      },
      "execution_count": null,
      "outputs": [
        {
          "output_type": "stream",
          "name": "stdout",
          "text": [
            "Program started.\n",
            "Calling add_numbers with 5 and 10\n",
            "Entering add_numbers function with arguments: a = 5, b = 10\n",
            "Result of addition: 15\n",
            "Addition result: 15\n",
            "Program ended.\n"
          ]
        }
      ]
    },
    {
      "cell_type": "markdown",
      "source": [
        "28.\tImplement a function and write unit tests to confirm its correctness using assertions"
      ],
      "metadata": {
        "id": "oSVEQRgEx7Oh"
      }
    },
    {
      "cell_type": "code",
      "source": [
        "def factorial(n):\n",
        "    if n < 0:\n",
        "        print(\"Input must be a non-negative integer\")\n",
        "    if n == 0:\n",
        "        return 1\n",
        "    result = 1\n",
        "    if n>0:\n",
        "      return n*factorial(n-1)\n",
        "\n",
        "def test_factorial():\n",
        "    # Test factorial of 0\n",
        "    assert factorial(0) == 1, \"Test Case 1 Failed\"\n",
        "\n",
        "    # Test factorial of 1\n",
        "    assert factorial(1) == 1, \"Test Case 2 Failed\"\n",
        "\n",
        "    # Test factorial of 2\n",
        "    assert factorial(2) == 2, \"Test Case 3 Failed\"\n",
        "\n",
        "    # Test factorial of 3\n",
        "    assert factorial(3) == 6, \"Test Case 4 Failed\"\n",
        "\n",
        "    # Test factorial of 4\n",
        "    assert factorial(4) == 24, \"Test Case 5 Failed\"\n",
        "\n",
        "    # Test factorial of 5\n",
        "    assert factorial(5) == 120, \"Test Case 6 Failed\"\n",
        "\n",
        "    print(\"All test cases passed!\")\n",
        "\n",
        "print(factorial(5))\n",
        "test_factorial()"
      ],
      "metadata": {
        "colab": {
          "base_uri": "https://localhost:8080/"
        },
        "id": "LXZ3YAhj0_Mk",
        "outputId": "75826f74-b114-4e23-bac9-73273c2b5f0d"
      },
      "execution_count": null,
      "outputs": [
        {
          "output_type": "stream",
          "name": "stdout",
          "text": [
            "120\n",
            "All test cases passed!\n"
          ]
        }
      ]
    },
    {
      "cell_type": "markdown",
      "source": [
        "29.\tWrite a program that intentionally has a bug, and then demonstrate how to fix it."
      ],
      "metadata": {
        "id": "tKq8rFng7ElN"
      }
    },
    {
      "cell_type": "code",
      "source": [
        "def calculate_average(numbers):\n",
        "    if len(numbers) == 0:\n",
        "        return None\n",
        "\n",
        "    total = 0\n",
        "    for number in numbers:\n",
        "        total += number\n",
        "\n",
        "    return total / len(numbers)\n",
        "\n",
        "numbers = []\n",
        "result = calculate_average(numbers)\n",
        "\n",
        "if result is None:\n",
        "    print(\"Cannot calculate the average: The list is empty.\")\n",
        "else:\n",
        "    print(\"Average:\", result)"
      ],
      "metadata": {
        "colab": {
          "base_uri": "https://localhost:8080/"
        },
        "id": "eNHO7kHD1DE0",
        "outputId": "ace8538b-702b-4532-ec1f-5f318b9e5454"
      },
      "execution_count": null,
      "outputs": [
        {
          "output_type": "stream",
          "name": "stdout",
          "text": [
            "Cannot calculate the average: The list is empty.\n"
          ]
        }
      ]
    },
    {
      "cell_type": "markdown",
      "source": [
        "30.\tCreate a logging system that tracks function calls and their parameters."
      ],
      "metadata": {
        "id": "OLtkg29C7JJV"
      }
    },
    {
      "cell_type": "code",
      "source": [
        "import logging\n",
        "from functools import wraps\n",
        "\n",
        "logging.basicConfig(level=logging.INFO, format='%(asctime)s - %(message)s')\n",
        "logger = logging.getLogger(__name__)\n",
        "\n",
        "def log_function_call(func):\n",
        "    @wraps(func)\n",
        "    def wrapper(*args, **kwargs):\n",
        "        logger.info(f\"Calling function: {func.__name__} with arguments: {args} and keyword arguments: {kwargs}\")\n",
        "\n",
        "        result = func(*args, **kwargs)\n",
        "\n",
        "        logger.info(f\"Function: {func.__name__} returned: {result}\")\n",
        "\n",
        "        return result\n",
        "    return wrapper\n",
        "\n",
        "@log_function_call\n",
        "def add(a, b):\n",
        "    return a + b\n",
        "\n",
        "@log_function_call\n",
        "def greet(name, greeting=\"Hello\"):\n",
        "    return f\"{greeting}, {name}!\"\n",
        "\n",
        "@log_function_call\n",
        "def multiply(x, y):\n",
        "    return x * y\n",
        "\n",
        "add(2, 3)\n",
        "greet(\"Alice\", greeting=\"Hi\")\n",
        "multiply(4, 5)\n"
      ],
      "metadata": {
        "colab": {
          "base_uri": "https://localhost:8080/"
        },
        "id": "rvChnyBU1RUs",
        "outputId": "135eaaf1-95d7-47e7-c099-4c9e2cb66e7d"
      },
      "execution_count": null,
      "outputs": [
        {
          "output_type": "execute_result",
          "data": {
            "text/plain": [
              "20"
            ]
          },
          "metadata": {},
          "execution_count": 36
        }
      ]
    },
    {
      "cell_type": "markdown",
      "source": [
        "31.\tWrite a Python script to demonstrate the usage of tuples for storing coordinates."
      ],
      "metadata": {
        "id": "jWzN8VeD7MlE"
      }
    },
    {
      "cell_type": "code",
      "source": [
        "point1 = (2, 3)  # Represents x = 2, y = 3\n",
        "point2 = (5, 7)  # Represents x = 5, y = 7\n",
        "\n",
        "x1, y1 = point1  # Unpacking the tuple\n",
        "x2, y2 = point2\n",
        "\n",
        "print(x1,y1)\n",
        "print(x2,y2)\n",
        "\n",
        "distance = ((x2 - x1)**2 + (y2 - y1)**2)**0.5\n",
        "print(f\"Distance between points: {distance}\")"
      ],
      "metadata": {
        "colab": {
          "base_uri": "https://localhost:8080/"
        },
        "id": "WxxrlUSl1bDb",
        "outputId": "01ef5120-1a6b-4b17-a63b-41430ea88305"
      },
      "execution_count": null,
      "outputs": [
        {
          "output_type": "stream",
          "name": "stdout",
          "text": [
            "2 3\n",
            "5 7\n",
            "Distance between points: 5.0\n"
          ]
        }
      ]
    },
    {
      "cell_type": "markdown",
      "source": [
        "32.\tCreate a program that uses lists and demonstrates mutability by modifying the list items."
      ],
      "metadata": {
        "id": "Fuwg-qkj7Rfc"
      }
    },
    {
      "cell_type": "code",
      "source": [
        "list1 = ['a','b','c']\n",
        "print(list1)\n",
        "list1.append('d')\n",
        "print(list1)"
      ],
      "metadata": {
        "colab": {
          "base_uri": "https://localhost:8080/"
        },
        "id": "0VgAHLAe1dcj",
        "outputId": "030c965d-f82e-4d78-98f1-4b7bf5400639"
      },
      "execution_count": null,
      "outputs": [
        {
          "output_type": "stream",
          "name": "stdout",
          "text": [
            "['a', 'b', 'c']\n",
            "['a', 'b', 'c', 'd']\n"
          ]
        }
      ]
    },
    {
      "cell_type": "markdown",
      "source": [
        "33.\tImplement a higher-order function that takes another function as an argument and applies it to a list."
      ],
      "metadata": {
        "id": "-AVyG3sE7Wb7"
      }
    },
    {
      "cell_type": "code",
      "source": [
        "def sqr(x):\n",
        "  return x*x\n",
        "\n",
        "def func(func, lst):\n",
        "  result = []\n",
        "  for item in lst:\n",
        "    result.append(func(item))\n",
        "  return result\n",
        "\n",
        "numbers = [1, 2, 3, 4, 5]\n",
        "squared = func(sqr, numbers)\n",
        "print(squared)"
      ],
      "metadata": {
        "colab": {
          "base_uri": "https://localhost:8080/"
        },
        "id": "sArnqY5B1geT",
        "outputId": "8fd0cc1c-3c98-4671-8226-146d517075f0"
      },
      "execution_count": null,
      "outputs": [
        {
          "output_type": "stream",
          "name": "stdout",
          "text": [
            "[1, 4, 9, 16, 25]\n"
          ]
        }
      ]
    },
    {
      "cell_type": "markdown",
      "source": [
        "34.\tWrite a program to simulate a simple inventory system using dictionaries."
      ],
      "metadata": {
        "id": "62AQYN-I7bZE"
      }
    },
    {
      "cell_type": "code",
      "source": [
        "class InventorySystem:\n",
        "    def __init__(self):\n",
        "        self.inventory = {}\n",
        "\n",
        "    def add_item(self, item_name, quantity):\n",
        "        \"\"\"Adds a new item or updates an existing item in the inventory.\"\"\"\n",
        "        if item_name in self.inventory:\n",
        "            self.inventory[item_name] += quantity\n",
        "            print(f\"Updated {item_name} quantity to {self.inventory[item_name]}.\")\n",
        "        else:\n",
        "            self.inventory[item_name] = quantity\n",
        "            print(f\"Added {item_name} with quantity {quantity}.\")\n",
        "\n",
        "    def remove_item(self, item_name):\n",
        "        \"\"\"Removes an item from the inventory.\"\"\"\n",
        "        if item_name in self.inventory:\n",
        "            del self.inventory[item_name]\n",
        "            print(f\"Removed {item_name} from the inventory.\")\n",
        "        else:\n",
        "            print(f\"Item {item_name} not found in the inventory.\")\n",
        "\n",
        "    def update_quantity(self, item_name, quantity):\n",
        "        \"\"\"Updates the quantity of an existing item in the inventory.\"\"\"\n",
        "        if item_name in self.inventory:\n",
        "            self.inventory[item_name] = quantity\n",
        "            print(f\"Updated {item_name} to quantity {quantity}.\")\n",
        "        else:\n",
        "            print(f\"Item {item_name} not found in the inventory.\")\n",
        "\n",
        "    def display_inventory(self):\n",
        "        \"\"\"Displays the current inventory.\"\"\"\n",
        "        if self.inventory:\n",
        "            print(\"\\nCurrent Inventory:\")\n",
        "            for item_name, quantity in self.inventory.items():\n",
        "                print(f\"{item_name}: {quantity}\")\n",
        "        else:\n",
        "            print(\"Inventory is empty.\")\n",
        "\n",
        "def inventory_menu():\n",
        "    inventory_system = InventorySystem()\n",
        "\n",
        "    while True:\n",
        "        print(\"\\nInventory Menu:\")\n",
        "        print(\"1. Add Item\")\n",
        "        print(\"2. Remove Item\")\n",
        "        print(\"3. Update Item Quantity\")\n",
        "        print(\"4. Display Inventory\")\n",
        "        print(\"5. Exit\")\n",
        "\n",
        "        choice = input(\"Choose an option (1-5): \")\n",
        "\n",
        "        if choice == '1':\n",
        "            item_name = input(\"Enter item name: \")\n",
        "            quantity = int(input(\"Enter item quantity: \"))\n",
        "            inventory_system.add_item(item_name, quantity)\n",
        "\n",
        "        elif choice == '2':\n",
        "            item_name = input(\"Enter item name to remove: \")\n",
        "            inventory_system.remove_item(item_name)\n",
        "\n",
        "        elif choice == '3':\n",
        "            item_name = input(\"Enter item name to update: \")\n",
        "            quantity = int(input(\"Enter new quantity: \"))\n",
        "            inventory_system.update_quantity(item_name, quantity)\n",
        "\n",
        "        elif choice == '4':\n",
        "            inventory_system.display_inventory()\n",
        "\n",
        "        elif choice == '5':\n",
        "            print(\"Exiting the inventory system. Goodbye!\")\n",
        "            break\n",
        "\n",
        "        else:\n",
        "            print(\"Invalid choice. Please select a valid option.\")\n",
        "\n",
        "if __name__ == \"__main__\":\n",
        "    inventory_menu()\n"
      ],
      "metadata": {
        "colab": {
          "base_uri": "https://localhost:8080/"
        },
        "id": "4ehdKNWS1ilU",
        "outputId": "14e4238c-3184-4184-b127-ef3f25425a6e"
      },
      "execution_count": null,
      "outputs": [
        {
          "output_type": "stream",
          "name": "stdout",
          "text": [
            "\n",
            "Inventory Menu:\n",
            "1. Add Item\n",
            "2. Remove Item\n",
            "3. Update Item Quantity\n",
            "4. Display Inventory\n",
            "5. Exit\n",
            "Choose an option (1-5): 1\n",
            "Enter item name: 1\n",
            "Enter item quantity: 1\n",
            "Added 1 with quantity 1.\n",
            "\n",
            "Inventory Menu:\n",
            "1. Add Item\n",
            "2. Remove Item\n",
            "3. Update Item Quantity\n",
            "4. Display Inventory\n",
            "5. Exit\n",
            "Choose an option (1-5): 5\n",
            "Exiting the inventory system. Goodbye!\n"
          ]
        }
      ]
    },
    {
      "cell_type": "markdown",
      "source": [
        "35.\tCreate a function that sorts a list of dictionaries by a specified key."
      ],
      "metadata": {
        "id": "FqSVaQGZ7fmc"
      }
    },
    {
      "cell_type": "code",
      "source": [
        "list = [{\"name\": \"Nandini\", \"age\": 20},\n",
        "       {\"name\": \"Manjeet\", \"age\": 20},\n",
        "       {\"name\": \"Nikhil\", \"age\": 19}]\n",
        "\n",
        "print(\"list printed sorting by age: \")\n",
        "print(sorted(list, key=lambda i: i['age']))\n",
        "\n",
        "print(\"\\r\")\n",
        "\n",
        "print(\"list printed sorting by age and name: \")\n",
        "print(sorted(list, key=lambda i: (i['age'], i['name'])))\n",
        "\n",
        "print(\"\\r\")\n",
        "\n",
        "print(\"list printed sorting by age in descending order: \")\n",
        "print(sorted(list, key=lambda i: i['age'], reverse=True))"
      ],
      "metadata": {
        "id": "wg6QF4yl6poi"
      },
      "execution_count": null,
      "outputs": []
    },
    {
      "cell_type": "markdown",
      "source": [
        "36.\tWrite a program that reads a file and handles exceptions if the file does not exist."
      ],
      "metadata": {
        "id": "d6Zhey0jB1hq"
      }
    },
    {
      "cell_type": "code",
      "source": [
        "def read_file(file_name):\n",
        "    try:\n",
        "        with open(file_name, 'r') as file:\n",
        "            content = file.read()\n",
        "            print(content)\n",
        "    except FileNotFoundError:\n",
        "        print(f\"Error: The file '{file_name}' does not exist.\")\n",
        "    except Exception as e:\n",
        "        print(f\"An unexpected error occurred: {e}\")\n",
        "\n",
        "# Example usage\n",
        "file_name = input(\"Enter the file name: \")\n",
        "read_file(file_name)"
      ],
      "metadata": {
        "colab": {
          "base_uri": "https://localhost:8080/"
        },
        "id": "2uCm-7PR1_aD",
        "outputId": "be67b1ec-5de1-40ba-b1ad-d763e02b6dd4"
      },
      "execution_count": null,
      "outputs": [
        {
          "output_type": "stream",
          "name": "stdout",
          "text": [
            "Enter the file name: swww\n",
            "Error: The file 'swww' does not exist.\n"
          ]
        }
      ]
    },
    {
      "cell_type": "markdown",
      "source": [
        "37.\tCreate a function that raises an exception if the input is not a positive number."
      ],
      "metadata": {
        "id": "TXOXShlzCBuK"
      }
    },
    {
      "cell_type": "code",
      "source": [
        "def check_number(value):\n",
        "    if value <= 0:\n",
        "        raise ValueError(\"Input must be a positive number.\")\n",
        "    return value\n",
        "    try:\n",
        "        number = float(input(\"Enter a positive number: \"))\n",
        "        result = check_number(number)\n",
        "        print(f\"Valid positive number: {result}\")\n",
        "    except ValueError as e:\n",
        "        print(f\"Error: {e}\")\n",
        "        return value\n",
        "\n",
        "value = float(input(\"Enter a number: \"))\n",
        "check_number(value)"
      ],
      "metadata": {
        "colab": {
          "base_uri": "https://localhost:8080/"
        },
        "id": "c1YVORiE2CQb",
        "outputId": "2ee2ad5e-515c-43c0-e74f-d64f8dd028d8"
      },
      "execution_count": null,
      "outputs": [
        {
          "name": "stdout",
          "output_type": "stream",
          "text": [
            "Enter a number: 13\n"
          ]
        },
        {
          "output_type": "execute_result",
          "data": {
            "text/plain": [
              "13.0"
            ]
          },
          "metadata": {},
          "execution_count": 43
        }
      ]
    },
    {
      "cell_type": "markdown",
      "source": [
        "38.\tImplement a program that uses assertions to check the validity of user input."
      ],
      "metadata": {
        "id": "P8asskI7B7Bx"
      }
    },
    {
      "cell_type": "code",
      "source": [
        "def get_positive_integer():\n",
        "    user_input = input(\"Enter a positive integer: \")\n",
        "\n",
        "    # Check if the input is a valid positive integer using an assertion\n",
        "    try:\n",
        "        value = int(user_input)\n",
        "        assert value > 0, \"The number must be positive.\"\n",
        "        print(f\"Valid input: {value}\")\n",
        "    except ValueError:\n",
        "        print(\"Error: The input must be an integer.\")\n",
        "    except AssertionError as e:\n",
        "        print(f\"Error: {e}\")\n",
        "\n",
        "get_positive_integer()"
      ],
      "metadata": {
        "colab": {
          "base_uri": "https://localhost:8080/"
        },
        "id": "xhadbubD2Hdr",
        "outputId": "491d6596-8ebf-4548-9586-aeece75b12f9"
      },
      "execution_count": null,
      "outputs": [
        {
          "output_type": "stream",
          "name": "stdout",
          "text": [
            "Enter a positive integer: 45\n",
            "Valid input: 45\n"
          ]
        }
      ]
    },
    {
      "cell_type": "markdown",
      "source": [
        "39.\tWrite a function to demonstrate the use of try-except blocks when dividing numbers."
      ],
      "metadata": {
        "id": "NLpot5FpCGd5"
      }
    },
    {
      "cell_type": "code",
      "source": [
        "def divide_numbers():\n",
        "    try:\n",
        "        numerator = float(input(\"Enter the numerator: \"))\n",
        "        denominator = float(input(\"Enter the denominator: \"))\n",
        "        result = numerator / denominator\n",
        "        print(f\"The result of {numerator} divided by {denominator} is {result}.\")\n",
        "\n",
        "    except ZeroDivisionError:\n",
        "        print(\"Error: Cannot divide by zero.\")\n",
        "\n",
        "    except ValueError:\n",
        "        print(\"Error: Please enter valid numbers.\")\n",
        "\n",
        "    except Exception as e:\n",
        "        print(f\"An unexpected error occurred: {e}\")\n",
        "\n",
        "divide_numbers()"
      ],
      "metadata": {
        "colab": {
          "base_uri": "https://localhost:8080/"
        },
        "id": "kqFZ_q9a2KVz",
        "outputId": "77fe0824-0878-4e29-d7c5-4a7672949501"
      },
      "execution_count": null,
      "outputs": [
        {
          "output_type": "stream",
          "name": "stdout",
          "text": [
            "Enter the numerator: 12\n",
            "Enter the denominator: 2\n",
            "The result of 12.0 divided by 2.0 is 6.0.\n"
          ]
        }
      ]
    },
    {
      "cell_type": "markdown",
      "source": [
        "40.\tCreate a program that captures and logs exceptions thrown in a mathematical computation."
      ],
      "metadata": {
        "id": "c0nWAOITCs1S"
      }
    },
    {
      "cell_type": "code",
      "source": [
        "import logging\n",
        "\n",
        "logging.basicConfig(\n",
        "    filename='math_operations.log',\n",
        "    level=logging.ERROR,\n",
        "    format='%(asctime)s - %(levelname)s - %(message)s'\n",
        ")\n",
        "\n",
        "def perform_computation(x, y, operation):\n",
        "    try:\n",
        "        if operation == 'add':\n",
        "            result = x + y\n",
        "        elif operation == 'subtract':\n",
        "            result = x - y\n",
        "        elif operation == 'multiply':\n",
        "            result = x * y\n",
        "        elif operation == 'divide':\n",
        "            if y == 0:\n",
        "                raise ZeroDivisionError(\"Cannot divide by zero.\")\n",
        "            result = x / y\n",
        "        else:\n",
        "            raise ValueError(f\"Unknown operation: {operation}\")\n",
        "\n",
        "        return result\n",
        "\n",
        "    except Exception as e:\n",
        "        logging.error(f\"Exception occurred: {str(e)} | Operation: {operation} | x: {x}, y: {y}\")\n",
        "        return f\"Error: {str(e)}\"\n",
        "\n",
        "def main():\n",
        "    print(\"Result 1:\", perform_computation(10, 5, 'add'))\n",
        "    print(\"Result 2:\", perform_computation(10, 0, 'divide'))  # Will trigger division by zero\n",
        "    print(\"Result 3:\", perform_computation(10, 'a', 'multiply'))  # Will trigger a TypeError\n",
        "    print(\"Result 4:\", perform_computation(10, 5, 'unknown'))  # Will trigger a ValueError\n",
        "\n",
        "if __name__ == \"__main__\":\n",
        "    main()\n"
      ],
      "metadata": {
        "colab": {
          "base_uri": "https://localhost:8080/"
        },
        "id": "QN0UjlVj3UCL",
        "outputId": "c14d3383-26b3-422d-eda8-f7a2dd15628f"
      },
      "execution_count": null,
      "outputs": [
        {
          "output_type": "stream",
          "name": "stderr",
          "text": [
            "ERROR:root:Exception occurred: Cannot divide by zero. | Operation: divide | x: 10, y: 0\n",
            "ERROR:root:Exception occurred: Unknown operation: unknown | Operation: unknown | x: 10, y: 5\n"
          ]
        },
        {
          "output_type": "stream",
          "name": "stdout",
          "text": [
            "Result 1: 15\n",
            "Result 2: Error: Cannot divide by zero.\n",
            "Result 3: aaaaaaaaaa\n",
            "Result 4: Error: Unknown operation: unknown\n"
          ]
        }
      ]
    },
    {
      "cell_type": "markdown",
      "source": [
        "41.\tDefine a class for a Rectangle that calculates the area and perimeter."
      ],
      "metadata": {
        "id": "dfdtgJLL3sxC"
      }
    },
    {
      "cell_type": "code",
      "source": [
        "class Rectangle:\n",
        "    def __init__(self, length, width):\n",
        "        self.length = length\n",
        "        self.width = width\n",
        "\n",
        "    def calculate_area(self):\n",
        "        return self.length * self.width\n",
        "\n",
        "    def calculate_perimeter(self):\n",
        "        return 2*(self.length + self.width)\n",
        "\n",
        "o1= Rectangle(5, 8)\n",
        "result1 = o1.calculate_area()\n",
        "result2 = o1.calculate_perimeter()\n",
        "print(result1)\n",
        "print(result2)"
      ],
      "metadata": {
        "id": "ZwP5HN1p7EjL"
      },
      "execution_count": null,
      "outputs": []
    },
    {
      "cell_type": "markdown",
      "source": [
        "42.\tCreate a class that models a BankAccount with methods to deposit and withdraw funds."
      ],
      "metadata": {
        "id": "og4S8uY13vnJ"
      }
    },
    {
      "cell_type": "code",
      "source": [
        "class Bank_Account:\n",
        "\tdef __init__(self):\n",
        "\t\tself.balance=0\n",
        "\t\tprint(\"hello\")\n",
        "\n",
        "\tdef deposit(self):\n",
        "\t\tamount=float(input(\"Enter amount to be Deposited: \"))\n",
        "\t\tself.balance += amount\n",
        "\t\tprint(\"\\n Amount Deposited:\",amount)\n",
        "\n",
        "\tdef withdraw(self):\n",
        "\t\tamount = float(input(\"Enter amount to be Withdrawn: \"))\n",
        "\t\tif self.balance>=amount:\n",
        "\t\t\tself.balance-=amount\n",
        "\t\t\tprint(\"\\n You Withdraw:\", amount)\n",
        "\t\telse:\n",
        "\t\t\tprint(\"\\n Insufficient balance \")\n",
        "\n",
        "\tdef display(self):\n",
        "\t\tprint(\"\\n Net Available Balance=\",self.balance)\n",
        "\n",
        "s = Bank_Account()\n",
        "\n",
        "s.deposit()\n",
        "s.withdraw()\n",
        "s.display()"
      ],
      "metadata": {
        "id": "2yHBY1fD7IBD"
      },
      "execution_count": null,
      "outputs": []
    },
    {
      "cell_type": "markdown",
      "source": [
        "43.\tImplement inheritance by creating a Circle class that inherits from a Shape class."
      ],
      "metadata": {
        "id": "PjALCCtg3yRy"
      }
    },
    {
      "cell_type": "code",
      "source": [
        "class Shape:\n",
        "    def __eq__(self, other):\n",
        "        return False\n",
        "    def type(self):\n",
        "        return \"Shape\"\n",
        "\n",
        "class Circle(Shape):\n",
        "    def __init__(self, x, y, radius):\n",
        "        self.centre =(x,y)\n",
        "        self.radius = radius\n",
        "    def type(self):\n",
        "        return \"Circle\"\n",
        "\n",
        "c1 = Circle(1,2,3)\n",
        "print(c1.type)"
      ],
      "metadata": {
        "id": "jwCFRSlC7Ljq"
      },
      "execution_count": null,
      "outputs": []
    },
    {
      "cell_type": "markdown",
      "source": [
        "44.\tWrite a program that demonstrates encapsulation through private class members."
      ],
      "metadata": {
        "id": "D29iq48m36Ty"
      }
    },
    {
      "cell_type": "code",
      "source": [
        "class Base:\n",
        "    def __init__(self):\n",
        "        self.a = \"swati\"\n",
        "        self.__c = \"kashish\"\n",
        "\n",
        "# Creating a derived class\n",
        "class Derived(Base):\n",
        "    def __init__(self):\n",
        "        Base.__init__(self)\n",
        "        print(\"Calling private member of base class: \")\n",
        "        print(self.__c)\n",
        "\n",
        "\n",
        "# Driver code\n",
        "obj1 = Base()\n",
        "print(obj1.a)"
      ],
      "metadata": {
        "id": "RJIfhCDw7Obj"
      },
      "execution_count": null,
      "outputs": []
    },
    {
      "cell_type": "markdown",
      "source": [
        "45.\tCreate an abstract class Animal with subclasses for Dog and Cat."
      ],
      "metadata": {
        "id": "F71WSefl3-B5"
      }
    },
    {
      "cell_type": "code",
      "source": [
        "from abc import ABC, abstractmethod\n",
        "class Animal(ABC):\n",
        "  def move(self):\n",
        "    pass\n",
        "\n",
        "class Dog(Animal):\n",
        "  def move(self):\n",
        "    print(\"I can bark\")\n",
        "\n",
        "class cat(Animal):\n",
        "  def move(self):\n",
        "    print(\"I can Meow\")\n",
        "\n",
        "o1 = Dog()\n",
        "o1.move()\n",
        "o2 = cat()\n",
        "o2.move()"
      ],
      "metadata": {
        "id": "f-6HGcnD7VWq"
      },
      "execution_count": null,
      "outputs": []
    },
    {
      "cell_type": "markdown",
      "source": [
        "46.\tImplement a binary search algorithm on a sorted list of numbers."
      ],
      "metadata": {
        "id": "_OO9kYUR4CL6"
      }
    },
    {
      "cell_type": "code",
      "source": [
        "def search(arr, target):\n",
        "    low = 0\n",
        "    high = len(arr) - 1\n",
        "\n",
        "    while low <= high:\n",
        "        mid = (low + high) // 2\n",
        "\n",
        "        if arr[mid] == target:\n",
        "            return mid\n",
        "\n",
        "        elif arr[mid] > target:\n",
        "            high = mid - 1\n",
        "\n",
        "        else:\n",
        "            low = mid + 1\n",
        "\n",
        "    return -1\n",
        "\n",
        "arr = [1, 3, 5, 7, 9, 11, 13, 15]\n",
        "target = 7\n",
        "\n",
        "result = search(arr, target)\n",
        "\n",
        "if result != -1:\n",
        "    print(f\"Element found in list\")\n",
        "else:\n",
        "    print(f\"Element not found in the list.\")"
      ],
      "metadata": {
        "id": "JBgj9Cwc7Zba"
      },
      "execution_count": null,
      "outputs": []
    },
    {
      "cell_type": "markdown",
      "source": [
        "47.\tWrite a sorting algorithm (e.g., bubble sort) and test its functionality."
      ],
      "metadata": {
        "id": "16l0q2-G4Hba"
      }
    },
    {
      "cell_type": "code",
      "source": [
        "def bubble_sort(arr):\n",
        "\n",
        "    for n in range(len(arr) - 1, 0, -1):\n",
        "\n",
        "        swapped = False\n",
        "\n",
        "        for i in range(n):\n",
        "            if arr[i] > arr[i + 1]:\n",
        "\n",
        "                arr[i], arr[i + 1] = arr[i + 1], arr[i]\n",
        "\n",
        "                swapped = True\n",
        "\n",
        "        if not swapped:\n",
        "            break\n",
        "\n",
        "\n",
        "arr = [39, 12, 18, 85, 72, 10, 2, 18]\n",
        "print(\"Unsorted list is:\")\n",
        "print(arr)\n",
        "\n",
        "bubble_sort(arr)\n",
        "\n",
        "print(\"Sorted list is:\")\n",
        "print(arr)"
      ],
      "metadata": {
        "id": "KrDNkXJi7cSa"
      },
      "execution_count": null,
      "outputs": []
    },
    {
      "cell_type": "markdown",
      "source": [
        "48.\tCreate a program that utilizes a hashtable to store and retrieve key-value pairs."
      ],
      "metadata": {
        "id": "clNy_3j94KLa"
      }
    },
    {
      "cell_type": "code",
      "source": [
        "class Node:\n",
        "\tdef __init__(self, key, value):\n",
        "\t\tself.key = key\n",
        "\t\tself.value = value\n",
        "\t\tself.next = None\n",
        "\n",
        "\n",
        "class HashTable:\n",
        "\tdef __init__(self, capacity):\n",
        "\t\tself.capacity = capacity\n",
        "\t\tself.size = 0\n",
        "\t\tself.table = [None] * capacity\n",
        "\n",
        "\tdef _hash(self, key):\n",
        "\t\treturn hash(key) % self.capacity\n",
        "\n",
        "\tdef insert(self, key, value):\n",
        "\t\tindex = self._hash(key)\n",
        "\n",
        "\t\tif self.table[index] is None:\n",
        "\t\t\tself.table[index] = Node(key, value)\n",
        "\t\t\tself.size += 1\n",
        "\t\telse:\n",
        "\t\t\tcurrent = self.table[index]\n",
        "\t\t\twhile current:\n",
        "\t\t\t\tif current.key == key:\n",
        "\t\t\t\t\tcurrent.value = value\n",
        "\t\t\t\t\treturn\n",
        "\t\t\t\tcurrent = current.next\n",
        "\t\t\tnew_node = Node(key, value)\n",
        "\t\t\tnew_node.next = self.table[index]\n",
        "\t\t\tself.table[index] = new_node\n",
        "\t\t\tself.size += 1\n",
        "\n",
        "\tdef search(self, key):\n",
        "\t\tindex = self._hash(key)\n",
        "\n",
        "\t\tcurrent = self.table[index]\n",
        "\t\twhile current:\n",
        "\t\t\tif current.key == key:\n",
        "\t\t\t\treturn current.value\n",
        "\t\t\tcurrent = current.next\n",
        "\n",
        "\t\traise KeyError(key)\n",
        "\n",
        "\tdef remove(self, key):\n",
        "\t\tindex = self._hash(key)\n",
        "\n",
        "\t\tprevious = None\n",
        "\t\tcurrent = self.table[index]\n",
        "\n",
        "\t\twhile current:\n",
        "\t\t\tif current.key == key:\n",
        "\t\t\t\tif previous:\n",
        "\t\t\t\t\tprevious.next = current.next\n",
        "\t\t\t\telse:\n",
        "\t\t\t\t\tself.table[index] = current.next\n",
        "\t\t\t\tself.size -= 1\n",
        "\t\t\t\treturn\n",
        "\t\t\tprevious = current\n",
        "\t\t\tcurrent = current.next\n",
        "\n",
        "\t\traise KeyError(key)\n",
        "\n",
        "\tdef __len__(self):\n",
        "\t\treturn self.size\n",
        "\n",
        "\tdef __contains__(self, key):\n",
        "\t\ttry:\n",
        "\t\t\tself.search(key)\n",
        "\t\t\treturn True\n",
        "\t\texcept KeyError:\n",
        "\t\t\treturn False\n",
        "\n",
        "if __name__ == '__main__':\n",
        "\n",
        "\tht = HashTable(5)\n",
        "\n",
        "\tht.insert(\"apple\", 3)\n",
        "\tht.insert(\"banana\", 2)\n",
        "\tht.insert(\"cherry\", 5)\n",
        "\n",
        "\tprint(\"apple\" in ht)\n",
        "\tprint(\"durian\" in ht)\n",
        "\n",
        "\tprint(ht.search(\"banana\"))\n",
        "\n",
        "\tht.insert(\"banana\", 4)\n",
        "\tprint(ht.search(\"banana\"))\n",
        "\n",
        "\tht.remove(\"apple\")\n",
        "\tprint(len(ht))\n"
      ],
      "metadata": {
        "colab": {
          "base_uri": "https://localhost:8080/"
        },
        "id": "MPN3z9AM8Cx6",
        "outputId": "474b8ee0-afb9-4274-c219-df5092a3323c"
      },
      "execution_count": null,
      "outputs": [
        {
          "output_type": "stream",
          "name": "stdout",
          "text": [
            "True\n",
            "False\n",
            "2\n",
            "4\n",
            "2\n"
          ]
        }
      ]
    },
    {
      "cell_type": "markdown",
      "source": [
        "49.\tDevelop a function that sorts a list of dictionaries based on the values of a specific key"
      ],
      "metadata": {
        "id": "PxnVxVAu4Mu6"
      }
    },
    {
      "cell_type": "code",
      "source": [
        "d = {2: 5, 1: 2, 5: 12, 4: 11}\n",
        "\n",
        "print(\"Dictionary\", d)\n",
        "\n",
        "# Sorting and printing dictionary keys\n",
        "for i in sorted(d.keys()):\n",
        "    print(i, end=\" \")"
      ],
      "metadata": {
        "id": "FkK20O908fvC"
      },
      "execution_count": null,
      "outputs": []
    },
    {
      "cell_type": "markdown",
      "source": [
        "50.\tWrite a program that implements a breadth-first search for a graph structure."
      ],
      "metadata": {
        "id": "xrvKTIV74POq"
      }
    },
    {
      "cell_type": "code",
      "source": [
        "graph = {\n",
        "  '5' : ['3','7'],\n",
        "  '3' : ['2', '4'],\n",
        "  '7' : ['8'],\n",
        "  '2' : [],\n",
        "  '4' : ['8'],\n",
        "  '8' : []\n",
        "}\n",
        "\n",
        "visited = [] # List for visited nodes.\n",
        "queue = []     #Initialize a queue\n",
        "\n",
        "def bfs(visited, graph, node): #function for BFS\n",
        "  visited.append(node)\n",
        "  queue.append(node)\n",
        "\n",
        "  while queue:          # Creating loop to visit each node\n",
        "    m = queue.pop(0)\n",
        "    print (m, end = \" \")\n",
        "\n",
        "    for neighbour in graph[m]:\n",
        "      if neighbour not in visited:\n",
        "        visited.append(neighbour)\n",
        "        queue.append(neighbour)\n",
        "\n",
        "# Driver Code\n",
        "print(\"Following is the Breadth-First Search\")\n",
        "bfs(visited, graph, '5')    # function calling"
      ],
      "metadata": {
        "colab": {
          "base_uri": "https://localhost:8080/"
        },
        "id": "RPrAAJMY9mXa",
        "outputId": "63e1be21-ff7f-44e9-8885-6f8dff14211c"
      },
      "execution_count": null,
      "outputs": [
        {
          "output_type": "stream",
          "name": "stdout",
          "text": [
            "Following is the Breadth-First Search\n",
            "5 3 7 2 4 8 "
          ]
        }
      ]
    },
    {
      "cell_type": "markdown",
      "source": [
        "51.\tUse Matplotlib to plot a simple line graph representing a mathematical function."
      ],
      "metadata": {
        "id": "yN0Vo23l4TiB"
      }
    },
    {
      "cell_type": "code",
      "source": [
        "import matplotlib.pyplot as plt\n",
        "import numpy as np\n",
        "\n",
        "x = np.array([1, 2, 3, 4])\n",
        "y = x*2\n",
        "\n",
        "plt.plot(x, y)\n",
        "plt.show()"
      ],
      "metadata": {
        "colab": {
          "base_uri": "https://localhost:8080/",
          "height": 430
        },
        "id": "L472Bw-V9sNS",
        "outputId": "e2b71f1e-e3af-43ea-f59f-f9bf2be4ace8"
      },
      "execution_count": null,
      "outputs": [
        {
          "output_type": "display_data",
          "data": {
            "text/plain": [
              "<Figure size 640x480 with 1 Axes>"
            ],
            "image/png": "[encoded data removed]"
          },
          "metadata": {}
        }
      ]
    },
    {
      "cell_type": "markdown",
      "source": [
        "52.\tCreate a program that plots a scatter plot for random data points."
      ],
      "metadata": {
        "id": "XEvWe80W4WhC"
      }
    },
    {
      "cell_type": "code",
      "source": [
        "import matplotlib.pyplot as plt\n",
        "\n",
        "x = [5,7,8,7,2,17,2,9,4,11,12,9,6]\n",
        "y = [99,86,87,88,111,86,103,87,94,78,77,85,86]\n",
        "\n",
        "plt.scatter(x, y)\n",
        "plt.show()"
      ],
      "metadata": {
        "colab": {
          "base_uri": "https://localhost:8080/",
          "height": 430
        },
        "id": "vFMSqkiS9yh6",
        "outputId": "6871f835-2a14-4e61-a37c-74e313c91f44"
      },
      "execution_count": null,
      "outputs": [
        {
          "output_type": "display_data",
          "data": {
            "text/plain": [
              "<Figure size 640x480 with 1 Axes>"
            ],
            "image/png": "[encoded data removed]"
          },
          "metadata": {}
        }
      ]
    },
    {
      "cell_type": "markdown",
      "source": [
        "53.\tImplement a bar chart visualizing sales data over a month."
      ],
      "metadata": {
        "id": "qdfQtG7C4Zvi"
      }
    },
    {
      "cell_type": "code",
      "source": [
        "import matplotlib.pyplot as plt\n",
        "\n",
        "days = [\n",
        "    '1', '2', '3', '4', '5', '6', '7', '8', '9', '10',\n",
        "    '11', '12', '13', '14', '15', '16', '17', '18', '19', '20',\n",
        "    '21', '22', '23', '24', '25', '26', '27', '28', '29', '30'\n",
        "]\n",
        "sales = [\n",
        "    200, 250, 300, 150, 400, 350, 500, 600, 450, 550,\n",
        "    700, 650, 600, 500, 550, 600, 650, 700, 750, 800,\n",
        "    900, 850, 950, 1000, 1100, 1200, 1150, 1050, 1200, 1250\n",
        "]\n",
        "\n",
        "plt.figure(figsize=(10, 6))\n",
        "plt.bar(days, sales, color='skyblue')"
      ],
      "metadata": {
        "colab": {
          "base_uri": "https://localhost:8080/",
          "height": 539
        },
        "id": "tUBkFwAl92Sq",
        "outputId": "2d6c37a7-7a12-4ae4-a9ad-57fd7b872503"
      },
      "execution_count": null,
      "outputs": [
        {
          "output_type": "execute_result",
          "data": {
            "text/plain": [
              "<BarContainer object of 30 artists>"
            ]
          },
          "metadata": {},
          "execution_count": 57
        },
        {
          "output_type": "display_data",
          "data": {
            "text/plain": [
              "<Figure size 1000x600 with 1 Axes>"
            ],
            "image/png": "[encoded data removed]"
          },
          "metadata": {}
        }
      ]
    },
    {
      "cell_type": "markdown",
      "source": [
        "54.\tWrite a program that demonstrates plotting the Fibonacci sequence with PyLab."
      ],
      "metadata": {
        "id": "_JxEUK-O4c_S"
      }
    },
    {
      "cell_type": "code",
      "source": [
        "import numpy as np\n",
        "import matplotlib.pyplot as plt\n",
        "\n",
        "def fibonacci(n):\n",
        "    fib_seq = [0, 1]\n",
        "    for i in range(2, n):\n",
        "        fib_seq.append(fib_seq[-1] + fib_seq[-2])\n",
        "    return fib_seq\n",
        "\n",
        "num_terms = 20\n",
        "\n",
        "fib_seq = fibonacci(num_terms)\n",
        "\n",
        "x = np.arange(1, num_terms + 1)\n",
        "\n",
        "plt.plot(x, fib_seq, marker='o', color='b', label='Fibonacci Sequence')\n",
        "\n",
        "plt.xlabel('Term Number')\n",
        "plt.ylabel('Fibonacci Value')\n",
        "plt.title('Fibonacci Sequence')\n",
        "\n",
        "plt.legend()\n",
        "\n",
        "plt.grid(True)\n",
        "plt.show()"
      ],
      "metadata": {
        "colab": {
          "base_uri": "https://localhost:8080/",
          "height": 472
        },
        "id": "yuWZu0-E97sx",
        "outputId": "37db7ced-4162-42f4-e197-11b0852eff78"
      },
      "execution_count": null,
      "outputs": [
        {
          "output_type": "display_data",
          "data": {
            "text/plain": [
              "<Figure size 640x480 with 1 Axes>"
            ],
            "image/png": "[encoded data removed]"
          },
          "metadata": {}
        }
      ]
    },
    {
      "cell_type": "markdown",
      "source": [
        "55.\tCreate a function that plots the trajectory of a projectile motion."
      ],
      "metadata": {
        "id": "IDu5GyIq4jEa"
      }
    },
    {
      "cell_type": "code",
      "source": [
        "import numpy as np\n",
        "import matplotlib.pylab as plot\n",
        "\n",
        "v = 30\n",
        "g = -9.8\n",
        "\n",
        "theta = np.arange(25,65,5)\n",
        "\n",
        "t = ((2 * v) * np.sin(theta)) / g\n",
        "t1 = np.array(t)\n",
        "\n",
        "\n",
        "\n",
        "x = ((v * t1) * np.cos(theta))\n",
        "y = ((v * t1) * np.sin(theta)) - ((0.5 * g) * (t ** 2))\n",
        "\n",
        "plot.plot(x,y)\n",
        "plot.show()"
      ],
      "metadata": {
        "colab": {
          "base_uri": "https://localhost:8080/",
          "height": 445
        },
        "id": "jWAUCqxf-BIx",
        "outputId": "24c546f9-f555-4368-f2ef-ef3fe92725c1"
      },
      "execution_count": null,
      "outputs": [
        {
          "output_type": "display_data",
          "data": {
            "text/plain": [
              "<Figure size 640x480 with 1 Axes>"
            ],
            "image/png": "[encoded data removed]"
          },
          "metadata": {}
        }
      ]
    },
    {
      "cell_type": "markdown",
      "source": [
        "56.\tImplement the 0/1 knapsack algorithm to solve a simple problem."
      ],
      "metadata": {
        "id": "bgZ9Nnle4rji"
      }
    },
    {
      "cell_type": "code",
      "source": [
        "def knapSack(W, wt, val, n):\n",
        "   if n == 0 or W == 0 :\n",
        "      return 0\n",
        "   if (wt[n-1] > W):\n",
        "      return knapSack(W, wt, val, n-1)\n",
        "   else:\n",
        "      return max(val[n-1] + knapSack(W-wt[n-1], wt, val, n-1),\n",
        "         knapSack(W, wt, val, n-1))\n",
        "val = [50,100,150,200]\n",
        "wt = [8,16,32,40]\n",
        "W = 64\n",
        "n = len(val)\n",
        "print (knapSack(W, wt, val, n))"
      ],
      "metadata": {
        "colab": {
          "base_uri": "https://localhost:8080/"
        },
        "id": "rnKLMTEI-GWZ",
        "outputId": "144fab2f-6b84-438e-c442-00145cf37c77"
      },
      "execution_count": null,
      "outputs": [
        {
          "output_type": "stream",
          "name": "stdout",
          "text": [
            "350\n"
          ]
        }
      ]
    },
    {
      "cell_type": "markdown",
      "source": [
        "57.\tWrite a dynamic programming solution for finding the longest common subsequence."
      ],
      "metadata": {
        "id": "VUXkoX9K4u7y"
      }
    },
    {
      "cell_type": "code",
      "source": [
        "def lcs(X, Y):\n",
        "\t# find the length of the strings\n",
        "\tm = len(X)\n",
        "\tn = len(Y)\n",
        "\n",
        "\tL = [[None]*(n + 1) for i in range(m + 1)]\n",
        "\n",
        "\tfor i in range(m + 1):\n",
        "\t\tfor j in range(n + 1):\n",
        "\t\t\tif i == 0 or j == 0 :\n",
        "\t\t\t\tL[i][j] = 0\n",
        "\t\t\telif X[i-1] == Y[j-1]:\n",
        "\t\t\t\tL[i][j] = L[i-1][j-1]+1\n",
        "\t\t\telse:\n",
        "\t\t\t\tL[i][j] = max(L[i-1][j], L[i][j-1])\n",
        "\n",
        "\treturn L[m][n]\n",
        "X = \"AGGTAB\"\n",
        "Y = \"GXTXAYB\"\n",
        "print(\"Length of LCS is \", lcs(X, Y))"
      ],
      "metadata": {
        "colab": {
          "base_uri": "https://localhost:8080/"
        },
        "id": "KdfRCfQb-LxB",
        "outputId": "a0a33d77-8fb3-4fb4-e3fc-fea40588825a"
      },
      "execution_count": null,
      "outputs": [
        {
          "output_type": "stream",
          "name": "stdout",
          "text": [
            "Length of LCS is  4\n"
          ]
        }
      ]
    },
    {
      "cell_type": "markdown",
      "source": [
        "58.\tCreate a program to visualize dynamic programming approaches for the Fibonacci sequence."
      ],
      "metadata": {
        "id": "iBhmi5jE4yPx"
      }
    },
    {
      "cell_type": "code",
      "source": [
        "FibArray = [0, 1]\n",
        "\n",
        "def fibonacci(n):\n",
        "    if n<0:\n",
        "        print(\"Incorrect input\")\n",
        "    elif n<= len(FibArray):\n",
        "        return FibArray[n-1]\n",
        "    else:\n",
        "        temp_fib = fibonacci(n-1)+fibonacci(n-2)\n",
        "        FibArray.append(temp_fib)\n",
        "        return temp_fib\n",
        "\n",
        "print(fibonacci(9))"
      ],
      "metadata": {
        "colab": {
          "base_uri": "https://localhost:8080/"
        },
        "id": "PpcKVNUf-RD5",
        "outputId": "d2990d07-7a9d-429a-d240-c3e1f4e22851"
      },
      "execution_count": null,
      "outputs": [
        {
          "output_type": "stream",
          "name": "stdout",
          "text": [
            "21\n"
          ]
        }
      ]
    },
    {
      "cell_type": "markdown",
      "source": [
        "59.\tDevelop a divide-and-conquer algorithm to sort an array."
      ],
      "metadata": {
        "id": "7j1jwQkC41wB"
      }
    },
    {
      "cell_type": "code",
      "source": [
        "def divide_conq(arr1, arr2):\n",
        "    i = 0\n",
        "    j = 0\n",
        "    result = []\n",
        "    while(i < len(arr1) and j < len(arr2)):\n",
        "        if arr2[j] > arr1[i]:\n",
        "            result.append(arr1[i])\n",
        "            i += 1\n",
        "        else:\n",
        "            result.append(arr2[j])\n",
        "            j += 1\n",
        "\n",
        "    while(i < len(arr1)):\n",
        "        result.append(arr1[i])\n",
        "        i += 1\n",
        "    while(j < len(arr2)):\n",
        "        result.append(arr2[j])\n",
        "        j += 1\n",
        "    return result\n",
        "\n",
        "def d_c(arr):\n",
        "    if len(arr) <= 1:\n",
        "        return arr\n",
        "    mid = len(arr)//2\n",
        "    left = d_c(arr[:mid])\n",
        "    right = d_c(arr[mid:])\n",
        "\n",
        "    return divide_conq(left, right)\n",
        "\n",
        "if __name__ == '__main__':\n",
        "    arr = [12, 11, 13, 5, 6, 7]\n",
        "    print(\"Given array is\")\n",
        "    print(*arr)\n",
        "    arr = d_c(arr)\n",
        "    print(\"\\nSorted array is \")\n",
        "    print(*arr)"
      ],
      "metadata": {
        "colab": {
          "base_uri": "https://localhost:8080/"
        },
        "id": "4bhmpnTg-XeB",
        "outputId": "fe89e499-d83c-4692-c85e-b3c6e975098f"
      },
      "execution_count": null,
      "outputs": [
        {
          "output_type": "stream",
          "name": "stdout",
          "text": [
            "Given array is\n",
            "12 11 13 5 6 7\n",
            "\n",
            "Sorted array is \n",
            "5 6 7 11 12 13\n"
          ]
        }
      ]
    },
    {
      "cell_type": "markdown",
      "source": [
        "60.\tWrite a Python function that uses memoization to optimize a recursive problem"
      ],
      "metadata": {
        "id": "1iHIGpw545KC"
      }
    },
    {
      "cell_type": "code",
      "source": [
        "def facto(n):\n",
        "\tif n == 1:\n",
        "\t\treturn 1\n",
        "\telse:\n",
        "\t\treturn n * facto(n-1)\n",
        "\n",
        "print(facto(5))\n",
        "print(facto(5))"
      ],
      "metadata": {
        "colab": {
          "base_uri": "https://localhost:8080/"
        },
        "id": "Ic8jN1AL-c7h",
        "outputId": "a96de525-72ab-44db-cf7b-3268d67e10ab"
      },
      "execution_count": null,
      "outputs": [
        {
          "output_type": "stream",
          "name": "stdout",
          "text": [
            "120\n",
            "120\n"
          ]
        }
      ]
    },
    {
      "cell_type": "markdown",
      "source": [
        "61.\tCreate an application that manages a library system with classes for Book and Library."
      ],
      "metadata": {
        "id": "oOLqLWeOzmPz"
      }
    },
    {
      "cell_type": "code",
      "source": [
        "class Book:\n",
        "    def __init__(self, title, author, isbn):\n",
        "        self.title = title\n",
        "        self.author = author\n",
        "        self.isbn = isbn\n",
        "\n",
        "    def __str__(self):\n",
        "        return f\"'{self.title}' by {self.author} (ISBN: {self.isbn})\"\n",
        "\n",
        "class Library:\n",
        "    def __init__(self):\n",
        "        self.books = []\n",
        "\n",
        "    def add_book(self, book):\n",
        "        \"\"\"Add a new book to the library.\"\"\"\n",
        "        self.books.append(book)\n",
        "\n",
        "    def remove_book(self, isbn):\n",
        "        \"\"\"Remove a book from the library by ISBN.\"\"\"\n",
        "        for book in self.books:\n",
        "            if book.isbn == isbn:\n",
        "                self.books.remove(book)\n",
        "                print(f\"Book with ISBN {isbn} has been removed.\")\n",
        "                return\n",
        "        print(f\"No book found with ISBN {isbn}.\")\n",
        "\n",
        "    def search_by_title(self, title):\n",
        "        \"\"\"Search for books by title.\"\"\"\n",
        "        results = [book for book in self.books if title.lower() in book.title.lower()]\n",
        "        return results\n",
        "\n",
        "    def search_by_author(self, author):\n",
        "        \"\"\"Search for books by author.\"\"\"\n",
        "        results = [book for book in self.books if author.lower() in book.author.lower()]\n",
        "        return results\n",
        "\n",
        "    def list_books(self):\n",
        "        \"\"\"List all books in the library.\"\"\"\n",
        "        if not self.books:\n",
        "            print(\"No books available in the library.\")\n",
        "        else:\n",
        "            for book in self.books:\n",
        "                print(book)\n",
        "\n",
        "library = Library()\n",
        "# Create book instances\n",
        "book1 = Book(\"The Great Gatsby\", \"F. Scott Fitzgerald\", \"9780743273565\")\n",
        "book2 = Book(\"To Kill a Mockingbird\", \"Harper Lee\", \"9780061120084\")\n",
        "book3 = Book(\"1984\", \"George Orwell\", \"9780451524935\")\n",
        "\n",
        "# Add books to the library\n",
        "library.add_book(book1)\n",
        "library.add_book(book2)\n",
        "library.add_book(book3)\n",
        "\n",
        "# List all books in the library\n",
        "print(\"Books in the library:\")\n",
        "library.list_books()\n",
        "\n",
        "# Search for books by title\n",
        "print(\"\\nSearching for books with '1984' in the title:\")\n",
        "results = library.search_by_title(\"1984\")\n",
        "for book in results:\n",
        "    print(book)\n",
        "\n",
        "# Search for books by author\n",
        "print(\"\\nSearching for books by 'George Orwell':\")\n",
        "results = library.search_by_author(\"George Orwell\")\n",
        "for book in results:\n",
        "    print(book)\n",
        "\n",
        "# Remove a book by ISBN\n",
        "print(\"\\nRemoving a book with ISBN '9780061120084':\")\n",
        "library.remove_book(\"9780061120084\")\n",
        "\n",
        "# List all books after removal\n",
        "print(\"\\nBooks in the library after removal:\")\n",
        "library.list_books()\n"
      ],
      "metadata": {
        "colab": {
          "base_uri": "https://localhost:8080/"
        },
        "id": "cgSmPN8hzvzz",
        "outputId": "706eb919-743e-47d0-c4f0-523369e12460"
      },
      "execution_count": null,
      "outputs": [
        {
          "output_type": "stream",
          "name": "stdout",
          "text": [
            "Books in the library:\n",
            "'The Great Gatsby' by F. Scott Fitzgerald (ISBN: 9780743273565)\n",
            "'To Kill a Mockingbird' by Harper Lee (ISBN: 9780061120084)\n",
            "'1984' by George Orwell (ISBN: 9780451524935)\n",
            "\n",
            "Searching for books with '1984' in the title:\n",
            "'1984' by George Orwell (ISBN: 9780451524935)\n",
            "\n",
            "Searching for books by 'George Orwell':\n",
            "'1984' by George Orwell (ISBN: 9780451524935)\n",
            "\n",
            "Removing a book with ISBN '9780061120084':\n",
            "Book with ISBN 9780061120084 has been removed.\n",
            "\n",
            "Books in the library after removal:\n",
            "'The Great Gatsby' by F. Scott Fitzgerald (ISBN: 9780743273565)\n",
            "'1984' by George Orwell (ISBN: 9780451524935)\n"
          ]
        }
      ]
    },
    {
      "cell_type": "markdown",
      "source": [
        "62.\tImplement a simple game (e.g., Guess the Number) using branching and loops."
      ],
      "metadata": {
        "id": "i-HoqJIwz-9r"
      }
    },
    {
      "cell_type": "code",
      "source": [
        "import random\n",
        "\n",
        "def guess_the_number():\n",
        "    secret_number = random.randint(1, 100)  # Generate a random number between 1 and 100\n",
        "    guesses_left = 7  # Give the player 7 guesses\n",
        "\n",
        "    print(\"Welcome to Guess the Number!\")\n",
        "    print(\"I'm thinking of a number between 1 and 100.\")\n",
        "\n",
        "    while guesses_left > 0:\n",
        "        try:\n",
        "            guess = int(input(f\"You have {guesses_left} guesses left. Take a guess: \"))\n",
        "\n",
        "            if guess < secret_number:\n",
        "                print(\"Too low!\")\n",
        "            elif guess > secret_number:\n",
        "                print(\"Too high!\")\n",
        "            else:\n",
        "                print(f\"Congratulations! You guessed the number in {7 - guesses_left} tries.\")\n",
        "                return  # Exit the game loop\n",
        "\n",
        "            guesses_left -= 1\n",
        "\n",
        "        except ValueError:\n",
        "            print(\"Invalid input. Please enter a number.\")\n",
        "\n",
        "    print(f\"Sorry, you ran out of guesses. The number was {secret_number}.\")\n",
        "\n",
        "if __name__ == \"__main__\":\n",
        "    guess_the_number()"
      ],
      "metadata": {
        "colab": {
          "base_uri": "https://localhost:8080/"
        },
        "id": "PnWr-dGqAEh5",
        "outputId": "a88d7299-ed58-4829-8bd2-debf43c229de"
      },
      "execution_count": null,
      "outputs": [
        {
          "output_type": "stream",
          "name": "stdout",
          "text": [
            "Welcome to Guess the Number!\n",
            "I'm thinking of a number between 1 and 100.\n",
            "You have 7 guesses left. Take a guess: 87\n",
            "Too high!\n",
            "You have 6 guesses left. Take a guess: 98\n",
            "Too high!\n",
            "You have 5 guesses left. Take a guess: 99\n",
            "Too high!\n",
            "You have 4 guesses left. Take a guess: 96\n",
            "Too high!\n",
            "You have 3 guesses left. Take a guess: 97\n",
            "Too high!\n",
            "You have 2 guesses left. Take a guess: 86\n",
            "Too high!\n",
            "You have 1 guesses left. Take a guess: 88\n",
            "Too high!\n",
            "Sorry, you ran out of guesses. The number was 31.\n"
          ]
        }
      ]
    },
    {
      "cell_type": "markdown",
      "source": [
        "63.\tWrite a Python program that scrapes data from a website and processes it."
      ],
      "metadata": {
        "id": "0wK-KJ_Vz2Sj"
      }
    },
    {
      "cell_type": "code",
      "source": [
        "import requests\n",
        "from bs4 import BeautifulSoup\n",
        "\n",
        "def scrape_blog_titles(url):\n",
        "    response = requests.get(url)\n",
        "\n",
        "    if response.status_code == 200:\n",
        "        print(\"Successfully fetched the page\")\n",
        "    else:\n",
        "        print(f\"Failed to retrieve the page. Status code: {response.status_code}\")\n",
        "        return []\n",
        "    soup = BeautifulSoup(response.content, 'html.parser')\n",
        "\n",
        "    titles = soup.find_all('h2', class_='post-title')\n",
        "\n",
        "    title_list = [title.get_text(strip=True) for title in titles]\n",
        "\n",
        "    return title_list\n",
        "\n",
        "def main():\n",
        "    url = \"https://example-blog.com\"\n",
        "\n",
        "    titles = scrape_blog_titles(url)\n",
        "\n",
        "    if titles:\n",
        "        print(\"\\nBlog Titles:\")\n",
        "        for idx, title in enumerate(titles, start=1):\n",
        "            print(f\"{idx}. {title}\")\n",
        "    else:\n",
        "        print(\"No titles found.\")\n",
        "\n",
        "if __name__ == \"__main__\":\n",
        "    main()\n"
      ],
      "metadata": {
        "colab": {
          "base_uri": "https://localhost:8080/"
        },
        "id": "sqETBPqi0Aq7",
        "outputId": "96e98dea-96b2-4a34-9236-22949c0938f2"
      },
      "execution_count": null,
      "outputs": [
        {
          "output_type": "stream",
          "name": "stdout",
          "text": [
            "Successfully fetched the page\n",
            "No titles found.\n"
          ]
        }
      ]
    },
    {
      "cell_type": "markdown",
      "source": [
        "64.\tDevelop a weather application that retrieves data from an API and displays it using plots."
      ],
      "metadata": {
        "id": "bd_nPERK0BNL"
      }
    },
    {
      "cell_type": "code",
      "source": [
        "import requests\n",
        "import matplotlib.pyplot as plt\n",
        "from datetime import datetime\n",
        "\n",
        "def get_weather_data(city, api_key):\n",
        "    url = f\"http://api.openweathermap.org/data/2.5/forecast?q={city}&units=metric&cnt=7&appid={api_key}\"\n",
        "    response = requests.get(url)\n",
        "    if response.status_code == 200:\n",
        "        return response.json()\n",
        "    else:\n",
        "        print(\"Failed to retrieve data\")\n",
        "        return None\n",
        "# Function to process weather data for plotting\n",
        "def process_weather_data(data):\n",
        "    dates = []\n",
        "    temperatures = []\n",
        "    humidities = []\n",
        "    # Extracting data for the next 7 forecast periods\n",
        "    for entry in data['list']:\n",
        "        date = datetime.utcfromtimestamp(entry['dt'])  # Convert timestamp to datetime\n",
        "        temp = entry['main']['temp']  # Temperature in Celsius\n",
        "        humidity = entry['main']['humidity']  # Humidity percentage\n",
        "\n",
        "        dates.append(date.strftime('%Y-%m-%d %H:%M:%S'))  # Format datetime\n",
        "        temperatures.append(temp)\n",
        "        humidities.append(humidity)\n",
        "    return dates, temperatures, humidities\n",
        "\n",
        "# Function to plot weather data using matplotlib\n",
        "def plot_weather_data(dates, temperatures, humidities):\n",
        "    # Create a figure with two subplots: one for temperature and one for humidity\n",
        "    fig, ax = plt.subplots(2, 1, figsize=(10, 8))\n",
        "    # Plot temperature data\n",
        "    ax[0].plot(dates, temperatures, marker='o', color='tab:red', label='Temperature (°C)')\n",
        "    ax[0].set_title('Temperature Forecast (Next 7 Days)')\n",
        "    ax[0].set_xlabel('Date and Time')\n",
        "    ax[0].set_ylabel('Temperature (°C)')\n",
        "    ax[0].tick_params(axis='x', rotation=45)  # Rotate x-axis labels for better readability\n",
        "    ax[0].grid(True)\n",
        "    # Plot humidity data\n",
        "    ax[1].plot(dates, humidities, marker='o', color='tab:blue', label='Humidity (%)')\n",
        "    ax[1].set_title('Humidity Forecast (Next 7 Days)')\n",
        "    ax[1].set_xlabel('Date and Time')\n",
        "    ax[1].set_ylabel('Humidity (%)')\n",
        "    ax[1].tick_params(axis='x', rotation=45)  # Rotate x-axis labels\n",
        "    ax[1].grid(True)\n",
        "\n",
        "    # Adjust layout for better spacing\n",
        "    plt.tight_layout()\n",
        "    plt.show()\n",
        "\n",
        "def main():\n",
        "    # API Key and City (Replace with your API key)\n",
        "    api_key = \"YOUR_API_KEY\"  # Replace this with your OpenWeatherMap API key\n",
        "    city = input(\"Enter the city: \")\n",
        "\n",
        "    # Fetch weather data from the API\n",
        "    weather_data = get_weather_data(city, api_key)\n",
        "\n",
        "    if weather_data:\n",
        "        # Process the data\n",
        "        dates, temperatures, humidities = process_weather_data(weather_data)\n",
        "\n",
        "        # Plot the data\n",
        "        plot_weather_data(dates, temperatures, humidities)\n",
        "\n",
        "if __name__ == \"__main__\":\n",
        "    main()\n"
      ],
      "metadata": {
        "colab": {
          "base_uri": "https://localhost:8080/"
        },
        "id": "AI8dFMNp7TV6",
        "outputId": "e28da935-a38d-45f2-c8b7-3ce32eb3b20b"
      },
      "execution_count": null,
      "outputs": [
        {
          "output_type": "stream",
          "name": "stdout",
          "text": [
            "Enter the city: London\n",
            "Failed to retrieve data\n"
          ]
        }
      ]
    },
    {
      "cell_type": "markdown",
      "source": [
        "65.\tCreate a ToDo application using classes and file handling to save tasks."
      ],
      "metadata": {
        "id": "noFaf8PJ0H4j"
      }
    },
    {
      "cell_type": "code",
      "source": [
        "import os\n",
        "\n",
        "class Task:\n",
        "    def __init__(self, description, completed=False):\n",
        "        self.description = description\n",
        "        self.completed = completed\n",
        "\n",
        "    def mark_completed(self):\n",
        "        self.completed = True\n",
        "\n",
        "    def __str__(self):\n",
        "        status = \"Completed\" if self.completed else \"Not Completed\"\n",
        "        return f\"{self.description} - {status}\"\n",
        "\n",
        "    def save(self):\n",
        "        return f\"{self.description}|{self.completed}\"\n",
        "\n",
        "    @staticmethod\n",
        "    def load(data):\n",
        "        description, completed = data.split('|')\n",
        "        return Task(description, completed == \"True\")\n",
        "\n",
        "class ToDoApp:\n",
        "    def __init__(self, filename=\"tasks.txt\"):\n",
        "        self.filename = filename\n",
        "        self.tasks = self.load_tasks()\n",
        "\n",
        "    def add_task(self, description):\n",
        "        task = Task(description)\n",
        "        self.tasks.append(task)\n",
        "        self.save_tasks()\n",
        "\n",
        "    def view_tasks(self):\n",
        "        if not self.tasks:\n",
        "            print(\"No tasks found.\")\n",
        "        for index, task in enumerate(self.tasks, start=1):\n",
        "            print(f\"{index}. {task}\")\n",
        "\n",
        "    def mark_task_completed(self, task_number):\n",
        "        if 0 < task_number <= len(self.tasks):\n",
        "            task = self.tasks[task_number - 1]\n",
        "            task.mark_completed()\n",
        "            self.save_tasks()\n",
        "        else:\n",
        "            print(\"Invalid task number.\")\n",
        "\n",
        "    def delete_task(self, task_number):\n",
        "        if 0 < task_number <= len(self.tasks):\n",
        "            del self.tasks[task_number - 1]\n",
        "            self.save_tasks()\n",
        "        else:\n",
        "            print(\"Invalid task number.\")\n",
        "\n",
        "    def save_tasks(self):\n",
        "        with open(self.filename, 'w') as file:\n",
        "            for task in self.tasks:\n",
        "                file.write(task.save() + \"\\n\")\n",
        "\n",
        "    def load_tasks(self):\n",
        "        if not os.path.exists(self.filename):\n",
        "            return []\n",
        "\n",
        "        tasks = []\n",
        "        with open(self.filename, 'r') as file:\n",
        "            for line in file:\n",
        "                task = Task.load(line.strip())\n",
        "                tasks.append(task)\n",
        "        return tasks\n",
        "\n",
        "    def display_menu(self):\n",
        "        print(\"\\nToDo Application\")\n",
        "        print(\"1. Add Task\")\n",
        "        print(\"2. View Tasks\")\n",
        "        print(\"3. Mark Task as Completed\")\n",
        "        print(\"4. Delete Task\")\n",
        "        print(\"5. Exit\")\n",
        "\n",
        "    def run(self):\n",
        "        while True:\n",
        "            self.display_menu()\n",
        "            choice = input(\"Choose an option: \")\n",
        "\n",
        "            if choice == \"1\":\n",
        "                description = input(\"Enter task description: \")\n",
        "                self.add_task(description)\n",
        "            elif choice == \"2\":\n",
        "                self.view_tasks()\n",
        "            elif choice == \"3\":\n",
        "                task_number = int(input(\"Enter task number to mark as completed: \"))\n",
        "                self.mark_task_completed(task_number)\n",
        "            elif choice == \"4\":\n",
        "                task_number = int(input(\"Enter task number to delete: \"))\n",
        "                self.delete_task(task_number)\n",
        "            elif choice == \"5\":\n",
        "                print(\"Exiting the application.\")\n",
        "                break\n",
        "            else:\n",
        "                print(\"Invalid choice. Please try again.\")\n",
        "\n",
        "\n",
        "# Example usage\n",
        "if __name__ == \"__main__\":\n",
        "    app = ToDoApp()\n",
        "    app.run()\n"
      ],
      "metadata": {
        "colab": {
          "base_uri": "https://localhost:8080/"
        },
        "id": "8pg7e6ND6xdL",
        "outputId": "0bbefb7d-9971-4192-f6f8-a835d00939df"
      },
      "execution_count": null,
      "outputs": [
        {
          "output_type": "stream",
          "name": "stdout",
          "text": [
            "\n",
            "ToDo Application\n",
            "1. Add Task\n",
            "2. View Tasks\n",
            "3. Mark Task as Completed\n",
            "4. Delete Task\n",
            "5. Exit\n",
            "Choose an option: 2\n",
            "No tasks found.\n",
            "\n",
            "ToDo Application\n",
            "1. Add Task\n",
            "2. View Tasks\n",
            "3. Mark Task as Completed\n",
            "4. Delete Task\n",
            "5. Exit\n",
            "Choose an option: 3\n",
            "Enter task number to mark as completed: 5\n",
            "Invalid task number.\n",
            "\n",
            "ToDo Application\n",
            "1. Add Task\n",
            "2. View Tasks\n",
            "3. Mark Task as Completed\n",
            "4. Delete Task\n",
            "5. Exit\n",
            "Choose an option: 5\n",
            "Exiting the application.\n"
          ]
        }
      ]
    },
    {
      "cell_type": "markdown",
      "source": [
        "66.\tWrite a function that converts a number to its binary string representation."
      ],
      "metadata": {
        "id": "AGlcGwLI0LWT"
      }
    },
    {
      "cell_type": "code",
      "source": [
        "def decimal_to_binary(num):\n",
        "    # Handle the case when the number is 0\n",
        "    if num == 0:\n",
        "        return \"0\"\n",
        "\n",
        "    binary_str = \"\"\n",
        "\n",
        "    # Perform division by 2 and keep track of the remainders\n",
        "    while num > 0:\n",
        "        binary_str = str(num % 2) + binary_str  # Get the remainder (either 0 or 1)\n",
        "        num = num // 2  # Integer division by 2\n",
        "\n",
        "    return binary_str\n",
        "\n",
        "# Example usage:\n",
        "number = 42\n",
        "binary_representation = decimal_to_binary(number)\n",
        "print(f\"The binary representation of {number} is {binary_representation}.\")"
      ],
      "metadata": {
        "colab": {
          "base_uri": "https://localhost:8080/"
        },
        "id": "oexfcGnD0QwL",
        "outputId": "c2059591-5010-45b1-8047-f5695beaecfa"
      },
      "execution_count": null,
      "outputs": [
        {
          "output_type": "stream",
          "name": "stdout",
          "text": [
            "The binary representation of 42 is 101010.\n"
          ]
        }
      ]
    },
    {
      "cell_type": "markdown",
      "source": [
        "67.\tCreate a program to generate random passwords with specified complexity."
      ],
      "metadata": {
        "id": "w1Yh2mUw0SY7"
      }
    },
    {
      "cell_type": "code",
      "source": [
        "import random\n",
        "import string\n",
        "\n",
        "def generate_password(length, use_uppercase=True, use_digits=True, use_special_chars=True):\n",
        "    # Define possible character sets\n",
        "    lowercase = string.ascii_lowercase\n",
        "    uppercase = string.ascii_uppercase\n",
        "    digits = string.digits\n",
        "    special_chars = string.punctuation\n",
        "\n",
        "    # Start with lowercase characters\n",
        "    char_set = lowercase\n",
        "\n",
        "    # Add additional character sets based on the options\n",
        "    if use_uppercase:\n",
        "        char_set += uppercase\n",
        "    if use_digits:\n",
        "        char_set += digits\n",
        "    if use_special_chars:\n",
        "        char_set += special_chars\n",
        "\n",
        "    # Generate the random password\n",
        "    password = ''.join(random.choice(char_set) for _ in range(length))\n",
        "\n",
        "    return password\n",
        "\n",
        "# Example usage\n",
        "password_length = 12\n",
        "password = generate_password(password_length, use_uppercase=True, use_digits=True, use_special_chars=True)\n",
        "print(f\"Generated Password: {password}\")\n"
      ],
      "metadata": {
        "colab": {
          "base_uri": "https://localhost:8080/"
        },
        "id": "tMCNZ7Ek0VpD",
        "outputId": "943a4930-ec14-408e-b0b5-6ff65759bf37"
      },
      "execution_count": null,
      "outputs": [
        {
          "output_type": "stream",
          "name": "stdout",
          "text": [
            "Generated Password: v-^[P2L<=Tx}\n"
          ]
        }
      ]
    },
    {
      "cell_type": "markdown",
      "source": [
        "68.\tImplement a text-based version of tic-tac-toe."
      ],
      "metadata": {
        "id": "wawOX-F-0V4z"
      }
    },
    {
      "cell_type": "code",
      "source": [
        "def print_board(board):\n",
        "    \"\"\"Print the Tic-Tac-Toe board.\"\"\"\n",
        "    print(f\"{board[0]} | {board[1]} | {board[2]}\")\n",
        "    print(\"--+---+--\")\n",
        "    print(f\"{board[3]} | {board[4]} | {board[5]}\")\n",
        "    print(\"--+---+--\")\n",
        "    print(f\"{board[6]} | {board[7]} | {board[8]}\")\n",
        "\n",
        "def check_winner(board, player):\n",
        "    \"\"\"Check if the player has won the game.\"\"\"\n",
        "    win_conditions = [\n",
        "        [0, 1, 2],  # Top row\n",
        "        [3, 4, 5],  # Middle row\n",
        "        [6, 7, 8],  # Bottom row\n",
        "        [0, 3, 6],  # Left column\n",
        "        [1, 4, 7],  # Middle column\n",
        "        [2, 5, 8],  # Right column\n",
        "        [0, 4, 8],  # Diagonal\n",
        "        [2, 4, 6],  # Diagonal\n",
        "    ]\n",
        "\n",
        "    for condition in win_conditions:\n",
        "        if all(board[i] == player for i in condition):\n",
        "            return True\n",
        "    return False\n",
        "\n",
        "def is_board_full(board):\n",
        "    \"\"\"Check if the board is full.\"\"\"\n",
        "    return all(cell != ' ' for cell in board)\n",
        "\n",
        "def play_game():\n",
        "    \"\"\"Main function to play the Tic-Tac-Toe game.\"\"\"\n",
        "    # Initialize the board with empty spaces\n",
        "    board = [' '] * 9\n",
        "\n",
        "    # Players\n",
        "    players = ['X', 'O']\n",
        "    current_player = 0  # Start with player X\n",
        "\n",
        "    while True:\n",
        "        # Print the board\n",
        "        print_board(board)\n",
        "\n",
        "        # Get the current player's move\n",
        "        move = int(input(f\"Player {players[current_player]}'s turn (1-9): \")) - 1\n",
        "\n",
        "        # Check if the move is valid\n",
        "        if board[move] != ' ':\n",
        "            print(\"Invalid move. Cell already taken. Try again.\")\n",
        "            continue\n",
        "\n",
        "        # Make the move\n",
        "        board[move] = players[current_player]\n",
        "\n",
        "        # Check for a winner\n",
        "        if check_winner(board, players[current_player]):\n",
        "            print_board(board)\n",
        "            print(f\"Player {players[current_player]} wins!\")\n",
        "            break\n",
        "\n",
        "        # Check for a draw\n",
        "        if is_board_full(board):\n",
        "            print_board(board)\n",
        "            print(\"It's a draw!\")\n",
        "            break\n",
        "\n",
        "        # Switch to the next player\n",
        "        current_player = 1 - current_player\n",
        "\n",
        "# Run the game\n",
        "play_game()\n"
      ],
      "metadata": {
        "colab": {
          "base_uri": "https://localhost:8080/"
        },
        "id": "9smOsV3e_UIj",
        "outputId": "c1cd2684-df57-4afa-ca67-bdf678f6fb1b"
      },
      "execution_count": null,
      "outputs": [
        {
          "output_type": "stream",
          "name": "stdout",
          "text": [
            "  |   |  \n",
            "--+---+--\n",
            "  |   |  \n",
            "--+---+--\n",
            "  |   |  \n",
            "Player X's turn (1-9): 1\n",
            "X |   |  \n",
            "--+---+--\n",
            "  |   |  \n",
            "--+---+--\n",
            "  |   |  \n",
            "Player O's turn (1-9): 2\n",
            "X | O |  \n",
            "--+---+--\n",
            "  |   |  \n",
            "--+---+--\n",
            "  |   |  \n",
            "Player X's turn (1-9): 5\n",
            "X | O |  \n",
            "--+---+--\n",
            "  | X |  \n",
            "--+---+--\n",
            "  |   |  \n",
            "Player O's turn (1-9): 3\n",
            "X | O | O\n",
            "--+---+--\n",
            "  | X |  \n",
            "--+---+--\n",
            "  |   |  \n",
            "Player X's turn (1-9): 9\n",
            "X | O | O\n",
            "--+---+--\n",
            "  | X |  \n",
            "--+---+--\n",
            "  |   | X\n",
            "Player X wins!\n"
          ]
        }
      ]
    },
    {
      "cell_type": "markdown",
      "source": [
        "69.\tWrite a script that applies basic text analysis on a provided text file."
      ],
      "metadata": {
        "id": "auGHQIPM0ZrL"
      }
    },
    {
      "cell_type": "code",
      "source": [
        "import re\n",
        "\n",
        "def analyze_text(file_path):\n",
        "    try:\n",
        "        with open(file_path, 'r', encoding='utf-8') as file:\n",
        "            text = file.read()\n",
        "\n",
        "        words = re.findall(r'\\b\\w+\\b', text.lower())\n",
        "        word_count = len(words)\n",
        "        print(f\"Total words: {word_count}\")\n",
        "\n",
        "        unique_words = set(words)\n",
        "        unique_word_count = len(unique_words)\n",
        "        print(f\"Unique words: {unique_word_count}\")\n",
        "\n",
        "        sentences = re.split(r'[.!?]+', text)\n",
        "        sentence_count = len(sentences) - 1\n",
        "        print(f\"Total sentences: {sentence_count}\")\n",
        "\n",
        "        char_count = len(text.replace(\" \", \"\"))\n",
        "        print(f\"Total characters (excluding spaces): {char_count}\")\n",
        "\n",
        "        total_word_length = sum(len(word) for word in words)\n",
        "        avg_word_length = total_word_length / word_count if word_count else 0\n",
        "        print(f\"Average word length: {avg_word_length:.2f}\")\n",
        "\n",
        "    except FileNotFoundError:\n",
        "        print(f\"Error: File '{file_path}' not found.\")\n",
        "    except Exception as e:\n",
        "        print(f\"An error occurred: {e}\")\n",
        "\n",
        "if __name__ == \"__main__\":\n",
        "    file_path = input(\"Enter the path to the text file: \")\n",
        "    analyze_text(file_path)"
      ],
      "metadata": {
        "colab": {
          "base_uri": "https://localhost:8080/"
        },
        "id": "3dQEBStkMlhG",
        "outputId": "3c519472-3124-46aa-bf62-de7551d9295f"
      },
      "execution_count": null,
      "outputs": [
        {
          "output_type": "stream",
          "name": "stdout",
          "text": [
            "Enter the path to the text file: sw\n",
            "Error: File 'sw' not found.\n"
          ]
        }
      ]
    },
    {
      "cell_type": "markdown",
      "source": [
        "70.\tDevelop a simple task scheduler that runs functions at specified intervals."
      ],
      "metadata": {
        "id": "V_8NCdPn0djD"
      }
    },
    {
      "cell_type": "code",
      "source": [
        "import threading\n",
        "import time\n",
        "\n",
        "class TaskScheduler:\n",
        "    def __init__(self):\n",
        "        self.tasks = []  # List to store tasks\n",
        "\n",
        "    def _run_task(self, task, interval):\n",
        "        \"\"\"\n",
        "        Internal function that runs the task at a specified interval.\n",
        "        \"\"\"\n",
        "        while True:\n",
        "            time.sleep(interval)\n",
        "            task()  # Call the task function\n",
        "\n",
        "    def schedule_task(self, task, interval):\n",
        "        \"\"\"\n",
        "        Schedule a task to run at the specified interval (in seconds).\n",
        "        \"\"\"\n",
        "        task_thread = threading.Thread(target=self._run_task, args=(task, interval))\n",
        "        task_thread.daemon = True  # Daemonize the thread so it will exit when the main program exits\n",
        "        task_thread.start()\n",
        "        self.tasks.append(task_thread)\n",
        "        print(f\"Scheduled task to run every {interval} seconds.\")\n",
        "\n",
        "    def cancel_all_tasks(self):\n",
        "        \"\"\"\n",
        "        Cancel all scheduled tasks.\n",
        "        \"\"\"\n",
        "        # There's no direct way to \"stop\" threads in Python, but we can stop the main program\n",
        "        # to effectively stop all tasks.\n",
        "        print(\"Canceling all tasks. Exiting scheduler.\")\n",
        "        exit()\n",
        "\n",
        "\n",
        "# Example Task Functions\n",
        "\n",
        "def task_1():\n",
        "    print(\"Task 1 is running...\")\n",
        "\n",
        "def task_2():\n",
        "    print(\"Task 2 is running...\")\n",
        "\n",
        "def task_3():\n",
        "    print(\"Task 3 is running...\")\n",
        "\n",
        "# Main Program\n",
        "\n",
        "def main():\n",
        "    scheduler = TaskScheduler()\n",
        "\n",
        "    # Schedule tasks\n",
        "    scheduler.schedule_task(task_1, 3)  # Task 1 runs every 3 seconds\n",
        "    scheduler.schedule_task(task_2, 5)  # Task 2 runs every 5 seconds\n",
        "    scheduler.schedule_task(task_3, 7)  # Task 3 runs every 7 seconds\n",
        "\n",
        "    # Let the scheduler run for a while, then stop\n",
        "    time.sleep(20)  # Let the tasks run for 20 seconds\n",
        "\n",
        "    # Cancel all tasks after 20 seconds\n",
        "    scheduler.cancel_all_tasks()\n",
        "\n",
        "if __name__ == \"__main__\":\n",
        "    main()\n"
      ],
      "metadata": {
        "colab": {
          "base_uri": "https://localhost:8080/"
        },
        "id": "MrBh-G_XT3cm",
        "outputId": "87d77c06-d9fc-408d-9e5f-19f513364f88"
      },
      "execution_count": null,
      "outputs": [
        {
          "output_type": "stream",
          "name": "stdout",
          "text": [
            "Scheduled task to run every 3 seconds.\n",
            "Scheduled task to run every 5 seconds.\n",
            "Scheduled task to run every 7 seconds.\n",
            "Task 1 is running...\n",
            "Task 2 is running...\n",
            "Task 1 is running...\n",
            "Task 3 is running...\n",
            "Task 1 is running...\n",
            "Task 2 is running...\n",
            "Task 1 is running...\n",
            "Task 3 is running...\n",
            "Task 1 is running...\n",
            "Task 2 is running...\n",
            "Task 1 is running...\n",
            "Canceling all tasks. Exiting scheduler.\n",
            "Task 2 is running...\n"
          ]
        }
      ]
    },
    {
      "cell_type": "markdown",
      "source": [
        "71.\tCreate a budgeting application that tracks expenses using classes."
      ],
      "metadata": {
        "id": "OAP7ai-Q0hUj"
      }
    },
    {
      "cell_type": "code",
      "source": [
        "class Expense:\n",
        "    \"\"\"Class to represent an individual expense.\"\"\"\n",
        "    def __init__(self, category, amount, description=\"\"):\n",
        "        self.category = category\n",
        "        self.amount = amount\n",
        "        self.description = description\n",
        "\n",
        "    def __str__(self):\n",
        "        \"\"\"Return a string representation of the expense.\"\"\"\n",
        "        return f\"{self.category}: ${self.amount} - {self.description}\"\n",
        "\n",
        "class Budget:\n",
        "    \"\"\"Class to manage the overall budget and track expenses.\"\"\"\n",
        "    def __init__(self, total_budget):\n",
        "        self.total_budget = total_budget\n",
        "        self.expenses = []\n",
        "\n",
        "    def add_expense(self, expense):\n",
        "        \"\"\"Add a new expense to the budget.\"\"\"\n",
        "        self.expenses.append(expense)\n",
        "\n",
        "    def remove_expense(self, expense):\n",
        "        \"\"\"Remove an expense from the budget.\"\"\"\n",
        "        if expense in self.expenses:\n",
        "            self.expenses.remove(expense)\n",
        "        else:\n",
        "            print(\"Expense not found.\")\n",
        "\n",
        "    def total_expenses(self):\n",
        "        \"\"\"Calculate and return the total of all expenses.\"\"\"\n",
        "        return sum(expense.amount for expense in self.expenses)\n",
        "\n",
        "    def remaining_budget(self):\n",
        "        \"\"\"Calculate and return the remaining budget.\"\"\"\n",
        "        return self.total_budget - self.total_expenses()\n",
        "\n",
        "    def display_expenses(self):\n",
        "        \"\"\"Display all expenses in the budget.\"\"\"\n",
        "        if not self.expenses:\n",
        "            print(\"No expenses recorded yet.\")\n",
        "        else:\n",
        "            for expense in self.expenses:\n",
        "                print(expense)\n",
        "\n",
        "    def display_budget_summary(self):\n",
        "        \"\"\"Display a summary of the budget including expenses and remaining budget.\"\"\"\n",
        "        print(f\"Total Budget: ${self.total_budget}\")\n",
        "        print(f\"Total Expenses: ${self.total_expenses()}\")\n",
        "        print(f\"Remaining Budget: ${self.remaining_budget()}\")\n",
        "        print(\"-\" * 40)\n",
        "\n",
        "def main():\n",
        "    # Initialize the budget with a total amount\n",
        "    budget = Budget(1000.00)\n",
        "\n",
        "    while True:\n",
        "        print(\"\\nBudgeting Application\")\n",
        "        print(\"1. Add an Expense\")\n",
        "        print(\"2. Remove an Expense\")\n",
        "        print(\"3. View All Expenses\")\n",
        "        print(\"4. View Budget Summary\")\n",
        "        print(\"5. Exit\")\n",
        "\n",
        "        choice = input(\"Enter your choice (1-5): \")\n",
        "\n",
        "        if choice == \"1\":\n",
        "            category = input(\"Enter expense category: \")\n",
        "            amount = float(input(\"Enter amount: $\"))\n",
        "            description = input(\"Enter a description (optional): \")\n",
        "            expense = Expense(category, amount, description)\n",
        "            budget.add_expense(expense)\n",
        "            print(\"Expense added successfully.\")\n",
        "\n",
        "        elif choice == \"2\":\n",
        "            print(\"\\nSelect an expense to remove:\")\n",
        "            budget.display_expenses()\n",
        "            if budget.expenses:\n",
        "                expense_index = int(input(\"Enter the index of the expense to remove (0-based): \"))\n",
        "                if 0 <= expense_index < len(budget.expenses):\n",
        "                    expense = budget.expenses[expense_index]\n",
        "                    budget.remove_expense(expense)\n",
        "                    print(\"Expense removed successfully.\")\n",
        "                else:\n",
        "                    print(\"Invalid index.\")\n",
        "\n",
        "        elif choice == \"3\":\n",
        "            print(\"\\nAll Expenses:\")\n",
        "            budget.display_expenses()\n",
        "\n",
        "        elif choice == \"4\":\n",
        "            budget.display_budget_summary()\n",
        "\n",
        "        elif choice == \"5\":\n",
        "            print(\"Exiting the Budgeting Application. Goodbye!\")\n",
        "            break\n",
        "\n",
        "        else:\n",
        "            print(\"Invalid choice. Please try again.\")\n",
        "\n",
        "if __name__ == \"__main__\":\n",
        "    main()\n"
      ],
      "metadata": {
        "colab": {
          "base_uri": "https://localhost:8080/"
        },
        "id": "Q_Dblpxt0kJz",
        "outputId": "4985a0a5-cb6f-4b98-fe82-a4d8eeacacd1"
      },
      "execution_count": null,
      "outputs": [
        {
          "output_type": "stream",
          "name": "stdout",
          "text": [
            "\n",
            "Budgeting Application\n",
            "1. Add an Expense\n",
            "2. Remove an Expense\n",
            "3. View All Expenses\n",
            "4. View Budget Summary\n",
            "5. Exit\n",
            "Enter your choice (1-5): 1\n",
            "Enter expense category: a\n",
            "Enter amount: $122\n",
            "Enter a description (optional): ewg\n",
            "Expense added successfully.\n",
            "\n",
            "Budgeting Application\n",
            "1. Add an Expense\n",
            "2. Remove an Expense\n",
            "3. View All Expenses\n",
            "4. View Budget Summary\n",
            "5. Exit\n",
            "Enter your choice (1-5): 5\n",
            "Exiting the Budgeting Application. Goodbye!\n"
          ]
        }
      ]
    },
    {
      "cell_type": "markdown",
      "source": [
        "72.\tWrite a program that analyzes and visualizes stock market data."
      ],
      "metadata": {
        "id": "DY3YhrxT0keb"
      }
    },
    {
      "cell_type": "code",
      "source": [
        "import yfinance as yf\n",
        "import pandas as pd\n",
        "import matplotlib.pyplot as plt\n",
        "\n",
        "def fetch_stock_data(symbol, start_date, end_date):\n",
        "    stock_data = yf.download(symbol, start=start_date, end=end_date)\n",
        "    return stock_data\n",
        "\n",
        "def calculate_moving_averages(data, window=20):\n",
        "    data['SMA'] = data['Close'].rolling(window=window).mean()\n",
        "    return data\n",
        "\n",
        "def calculate_daily_returns(data):\n",
        "    data['Daily Return'] = data['Close'].pct_change()\n",
        "    return data\n",
        "\n",
        "def plot_stock_data(data, symbol):\n",
        "    plt.figure(figsize=(14, 7))\n",
        "\n",
        "    plt.subplot(2, 1, 1)\n",
        "    plt.plot(data['Close'], label=f'{symbol} Closing Price', color='blue')\n",
        "    plt.plot(data['SMA'], label='20-day Moving Average', color='orange')\n",
        "    plt.title(f'{symbol} Stock Price and 20-Day Moving Average')\n",
        "    plt.legend()\n",
        "\n",
        "    plt.subplot(2, 1, 2)\n",
        "    plt.plot(data['Daily Return'], label='Daily Returns', color='green')\n",
        "    plt.title(f'{symbol} Daily Returns')\n",
        "    plt.legend()\n",
        "\n",
        "    plt.tight_layout()\n",
        "    plt.show()\n",
        "\n",
        "def main():\n",
        "    symbol = input(\"Enter the stock symbol (e.g., AAPL for Apple, MSFT for Microsoft): \")\n",
        "    start_date = input(\"Enter the start date (YYYY-MM-DD): \")\n",
        "    end_date = input(\"Enter the end date (YYYY-MM-DD): \")\n",
        "\n",
        "    stock_data = fetch_stock_data(symbol, start_date, end_date)\n",
        "\n",
        "    stock_data = calculate_moving_averages(stock_data)\n",
        "    stock_data = calculate_daily_returns(stock_data)\n",
        "\n",
        "    plot_stock_data(stock_data, symbol)\n",
        "\n",
        "if __name__ == \"__main__\":\n",
        "    main()\n"
      ],
      "metadata": {
        "colab": {
          "base_uri": "https://localhost:8080/",
          "height": 637
        },
        "id": "xdv_a3NmNFI5",
        "outputId": "5b00c150-d3ba-4bd6-fa5c-1b42294a4cf7"
      },
      "execution_count": null,
      "outputs": [
        {
          "name": "stdout",
          "output_type": "stream",
          "text": [
            "Enter the stock symbol (e.g., AAPL for Apple, MSFT for Microsoft): AAPL\n",
            "Enter the start date (YYYY-MM-DD): 20-34-45-\n",
            "Enter the end date (YYYY-MM-DD): 29-06-20\n"
          ]
        },
        {
          "output_type": "stream",
          "name": "stderr",
          "text": [
            "\r[*********************100%***********************]  1 of 1 completed\n",
            "ERROR:yfinance:\n",
            "1 Failed download:\n",
            "ERROR:yfinance:['AAPL']: ValueError(\"time data '29-06-20' does not match format '%Y-%m-%d'\")\n"
          ]
        },
        {
          "output_type": "display_data",
          "data": {
            "text/plain": [
              "<Figure size 1400x700 with 2 Axes>"
            ],
            "image/png": "[encoded data removed]"
          },
          "metadata": {}
        }
      ]
    },
    {
      "cell_type": "markdown",
      "source": [
        "73.\tDevelop a Python script that automates file organization based on file types."
      ],
      "metadata": {
        "id": "--vgyvR10pDz"
      }
    },
    {
      "cell_type": "code",
      "source": [
        "import os\n",
        "import shutil\n",
        "\n",
        "# Dictionary to map file extensions to folder names\n",
        "FILE_TYPE_MAP = {\n",
        "    'documents': ['.pdf', '.txt', '.docx', '.xlsx', '.pptx'],\n",
        "    'images': ['.jpg', '.jpeg', '.png', '.gif', '.bmp'],\n",
        "    'audio': ['.mp3', '.wav', '.flac'],\n",
        "    'videos': ['.mp4', '.avi', '.mkv', '.mov'],\n",
        "    'archives': ['.zip', '.rar', '.tar', '.gz'],\n",
        "    'code': ['.py', '.js', '.html', '.css', '.java', '.cpp'],\n",
        "    'others': []  # Any file that doesn't match a category\n",
        "}\n",
        "\n",
        "def get_file_type(file_name):\n",
        "    \"\"\"Returns the category of the file based on its extension.\"\"\"\n",
        "    file_extension = os.path.splitext(file_name)[1].lower()\n",
        "\n",
        "    # Loop through the FILE_TYPE_MAP and find the category\n",
        "    for category, extensions in FILE_TYPE_MAP.items():\n",
        "        if file_extension in extensions:\n",
        "            return category\n",
        "\n",
        "    return 'others'  # Default to 'others' if no match is found\n",
        "\n",
        "def organize_files(directory):\n",
        "    \"\"\"Organizes files in the given directory into folders based on file types.\"\"\"\n",
        "    # Check if the directory exists\n",
        "    if not os.path.isdir(directory):\n",
        "        print(f\"The directory {directory} does not exist.\")\n",
        "        return\n",
        "\n",
        "    # Get a list of all files in the directory (ignoring subdirectories)\n",
        "    files = [f for f in os.listdir(directory) if os.path.isfile(os.path.join(directory, f))]\n",
        "\n",
        "    # Iterate through each file and move it to the appropriate folder\n",
        "    for file_name in files:\n",
        "        file_type = get_file_type(file_name)\n",
        "        category_folder = os.path.join(directory, file_type)\n",
        "\n",
        "        # Create the category folder if it doesn't exist\n",
        "        if not os.path.exists(category_folder):\n",
        "            os.makedirs(category_folder)\n",
        "\n",
        "        # Define the source and destination paths\n",
        "        source_path = os.path.join(directory, file_name)\n",
        "        destination_path = os.path.join(category_folder, file_name)\n",
        "\n",
        "        # Move the file to the appropriate folder\n",
        "        shutil.move(source_path, destination_path)\n",
        "        print(f\"Moved: {file_name} -> {category_folder}\")\n",
        "\n",
        "def main():\n",
        "    # Get the directory path from the user\n",
        "    directory = input(\"Enter the path of the directory to organize: \").strip()\n",
        "\n",
        "    # Organize the files\n",
        "    organize_files(directory)\n",
        "    print(\"File organization complete!\")\n",
        "\n",
        "if __name__ == \"__main__\":\n",
        "    main()\n"
      ],
      "metadata": {
        "colab": {
          "base_uri": "https://localhost:8080/"
        },
        "id": "e25sRGx-0tmS",
        "outputId": "a4bafc81-51df-4374-f030-fe9217eed3f3"
      },
      "execution_count": null,
      "outputs": [
        {
          "output_type": "stream",
          "name": "stdout",
          "text": [
            "Enter the path of the directory to organize: 12\n",
            "The directory 12 does not exist.\n",
            "File organization complete!\n"
          ]
        }
      ]
    },
    {
      "cell_type": "markdown",
      "source": [
        "75.\tBuild a simple e-commerce cart system using classes and functions."
      ],
      "metadata": {
        "id": "ekpcaDMW0yGS"
      }
    },
    {
      "cell_type": "code",
      "source": [
        "class Product:\n",
        "    def __init__(self, name, price, quantity):\n",
        "        self.name = name\n",
        "        self.price = price\n",
        "        self.quantity = quantity\n",
        "\n",
        "    def __str__(self):\n",
        "        return f\"{self.name} - ${self.price:.2f} (Qty: {self.quantity})\"\n",
        "\n",
        "\n",
        "class Cart:\n",
        "    def __init__(self):\n",
        "        self.items = []\n",
        "\n",
        "    def add_item(self, product):\n",
        "        self.items.append(product)\n",
        "\n",
        "    def remove_item(self, product_name):\n",
        "        for item in self.items:\n",
        "            if item.name == product_name:\n",
        "                self.items.remove(item)\n",
        "                return True\n",
        "        return False  # Product not found\n",
        "\n",
        "    def calculate_total(self):\n",
        "        total_price = 0\n",
        "        for item in self.items:\n",
        "            total_price += item.price * item.quantity\n",
        "        return total_price\n",
        "\n",
        "    def display_cart(self):\n",
        "        if not self.items:\n",
        "            print(\"Your cart is empty.\")\n",
        "        else:\n",
        "            print(\"Your Cart:\")\n",
        "            for item in self.items:\n",
        "                print(item)\n",
        "            print(f\"Total: ${self.calculate_total():.2f}\")\n",
        "\n",
        "\n",
        "def main():\n",
        "    cart = Cart()\n",
        "\n",
        "    # Sample Products\n",
        "    product1 = Product(\"Shirt\", 25.99, 1)\n",
        "    product2 = Product(\"Shoes\", 79.95, 1)\n",
        "    product3 = Product(\"Hat\", 15.50, 2)\n",
        "\n",
        "    cart.add_item(product1)\n",
        "    cart.add_item(product2)\n",
        "    cart.add_item(product3)\n",
        "\n",
        "    cart.display_cart()\n",
        "\n",
        "    cart.remove_item(\"Shoes\")\n",
        "    print(\"\\nAfter removing 'Shoes':\")\n",
        "    cart.display_cart()\n",
        "\n",
        "\n",
        "if __name__ == \"__main__\":\n",
        "    main()"
      ],
      "metadata": {
        "colab": {
          "base_uri": "https://localhost:8080/"
        },
        "id": "Nt9pS6Na013z",
        "outputId": "7e0f463a-560f-40b7-e722-0b837b3c8f32"
      },
      "execution_count": null,
      "outputs": [
        {
          "output_type": "stream",
          "name": "stdout",
          "text": [
            "Your Cart:\n",
            "Shirt - $25.99 (Qty: 1)\n",
            "Shoes - $79.95 (Qty: 1)\n",
            "Hat - $15.50 (Qty: 2)\n",
            "Total: $136.94\n",
            "\n",
            "After removing 'Shoes':\n",
            "Your Cart:\n",
            "Shirt - $25.99 (Qty: 1)\n",
            "Hat - $15.50 (Qty: 2)\n",
            "Total: $56.99\n"
          ]
        }
      ]
    },
    {
      "cell_type": "markdown",
      "source": [
        "76.\tImplement a user authentication system with classes and file storage."
      ],
      "metadata": {
        "id": "cCx15XAt02HL"
      }
    },
    {
      "cell_type": "code",
      "source": [
        "import json\n",
        "import os\n",
        "\n",
        "class User:\n",
        "    def __init__(self, username, password):\n",
        "        self.username = username\n",
        "        self.password = password\n",
        "\n",
        "class AuthenticationSystem:\n",
        "    def __init__(self, data_file=\"users.json\"):\n",
        "        self.data_file = data_file\n",
        "        self.users = self.load_users()\n",
        "\n",
        "    def load_users(self):\n",
        "        if os.path.exists(self.data_file):\n",
        "            with open(self.data_file, \"r\") as f:\n",
        "                try:\n",
        "                    return json.load(f)\n",
        "                except json.JSONDecodeError:\n",
        "                    return {}\n",
        "        else:\n",
        "            return {}\n",
        "\n",
        "    def save_users(self):\n",
        "        with open(self.data_file, \"w\") as f:\n",
        "            json.dump(self.users, f, indent=4)\n",
        "\n",
        "    def register_user(self, username, password):\n",
        "        if username in self.users:\n",
        "            return False\n",
        "\n",
        "        self.users[username] = password\n",
        "        self.save_users()\n",
        "        return True\n",
        "\n",
        "    def login_user(self, username, password):\n",
        "        if username in self.users and self.users[username] == password:\n",
        "            return True\n",
        "        else:\n",
        "            return False\n",
        "\n",
        "def main():\n",
        "    auth_system = AuthenticationSystem()\n",
        "\n",
        "    while True:\n",
        "        print(\"\\nAuthentication System\")\n",
        "        print(\"1. Register\")\n",
        "        print(\"2. Login\")\n",
        "        print(\"3. Exit\")\n",
        "\n",
        "        choice = input(\"Enter your choice: \")\n",
        "\n",
        "        if choice == \"1\":\n",
        "            username = input(\"Enter username: \")\n",
        "            password = input(\"Enter password: \")\n",
        "            if auth_system.register_user(username, password):\n",
        "                print(\"Registration successful!\")\n",
        "            else:\n",
        "                print(\"Username already exists.\")\n",
        "        elif choice == \"2\":\n",
        "            username = input(\"Enter username: \")\n",
        "            password = input(\"Enter password: \")\n",
        "            if auth_system.login_user(username, password):\n",
        "                print(\"Login successful!\")\n",
        "            else:\n",
        "                print(\"Invalid username or password.\")\n",
        "        elif choice == \"3\":\n",
        "            break\n",
        "        else:\n",
        "            print(\"Invalid choice.\")\n",
        "\n",
        "if __name__ == \"__main__\":\n",
        "    main()"
      ],
      "metadata": {
        "colab": {
          "base_uri": "https://localhost:8080/"
        },
        "id": "xW8cj0V505O7",
        "outputId": "d4e26d76-fbb3-43b7-cdd0-5b6453ce9c57"
      },
      "execution_count": null,
      "outputs": [
        {
          "name": "stdout",
          "output_type": "stream",
          "text": [
            "\n",
            "Authentication System\n",
            "1. Register\n",
            "2. Login\n",
            "3. Exit\n",
            "Enter your choice: 2\n",
            "Enter username: sw\n",
            "Enter password: 123\n",
            "Invalid username or password.\n",
            "\n",
            "Authentication System\n",
            "1. Register\n",
            "2. Login\n",
            "3. Exit\n",
            "Enter your choice: 3\n"
          ]
        }
      ]
    },
    {
      "cell_type": "markdown",
      "source": [
        "77.\tDesign a quiz application that evaluates user knowledge using functions and data structures."
      ],
      "metadata": {
        "id": "5XaddQm605eq"
      }
    },
    {
      "cell_type": "code",
      "source": [
        "import random\n",
        "\n",
        "questions = [\n",
        "    {\n",
        "        \"question\": \"What is the capital of France?\",\n",
        "        \"choices\": [\"Berlin\", \"Madrid\", \"Paris\", \"Rome\"],\n",
        "        \"correct\": \"Paris\"\n",
        "    },\n",
        "    {\n",
        "        \"question\": \"Which programming language is known as the 'mother of all languages'?\",\n",
        "        \"choices\": [\"Python\", \"Java\", \"C\", \"Assembly\"],\n",
        "        \"correct\": \"C\"\n",
        "    },\n",
        "    {\n",
        "        \"question\": \"What is the largest planet in our solar system?\",\n",
        "        \"choices\": [\"Earth\", \"Mars\", \"Jupiter\", \"Saturn\"],\n",
        "        \"correct\": \"Jupiter\"\n",
        "    },\n",
        "    {\n",
        "        \"question\": \"Who wrote 'Romeo and Juliet'?\",\n",
        "        \"choices\": [\"Shakespeare\", \"Dickens\", \"Hemingway\", \"Austen\"],\n",
        "        \"correct\": \"Shakespeare\"\n",
        "    },\n",
        "    {\n",
        "        \"question\": \"What is the chemical symbol for water?\",\n",
        "        \"choices\": [\"H2O\", \"CO2\", \"O2\", \"N2\"],\n",
        "        \"correct\": \"H2O\"\n",
        "    }\n",
        "]\n",
        "\n",
        "# Function to shuffle questions and ask the user\n",
        "def ask_question(question):\n",
        "    print(f\"Question: {question['question']}\")\n",
        "    choices = question['choices']\n",
        "    random.shuffle(choices)  # Shuffle choices to randomize the options\n",
        "\n",
        "    # Display choices\n",
        "    for idx, choice in enumerate(choices, 1):\n",
        "        print(f\"{idx}. {choice}\")\n",
        "\n",
        "    # Get user input\n",
        "    answer = input(\"Your answer (1/2/3/4): \").strip()\n",
        "\n",
        "    # Check if the answer is correct\n",
        "    correct_choice = question['correct']\n",
        "    if choices[int(answer) - 1] == correct_choice:\n",
        "        return True\n",
        "    else:\n",
        "        return False\n",
        "\n",
        "# Function to run the quiz\n",
        "def run_quiz():\n",
        "    random.shuffle(questions)  # Shuffle questions to randomize the order\n",
        "    score = 0\n",
        "    total_questions = len(questions)\n",
        "\n",
        "    for question in questions:\n",
        "        if ask_question(question):\n",
        "            print(\"Correct!\")\n",
        "            score += 1\n",
        "        else:\n",
        "            print(f\"Wrong! The correct answer is {question['correct']}\")\n",
        "        print()\n",
        "\n",
        "    # Calculate and display score\n",
        "    print(f\"Quiz finished! Your score: {score}/{total_questions}\")\n",
        "\n",
        "    # Provide feedback based on the score\n",
        "    if score == total_questions:\n",
        "        print(\"Excellent! You scored 100%!\")\n",
        "    elif score >= total_questions // 2:\n",
        "        print(\"Good job! You passed the quiz.\")\n",
        "    else:\n",
        "        print(\"Better luck next time. Try again to improve your score.\")\n",
        "\n",
        "# Main function to start the quiz\n",
        "def main():\n",
        "    print(\"Welcome to the Knowledge Quiz!\")\n",
        "    input(\"Press Enter to start the quiz...\")\n",
        "\n",
        "    run_quiz()\n",
        "\n",
        "if __name__ == \"__main__\":\n",
        "    main()\n"
      ],
      "metadata": {
        "colab": {
          "base_uri": "https://localhost:8080/"
        },
        "id": "S5DQ_XhOSW82",
        "outputId": "a725f1af-5b8b-4c5e-ee99-6ddef187dbd7"
      },
      "execution_count": null,
      "outputs": [
        {
          "output_type": "stream",
          "name": "stdout",
          "text": [
            "Welcome to the Knowledge Quiz!\n",
            "Press Enter to start the quiz...2\n",
            "Question: What is the largest planet in our solar system?\n",
            "1. Mars\n",
            "2. Jupiter\n",
            "3. Earth\n",
            "4. Saturn\n",
            "Your answer (1/2/3/4): 2\n",
            "Correct!\n",
            "\n",
            "Question: What is the capital of France?\n",
            "1. Rome\n",
            "2. Madrid\n",
            "3. Paris\n",
            "4. Berlin\n",
            "Your answer (1/2/3/4): 3\n",
            "Correct!\n",
            "\n",
            "Question: Who wrote 'Romeo and Juliet'?\n",
            "1. Hemingway\n",
            "2. Austen\n",
            "3. Dickens\n",
            "4. Shakespeare\n",
            "Your answer (1/2/3/4): 4\n",
            "Correct!\n",
            "\n",
            "Question: What is the chemical symbol for water?\n",
            "1. CO2\n",
            "2. O2\n",
            "3. N2\n",
            "4. H2O\n",
            "Your answer (1/2/3/4): 4\n",
            "Correct!\n",
            "\n",
            "Question: Which programming language is known as the 'mother of all languages'?\n",
            "1. Assembly\n",
            "2. Python\n",
            "3. Java\n",
            "4. C\n",
            "Your answer (1/2/3/4): 4\n",
            "Correct!\n",
            "\n",
            "Quiz finished! Your score: 5/5\n",
            "Excellent! You scored 100%!\n"
          ]
        }
      ]
    },
    {
      "cell_type": "markdown",
      "source": [
        "78.\tCreate a simulation of a simple traffic light system."
      ],
      "metadata": {
        "id": "JOx9pHYp08nr"
      }
    },
    {
      "cell_type": "code",
      "source": [
        "def traffic_light(light):\n",
        "    if light == 1:\n",
        "      print(\"stop\")\n",
        "    if light == 2:\n",
        "      print(\"go\")\n",
        "    if light == 3:\n",
        "      print(\"wait\")\n",
        "\n",
        "print(\"red is 1,green is 2,yellow is 3 \")\n",
        "print(traffic_light(3))\n"
      ],
      "metadata": {
        "colab": {
          "base_uri": "https://localhost:8080/"
        },
        "id": "CVf4D0iuHCCH",
        "outputId": "50a2ad19-43f2-4014-b18c-9c9d4ba8ae1f"
      },
      "execution_count": null,
      "outputs": [
        {
          "output_type": "stream",
          "name": "stdout",
          "text": [
            "red is 1,green is 2,yellow is 3 \n",
            "wait\n",
            "None\n"
          ]
        }
      ]
    },
    {
      "cell_type": "markdown",
      "source": [
        "79.\tDevelop a content management system using object-oriented principles and file handling."
      ],
      "metadata": {
        "id": "OM7M2TEs1AHD"
      }
    },
    {
      "cell_type": "code",
      "source": [
        "import os\n",
        "\n",
        "class Article:\n",
        "    def __init__(self, title, content, author):\n",
        "        self.title = title\n",
        "        self.content = content\n",
        "        self.author = author\n",
        "\n",
        "    def __str__(self):\n",
        "        return f\"Title: {self.title}\\nAuthor: {self.author}\\nContent:\\n{self.content}\"\n",
        "\n",
        "    def save_to_file(self):\n",
        "        \"\"\"Save the article to a text file.\"\"\"\n",
        "        return f\"{self.title}\\n{self.author}\\n{self.content}\"\n",
        "\n",
        "    @staticmethod\n",
        "    def load_from_file(file_content):\n",
        "        \"\"\"Load an article from file content (a string).\"\"\"\n",
        "        lines = file_content.strip().split('\\n')\n",
        "        if len(lines) >= 3:\n",
        "            title = lines[0]\n",
        "            author = lines[1]\n",
        "            content = \"\\n\".join(lines[2:])\n",
        "            return Article(title, content, author)\n",
        "        else:\n",
        "            return None\n",
        "\n",
        "class CMS:\n",
        "    def __init__(self, file_name=\"articles.txt\"):\n",
        "        self.articles = []\n",
        "        self.file_name = file_name\n",
        "        self.load_articles()\n",
        "\n",
        "    def add_article(self, title, content, author):\n",
        "        \"\"\"Add a new article to the CMS.\"\"\"\n",
        "        article = Article(title, content, author)\n",
        "        self.articles.append(article)\n",
        "        self.save_articles()\n",
        "\n",
        "    def delete_article(self, title):\n",
        "        \"\"\"Delete an article by title.\"\"\"\n",
        "        self.articles = [article for article in self.articles if article.title != title]\n",
        "        self.save_articles()\n",
        "\n",
        "    def edit_article(self, title, new_content):\n",
        "        \"\"\"Edit an existing article's content.\"\"\"\n",
        "        for article in self.articles:\n",
        "            if article.title == title:\n",
        "                article.content = new_content\n",
        "                self.save_articles()\n",
        "                return True\n",
        "        return False\n",
        "\n",
        "    def display_articles(self):\n",
        "        \"\"\"Display all articles.\"\"\"\n",
        "        if not self.articles:\n",
        "            print(\"No articles available.\")\n",
        "        else:\n",
        "            for article in self.articles:\n",
        "                print(article)\n",
        "                print(\"-\" * 40)\n",
        "\n",
        "    def save_articles(self):\n",
        "        \"\"\"Save all articles to the file.\"\"\"\n",
        "        with open(self.file_name, 'w', encoding='utf-8') as file:\n",
        "            for article in self.articles:\n",
        "                file.write(article.save_to_file() + \"\\n\\n\")\n",
        "\n",
        "    def load_articles(self):\n",
        "        \"\"\"Load articles from the file.\"\"\"\n",
        "        if os.path.exists(self.file_name):\n",
        "            with open(self.file_name, 'r', encoding='utf-8') as file:\n",
        "                content = file.read().strip()\n",
        "                if content:\n",
        "                    articles_data = content.split(\"\\n\\n\")\n",
        "                    for article_data in articles_data:\n",
        "                        article = Article.load_from_file(article_data)\n",
        "                        if article:\n",
        "                            self.articles.append(article)\n",
        "\n",
        "    def find_article(self, title):\n",
        "        \"\"\"Find an article by title.\"\"\"\n",
        "        for article in self.articles:\n",
        "            if article.title == title:\n",
        "                return article\n",
        "        return None\n",
        "\n",
        "def main():\n",
        "    cms = CMS()\n",
        "\n",
        "    while True:\n",
        "        print(\"\\nCMS Menu\")\n",
        "        print(\"1. Add Article\")\n",
        "        print(\"2. Delete Article\")\n",
        "        print(\"3. Edit Article\")\n",
        "        print(\"4. Display Articles\")\n",
        "        print(\"5. Find Article\")\n",
        "        print(\"6. Exit\")\n",
        "\n",
        "        choice = input(\"Enter your choice: \")\n",
        "\n",
        "        if choice == \"1\":\n",
        "            title = input(\"Enter article title: \")\n",
        "            content = input(\"Enter article content: \")\n",
        "            author = input(\"Enter author name: \")\n",
        "            cms.add_article(title, content, author)\n",
        "            print(\"Article added successfully.\")\n",
        "\n",
        "        elif choice == \"2\":\n",
        "            title = input(\"Enter the title of the article to delete: \")\n",
        "            cms.delete_article(title)\n",
        "            print(\"Article deleted successfully.\")\n",
        "\n",
        "        elif choice == \"3\":\n",
        "            title = input(\"Enter the title of the article to edit: \")\n",
        "            new_content = input(\"Enter the new content: \")\n",
        "            if cms.edit_article(title, new_content):\n",
        "                print(\"Article updated successfully.\")\n",
        "            else:\n",
        "                print(\"Article not found.\")\n",
        "\n",
        "        elif choice == \"4\":\n",
        "            cms.display_articles()\n",
        "\n",
        "        elif choice == \"5\":\n",
        "            title = input(\"Enter the title of the article to find: \")\n",
        "            article = cms.find_article(title)\n",
        "            if article:\n",
        "                print(article)\n",
        "            else:\n",
        "                print(\"Article not found.\")\n",
        "\n",
        "        elif choice == \"6\":\n",
        "            print(\"Exiting CMS. Goodbye!\")\n",
        "            break\n",
        "\n",
        "        else:\n",
        "            print(\"Invalid choice. Please try again.\")\n",
        "\n",
        "if __name__ == \"__main__\":\n",
        "    main()\n"
      ],
      "metadata": {
        "colab": {
          "base_uri": "https://localhost:8080/"
        },
        "id": "J-CW9SHJGFWo",
        "outputId": "6cc494cd-e752-4783-a74a-ea641a2af218"
      },
      "execution_count": null,
      "outputs": [
        {
          "output_type": "stream",
          "name": "stdout",
          "text": [
            "\n",
            "CMS Menu\n",
            "1. Add Article\n",
            "2. Delete Article\n",
            "3. Edit Article\n",
            "4. Display Articles\n",
            "5. Find Article\n",
            "6. Exit\n",
            "Enter your choice: 2\n",
            "Enter the title of the article to delete: 6\n",
            "Article deleted successfully.\n",
            "\n",
            "CMS Menu\n",
            "1. Add Article\n",
            "2. Delete Article\n",
            "3. Edit Article\n",
            "4. Display Articles\n",
            "5. Find Article\n",
            "6. Exit\n",
            "Enter your choice: 6\n",
            "Exiting CMS. Goodbye!\n"
          ]
        }
      ]
    }
  ]
}