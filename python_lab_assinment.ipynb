{
  "nbformat": 4,
  "nbformat_minor": 0,
  "metadata": {
    "colab": {
      "provenance": []
    },
    "kernelspec": {
      "name": "python3",
      "display_name": "Python 3"
    },
    "language_info": {
      "name": "python"
    }
  },
  "cells": [
    {
      "cell_type": "markdown",
      "source": [
        "wrie a program to caluclate the area of circle in given radius\n"
      ],
      "metadata": {
        "id": "UhRPTeFW8enj"
      }
    },
    {
      "cell_type": "code",
      "source": [
        "a=10\n",
        "def area(a):\n",
        "  return 3.14*a*a\n",
        "print(area(a))"
      ],
      "metadata": {
        "colab": {
          "base_uri": "https://localhost:8080/"
        },
        "id": "IrRehQd8yz8T",
        "outputId": "11ae3a6d-862b-4e71-8d61-716df85903d1"
      },
      "execution_count": null,
      "outputs": [
        {
          "output_type": "stream",
          "name": "stdout",
          "text": [
            "314.0\n"
          ]
        }
      ]
    },
    {
      "cell_type": "markdown",
      "source": [
        "write creat a program that take user input from a temperture in celusius and convert into fahernit"
      ],
      "metadata": {
        "id": "NZzIpM6V9Q7z"
      }
    },
    {
      "cell_type": "code",
      "source": [
        "\n",
        "celsius = 47\n",
        "\n",
        "fahrenheit = (celsius * 1.8) + 32\n",
        "\n",
        "print('%.2f Celsius is equivalent to: %.2f Fahrenheit'\n",
        "\t% (celsius, fahrenheit))\n"
      ],
      "metadata": {
        "colab": {
          "base_uri": "https://localhost:8080/"
        },
        "id": "xJ1MTcU4y5UM",
        "outputId": "e503a791-d559-486c-c069-2d7f3a156744"
      },
      "execution_count": null,
      "outputs": [
        {
          "output_type": "stream",
          "name": "stdout",
          "text": [
            "47.00 Celsius is equivalent to: 116.60 Fahrenheit\n"
          ]
        }
      ]
    },
    {
      "cell_type": "markdown",
      "source": [
        "implement a calculater that perform basic arthmatic opration (addition ,substraction ,multiplication ,division) based on user input"
      ],
      "metadata": {
        "id": "pcNhyZz30Ns7"
      }
    },
    {
      "cell_type": "code",
      "source": [
        "# add two numbers\n",
        "def add(num1, num2):\n",
        "    return num1 + num2\n",
        "\n",
        "# subtract two numbers\n",
        "def subtract(num1, num2):\n",
        "    return num1 - num2\n",
        "\n",
        "# multiply two numbers\n",
        "def multiply(num1, num2):\n",
        "    return num1 * num2\n",
        "\n",
        "# divide two numbers\n",
        "def divide(num1, num2):\n",
        "    return num1 / num2\n",
        "\n",
        "print(\"Please select operation -\\n\" \\\n",
        "        \"1  = Add\\n\" \\\n",
        "        \"2 = Subtract\\n\" \\\n",
        "        \"3 = Multiply\\n\" \\\n",
        "        \"4 = Divide\\n\")\n",
        "\n",
        "select = int(input(\"Select operations form 1, 2, 3, 4 :\"))\n",
        "\n",
        "n1 = int(input(\"Enter first number: \"))\n",
        "n2= int(input(\"Enter second number: \"))\n",
        "\n",
        "if select == 1:\n",
        "    print(n1, \"+\", n2, \"=\", add(n1,n2))\n",
        "\n",
        "elif select == 2:\n",
        "    print(n1, \"-\", n2, \"=\",subtract(n1, n2))\n",
        "\n",
        "elif select == 3:\n",
        "    print(n1, \"*\", n2, \"=\", multiply(n1, n2))\n",
        "\n",
        "elif select == 4:\n",
        "    print(n1, \"/\", n2, \"=\", divide(n1, n2))\n",
        "else:\n",
        "    print(\"Invalid input\")"
      ],
      "metadata": {
        "colab": {
          "base_uri": "https://localhost:8080/"
        },
        "id": "XHypLTyizzRE",
        "outputId": "56717ba2-0393-4728-a9e9-5741915206b1"
      },
      "execution_count": null,
      "outputs": [
        {
          "output_type": "stream",
          "name": "stdout",
          "text": [
            "Please select operation -\n",
            "1  = Add\n",
            "2 = Subtract\n",
            "3 = Multiply\n",
            "4 = Divide\n",
            "\n",
            "Select operations form 1, 2, 3, 4 :3\n",
            "Enter first number: 12\n",
            "Enter second number: 2\n",
            "12 * 2 = 24\n"
          ]
        }
      ]
    },
    {
      "cell_type": "markdown",
      "source": [
        "Write a program that checks if a number is even or odd."
      ],
      "metadata": {
        "id": "8fdgzds94cdF"
      }
    },
    {
      "cell_type": "code",
      "source": [
        "n = int(input(\"Enter a number: \"))\n",
        "if (n % 2) == 0:\n",
        "   print(\"this is Even\")\n",
        "else:\n",
        "   print(\"this is Odd\")"
      ],
      "metadata": {
        "colab": {
          "base_uri": "https://localhost:8080/"
        },
        "id": "WgUr3N7yzhHu",
        "outputId": "9dd4bdf3-430d-42f7-eec2-27a8e6c56a97"
      },
      "execution_count": null,
      "outputs": [
        {
          "output_type": "stream",
          "name": "stdout",
          "text": [
            "Enter a number: 34\n",
            "this is Even\n"
          ]
        }
      ]
    },
    {
      "cell_type": "markdown",
      "source": [
        "Develop a function that takes a string as input and returns the string reversed"
      ],
      "metadata": {
        "id": "fFp8iGYS6BEd"
      }
    },
    {
      "cell_type": "code",
      "source": [
        "s = \"swati_prajapati\"\n",
        "rev = ''.join(reversed(s))\n",
        "print(rev)"
      ],
      "metadata": {
        "colab": {
          "base_uri": "https://localhost:8080/"
        },
        "id": "dtNUdaJZzn7U",
        "outputId": "09e7cb91-230d-4354-ee6c-1266581cfedb"
      },
      "execution_count": null,
      "outputs": [
        {
          "output_type": "stream",
          "name": "stdout",
          "text": [
            "itapajarp_itaws\n"
          ]
        }
      ]
    },
    {
      "cell_type": "markdown",
      "source": [
        "Create a program that asks the user for their age and prints whether they are a minor,adult, or senior"
      ],
      "metadata": {
        "id": "XZcxDCeW9tw-"
      }
    },
    {
      "cell_type": "code",
      "source": [
        "age = int(input(\"Enter your age: \"))\n",
        "\n",
        "if age < 18:\n",
        "  print(\"minor\")\n",
        "elif age >= 18 and age < 65:\n",
        "  print(\"adult\")\n",
        "else:\n",
        "  print(\"senior\")"
      ],
      "metadata": {
        "colab": {
          "base_uri": "https://localhost:8080/"
        },
        "id": "8uUyuTF6zrZD",
        "outputId": "bff94151-abd6-422d-9065-31b33aa00fd9"
      },
      "execution_count": null,
      "outputs": [
        {
          "output_type": "stream",
          "name": "stdout",
          "text": [
            "Enter your age: 45\n",
            "adult\n"
          ]
        }
      ]
    },
    {
      "cell_type": "markdown",
      "source": [
        "Write a program that evaluates three numbers and prints the largest one"
      ],
      "metadata": {
        "id": "uwFvKGQe-sgH"
      }
    },
    {
      "cell_type": "code",
      "source": [
        "a =23\n",
        "b=12\n",
        "c=32\n",
        "if a>b and a>c:\n",
        "  print(\"a is larger number\")\n",
        "  if b>a and b>c:\n",
        "    print(\"b is larger number\")\n",
        "else:\n",
        "  print(\"c is larger than a and b\")"
      ],
      "metadata": {
        "colab": {
          "base_uri": "https://localhost:8080/"
        },
        "id": "j7Fcil2Rz3x0",
        "outputId": "947959cb-ea2d-4c38-bee6-c632b558ecc6"
      },
      "execution_count": null,
      "outputs": [
        {
          "output_type": "stream",
          "name": "stdout",
          "text": [
            "c is larger than a and b\n"
          ]
        }
      ]
    },
    {
      "cell_type": "markdown",
      "source": [
        "Implement a program that gives feedback based on a user's score (A, B. C. D.F)."
      ],
      "metadata": {
        "id": "yAYBSvv5AJwY"
      }
    },
    {
      "cell_type": "code",
      "source": [
        "def feedback(score):\n",
        "  if score >= 80:\n",
        "    print(\"Excellent score : A grad \")\n",
        "  elif score >= 70:\n",
        "    print(\"Good score.B grad\")\n",
        "  elif score >= 60:\n",
        "     print(\"average score.C grad\")\n",
        "  elif score >= 50:\n",
        "     print(\"average score.D grad\")\n",
        "  else:\n",
        "    print(\"F grad\")\n",
        "score =int (input(\"enter score\"))\n",
        "feedback(score)"
      ],
      "metadata": {
        "colab": {
          "base_uri": "https://localhost:8080/"
        },
        "id": "CGuRDHNmz7P0",
        "outputId": "60e68b7b-3935-44a1-e44d-570e1b3f20c9"
      },
      "execution_count": null,
      "outputs": [
        {
          "output_type": "stream",
          "name": "stdout",
          "text": [
            "enter score81\n",
            "Excellent score : A grad \n"
          ]
        }
      ]
    },
    {
      "cell_type": "markdown",
      "source": [
        "Write a program to check if a year is leap year"
      ],
      "metadata": {
        "id": "NcOcslweNOYb"
      }
    },
    {
      "cell_type": "code",
      "source": [
        "def leapyear(year):\n",
        "  if (year % 4==0 and year % 100 != 0):\n",
        "    print (\"this is leap \")\n",
        "  elif (year% 400 == 0):\n",
        "    print (\"this is leap \")\n",
        "  else :\n",
        "    print (\"this is not leap \")\n",
        "year=int(input(\"enter year \"))\n",
        "leapyear(year)"
      ],
      "metadata": {
        "colab": {
          "base_uri": "https://localhost:8080/"
        },
        "id": "T7U5Kbzrz_WU",
        "outputId": "848c4be8-ab44-4ba4-8530-945cf24c8e48"
      },
      "execution_count": null,
      "outputs": [
        {
          "output_type": "stream",
          "name": "stdout",
          "text": [
            "enter year 2005\n",
            "this is not leap \n"
          ]
        }
      ]
    },
    {
      "cell_type": "markdown",
      "source": [
        " Develop a simple login system that checks a username and password."
      ],
      "metadata": {
        "id": "BUmaNfjpzeab"
      }
    },
    {
      "cell_type": "code",
      "source": [
        "def logic():\n",
        "\n",
        "  username = input(\"Enter your username: \")\n",
        "  password = input(\"Enter your password: \")\n",
        "\n",
        "  if username == user and password == code:\n",
        "    print(\"Login successful!\")\n",
        "  else:\n",
        "    print(\"Invalid username or password.\")\n",
        "\n",
        "user = \"swati\"\n",
        "code = \"12345\"\n",
        "logic()"
      ],
      "metadata": {
        "colab": {
          "base_uri": "https://localhost:8080/"
        },
        "id": "cR6dvVWP0C6U",
        "outputId": "aa60c5dd-5a86-4b38-b625-3c4a56718000"
      },
      "execution_count": null,
      "outputs": [
        {
          "output_type": "stream",
          "name": "stdout",
          "text": [
            "Enter your username: swati\n",
            "Enter your password: 123456\n",
            "Invalid username or password.\n"
          ]
        }
      ]
    },
    {
      "cell_type": "markdown",
      "source": [
        "11. Write a Python program that counts the number of vovels in a given string."
      ],
      "metadata": {
        "id": "r1Xr521HAQc-"
      }
    },
    {
      "cell_type": "code",
      "source": [
        "def check_vowels(s):\n",
        "  vowel=['a','e','i','o','u','A','E','I','U','O']\n",
        "  for s in vowel:\n",
        "    return True\n",
        "  else:\n",
        "    return False\n",
        "def count_vowels(s):\n",
        "  count=0\n",
        "  for i in s:\n",
        "    count +=1\n",
        "    return count\n",
        "\n",
        "s = \"a\"\n",
        "print(check_vowels(s))\n",
        "print(count_vowels(s))"
      ],
      "metadata": {
        "colab": {
          "base_uri": "https://localhost:8080/"
        },
        "id": "kPbhYm520GAE",
        "outputId": "6e1ceaab-8c9d-4a97-c3ae-f3adbf1fc38d"
      },
      "execution_count": null,
      "outputs": [
        {
          "output_type": "stream",
          "name": "stdout",
          "text": [
            "True\n",
            "1\n"
          ]
        }
      ]
    },
    {
      "cell_type": "markdown",
      "source": [
        "12. Create a function that removes all whitespace from a user-inputted string"
      ],
      "metadata": {
        "id": "QpYepYLNC0MO"
      }
    },
    {
      "cell_type": "code",
      "source": [
        "def string_a(text):\n",
        "  return text.replace(\" \", \"\")\n",
        "\n",
        "text =\"swati prajapati\"\n",
        "print(string_a(\"swati prajapati\"))"
      ],
      "metadata": {
        "colab": {
          "base_uri": "https://localhost:8080/"
        },
        "id": "bnu7dAYP0Jdk",
        "outputId": "d0681447-da57-4ba1-c9aa-fc89bab288c2"
      },
      "execution_count": null,
      "outputs": [
        {
          "output_type": "stream",
          "name": "stdout",
          "text": [
            "swatiprajapati\n"
          ]
        }
      ]
    },
    {
      "cell_type": "markdown",
      "source": [
        "13. Implement a program to check if two strings are anagrams of each other."
      ],
      "metadata": {
        "id": "LSoOtgZdEl3P"
      }
    },
    {
      "cell_type": "code",
      "source": [
        "def are_anagrams(str1, str2):\n",
        "\n",
        "  str1 = str1.lower().replace(\" \", \"\")\n",
        "  str2 = str2.lower().replace(\" \", \"\")\n",
        "\n",
        "  return sorted(str1) == sorted(str2)\n",
        "\n",
        "string1 = input(\"Enter the first string: \")\n",
        "string2 = input(\"Enter the second string: \")\n",
        "\n",
        "if are_anagrams(string1, string2):\n",
        "  print(\"The strings are anagrams.\")\n",
        "else:\n",
        "  print(\"The strings are not anagrams.\")"
      ],
      "metadata": {
        "colab": {
          "base_uri": "https://localhost:8080/"
        },
        "id": "YnQtUyqq0MMD",
        "outputId": "cce413b1-affb-4790-d6a0-e348c7656fb1"
      },
      "execution_count": null,
      "outputs": [
        {
          "output_type": "stream",
          "name": "stdout",
          "text": [
            "Enter the first string: swati\n",
            "Enter the second string: prajapati\n",
            "The strings are not anagrams.\n"
          ]
        }
      ]
    },
    {
      "cell_type": "markdown",
      "source": [
        "14. Write a program to count the frequency of words in a given sentence"
      ],
      "metadata": {
        "id": "pI36on38Hmgd"
      }
    },
    {
      "cell_type": "code",
      "source": [
        "def frequency(sentence):\n",
        "    words = sentence.split()\n",
        "\n",
        "    word_count = {}\n",
        "\n",
        "    for word in words:\n",
        "        word = word.lower()\n",
        "        if word in word_count:\n",
        "            word_count[word] += 1\n",
        "        else:\n",
        "            word_count[word] = 1\n",
        "\n",
        "    return word_count\n",
        "\n",
        "sentence = input(\"Enter a sentence: \")\n",
        "result = frequency(sentence)\n",
        "\n",
        "print(\"Word frequency count:\")\n",
        "for word, count in result.items():\n",
        "    print(f\"{word}: {count}\")"
      ],
      "metadata": {
        "colab": {
          "base_uri": "https://localhost:8080/"
        },
        "id": "4-3vFhR60PoE",
        "outputId": "965a69cc-ff02-4aa1-83a0-9d579d6afa0b"
      },
      "execution_count": null,
      "outputs": [
        {
          "output_type": "stream",
          "name": "stdout",
          "text": [
            "Enter a sentence: this  is  a car and car is blue\n",
            "Word frequency count:\n",
            "this: 1\n",
            "is: 2\n",
            "a: 1\n",
            "car: 2\n",
            "and: 1\n",
            "blue: 1\n"
          ]
        }
      ]
    },
    {
      "cell_type": "markdown",
      "source": [
        "15. Create a fuinction that replaces every occurrence of a substring with another substring in a string"
      ],
      "metadata": {
        "id": "8774csQdJbFl"
      }
    },
    {
      "cell_type": "code",
      "source": [
        "input_string = \"swatiprajapati\"\n",
        "s1 = \"swati\"\n",
        "s2 = \"rajeshwari\"\n",
        "input_string = input_string.replace(s1, s2)\n",
        "print(input_string)"
      ],
      "metadata": {
        "colab": {
          "base_uri": "https://localhost:8080/"
        },
        "id": "yfeoJMAB0SWT",
        "outputId": "f8463f35-10ae-46ea-9507-8c2c3b12a51e"
      },
      "execution_count": null,
      "outputs": [
        {
          "output_type": "stream",
          "name": "stdout",
          "text": [
            "rajeshwariprajapati\n"
          ]
        }
      ]
    },
    {
      "cell_type": "markdown",
      "source": [
        "16. Write a program that generates the first 10 Fibonacci numbers using iteration"
      ],
      "metadata": {
        "id": "qo0aGSEtaESl"
      }
    },
    {
      "cell_type": "code",
      "source": [
        "num1 = 0\n",
        "num2 = 1\n",
        "next_number = num1\n",
        "count = 1\n",
        "\n",
        "while count <= 10:\n",
        "    print(next_number, end=\" \")\n",
        "    count += 1\n",
        "    num1 = num2\n",
        "    num2 = next_number\n",
        "    next_number = num1 + num2\n",
        "print()"
      ],
      "metadata": {
        "colab": {
          "base_uri": "https://localhost:8080/"
        },
        "id": "91NWT8PT0Vus",
        "outputId": "cad458b5-aeb3-4b30-cede-dda6e49bf2a5"
      },
      "execution_count": null,
      "outputs": [
        {
          "output_type": "stream",
          "name": "stdout",
          "text": [
            "0 1 1 2 3 5 8 13 21 34 \n"
          ]
        }
      ]
    },
    {
      "cell_type": "markdown",
      "source": [
        "17. Create a program that sums all ever numbers from 1 to 100"
      ],
      "metadata": {
        "id": "bWaYOtzzbl1U"
      }
    },
    {
      "cell_type": "code",
      "source": [
        "total = 0\n",
        "for num in range(1,101):\n",
        "  if num % 2 ==0:\n",
        "    total += num\n",
        "print(\" sum is all ever numbers from 1 to 100\")\n",
        "print(\"total\",total)"
      ],
      "metadata": {
        "colab": {
          "base_uri": "https://localhost:8080/"
        },
        "id": "q-yWNHDA0bhc",
        "outputId": "c1afef74-f4fb-4bb3-85d3-6f921c0dfaba"
      },
      "execution_count": null,
      "outputs": [
        {
          "output_type": "stream",
          "name": "stdout",
          "text": [
            " sum is all ever numbers from 1 to 100\n",
            "total 2550\n"
          ]
        }
      ]
    },
    {
      "cell_type": "markdown",
      "source": [
        "18. Write a Python script that prints the multiplication table of a user-defined\n",
        "number."
      ],
      "metadata": {
        "id": "9v9bsHnneHez"
      }
    },
    {
      "cell_type": "code",
      "source": [
        "num = int (input(\"enter a number\"))\n",
        "\n",
        "for i in range(1, 11):\n",
        "   print(num, 'x', i, '=', num*i)"
      ],
      "metadata": {
        "colab": {
          "base_uri": "https://localhost:8080/"
        },
        "id": "2IkHstHo0eEj",
        "outputId": "c982c62c-884f-44aa-99cc-67c277e8bd9b"
      },
      "execution_count": null,
      "outputs": [
        {
          "output_type": "stream",
          "name": "stdout",
          "text": [
            "enter a number2\n",
            "2 x 1 = 2\n",
            "2 x 2 = 4\n",
            "2 x 3 = 6\n",
            "2 x 4 = 8\n",
            "2 x 5 = 10\n",
            "2 x 6 = 12\n",
            "2 x 7 = 14\n",
            "2 x 8 = 16\n",
            "2 x 9 = 18\n",
            "2 x 10 = 20\n"
          ]
        }
      ]
    },
    {
      "cell_type": "markdown",
      "source": [
        "19. Develop a program that calculates the factorial of a number using a loop"
      ],
      "metadata": {
        "id": "QY8YELQXfadZ"
      }
    },
    {
      "cell_type": "code",
      "source": [
        "num = 3\n",
        "factorial = 1\n",
        "\n",
        "if num < 0:\n",
        "   print(\"factorial not exist for negative numbers\")\n",
        "elif num == 0:\n",
        "   print(\"factorial of 0 is 1\")\n",
        "else:\n",
        "   for i in range(1,num + 1):\n",
        "       factorial = factorial*i\n",
        "   print(\"The factorial of\",num,\"is\",factorial)"
      ],
      "metadata": {
        "colab": {
          "base_uri": "https://localhost:8080/"
        },
        "id": "dxy0ipEY0ii8",
        "outputId": "88dba5b0-a9e1-4aa8-c056-2e9c5cbe2803"
      },
      "execution_count": null,
      "outputs": [
        {
          "output_type": "stream",
          "name": "stdout",
          "text": [
            "The factorial of 3 is 6\n"
          ]
        }
      ]
    },
    {
      "cell_type": "markdown",
      "source": [
        "20. Create a function that lists all prime numbers up to a specified limit."
      ],
      "metadata": {
        "id": "CK8x8F-khnWB"
      }
    },
    {
      "cell_type": "code",
      "source": [
        "def prime(x, y):\n",
        "    prime_list = []\n",
        "    for i in range(x, y):\n",
        "        if i == 0 or i == 1:\n",
        "            continue\n",
        "        else:\n",
        "            for j in range(2, int(i/2)+1):\n",
        "                if i % j == 0:\n",
        "                    break\n",
        "            else:\n",
        "                prime_list.append(i)\n",
        "    return prime_list\n",
        "\n",
        "starting_range = 1\n",
        "ending_range = 15\n",
        "lst = prime(starting_range, ending_range)\n",
        "if len(lst) == 0:\n",
        "    print(\"There are no prime numbers in this range\")\n",
        "else:\n",
        "    print(\"The prime numbers in this range are: \", lst)"
      ],
      "metadata": {
        "colab": {
          "base_uri": "https://localhost:8080/"
        },
        "id": "LhQ6veWc0l6r",
        "outputId": "718907c8-0486-4c32-a48e-947178f5b6a2"
      },
      "execution_count": null,
      "outputs": [
        {
          "output_type": "stream",
          "name": "stdout",
          "text": [
            "The prime numbers in this range are:  [2, 3, 5, 7, 11, 13]\n"
          ]
        }
      ]
    },
    {
      "cell_type": "markdown",
      "source": [
        "21. Write a function that calculates the greatest common divisor (GCD) of two numbers."
      ],
      "metadata": {
        "id": "8ZvfEnBlj7YH"
      }
    },
    {
      "cell_type": "code",
      "source": [
        "def gcd(a, b):\n",
        "    while b != 0:\n",
        "        a , b = b , a % b\n",
        "    return a\n",
        "\n",
        "x = 48\n",
        "y = 18\n",
        "print(f\"The GCD of {x} and {y} is {gcd(x, y)}\")"
      ],
      "metadata": {
        "colab": {
          "base_uri": "https://localhost:8080/"
        },
        "id": "O0_svf360ofU",
        "outputId": "60c7581d-f5ec-4397-bb52-3a1f63fdf251"
      },
      "execution_count": null,
      "outputs": [
        {
          "output_type": "stream",
          "name": "stdout",
          "text": [
            "The GCD of 48 and 18 is 6\n"
          ]
        }
      ]
    },
    {
      "cell_type": "markdown",
      "source": [
        "22. Create a Python function that takes a list of numbers and returns the largest number"
      ],
      "metadata": {
        "id": "PXXi6Zl-q1I0"
      }
    },
    {
      "cell_type": "code",
      "source": [
        "a = [10, 24, 76, 23, 12]\n",
        "\n",
        "largest = max(a)\n",
        "print(largest)"
      ],
      "metadata": {
        "colab": {
          "base_uri": "https://localhost:8080/"
        },
        "id": "6CyhtXFL0rC8",
        "outputId": "ce6f57f1-2430-43e4-9990-e97119895c9d"
      },
      "execution_count": null,
      "outputs": [
        {
          "output_type": "stream",
          "name": "stdout",
          "text": [
            "76\n"
          ]
        }
      ]
    },
    {
      "cell_type": "markdown",
      "source": [
        "23.\tImplement a function for finding the factorial of a number using recursion."
      ],
      "metadata": {
        "id": "5KgtMiB60B53"
      }
    },
    {
      "cell_type": "code",
      "source": [
        "def Recursion(num):\n",
        "  if num == 1:\n",
        "    return 1\n",
        "  else:\n",
        "    return num* Recursion(num-1)\n",
        "\n",
        "num = 5\n",
        "Recursion(num)"
      ],
      "metadata": {
        "colab": {
          "base_uri": "https://localhost:8080/"
        },
        "id": "LMs8m4j40txs",
        "outputId": "4bde2e81-ecb8-4c8b-9c8a-b0773e1f95e3"
      },
      "execution_count": null,
      "outputs": [
        {
          "output_type": "execute_result",
          "data": {
            "text/plain": [
              "120"
            ]
          },
          "metadata": {},
          "execution_count": 29
        }
      ]
    },
    {
      "cell_type": "markdown",
      "source": [
        "24.\tWrite a program that utilizes global variables and demonstrates their use in functions."
      ],
      "metadata": {
        "id": "z4lQIG7a1pyH"
      }
    },
    {
      "cell_type": "code",
      "source": [
        "G_var = 10\n",
        "\n",
        "def modify_global():\n",
        "  global G_var\n",
        "  G_var = 31\n",
        "\n",
        "def access_global():\n",
        "  print(G_var)\n",
        "\n",
        "access_global()\n",
        "modify_global()\n",
        "access_global()"
      ],
      "metadata": {
        "colab": {
          "base_uri": "https://localhost:8080/"
        },
        "id": "1E1MbxOY0w6T",
        "outputId": "e747b06f-ed18-444c-9a7e-a422c3f5caac"
      },
      "execution_count": null,
      "outputs": [
        {
          "output_type": "stream",
          "name": "stdout",
          "text": [
            "10\n",
            "31\n"
          ]
        }
      ]
    },
    {
      "cell_type": "markdown",
      "source": [
        "25.\tDevelop a module that contains utility functions for string manipulations."
      ],
      "metadata": {
        "id": "VlxfouqO6Q8V"
      }
    },
    {
      "cell_type": "code",
      "source": [
        "import string\n",
        "\n",
        "print(string.ascii_letters)\n",
        "\n",
        "print(string.ascii_lowercase)\n",
        "\n",
        "print(string.ascii_uppercase)\n",
        "\n",
        "print(string.digits)\n",
        "\n",
        "print(string.hexdigits)\n",
        "\n",
        "print(string.octdigits)\n",
        "\n",
        "print(string.punctuation)\n",
        "\n",
        "print(string.printable)\n",
        "\n",
        "print(string.whitespace)"
      ],
      "metadata": {
        "colab": {
          "base_uri": "https://localhost:8080/"
        },
        "id": "U0yLrzaK00Zj",
        "outputId": "6002bef3-a154-426e-e90f-b4406d44bd51"
      },
      "execution_count": null,
      "outputs": [
        {
          "output_type": "stream",
          "name": "stdout",
          "text": [
            "abcdefghijklmnopqrstuvwxyzABCDEFGHIJKLMNOPQRSTUVWXYZ\n",
            "abcdefghijklmnopqrstuvwxyz\n",
            "ABCDEFGHIJKLMNOPQRSTUVWXYZ\n",
            "0123456789\n",
            "0123456789abcdefABCDEF\n",
            "01234567\n",
            "!\"#$%&'()*+,-./:;<=>?@[\\]^_`{|}~\n",
            "0123456789abcdefghijklmnopqrstuvwxyzABCDEFGHIJKLMNOPQRSTUVWXYZ!\"#$%&'()*+,-./:;<=>?@[\\]^_`{|}~ \t\n",
            "\r\u000b\f\n",
            " \t\n",
            "\r\u000b\f\n"
          ]
        }
      ]
    },
    {
      "cell_type": "markdown",
      "source": [
        "26.\tWrite a simple testing script that verifies the functionality of your calculator from a previous assignment."
      ],
      "metadata": {
        "id": "2uOAdyVH61VU"
      }
    },
    {
      "cell_type": "code",
      "source": [
        "def calc(a,num1,num2):\n",
        "  if a == 1:\n",
        "    return num1 + num2\n",
        "  if a == 2:\n",
        "    return num1 - num2\n",
        "  if a == 3:\n",
        "    return num1 * num2\n",
        "  if a == 4:\n",
        "    return num1 / num2\n",
        "  else:\n",
        "    print(\"invaid statament\")\n",
        "\n",
        "calc(2,24,12)"
      ],
      "metadata": {
        "colab": {
          "base_uri": "https://localhost:8080/"
        },
        "id": "5HH0H2fn03CU",
        "outputId": "f3b53005-ec15-4b29-e186-7f9a2efea08a"
      },
      "execution_count": null,
      "outputs": [
        {
          "output_type": "execute_result",
          "data": {
            "text/plain": [
              "12"
            ]
          },
          "metadata": {},
          "execution_count": 32
        }
      ]
    },
    {
      "cell_type": "markdown",
      "source": [
        "27.\tCreate a program that includes debugging statements to show the flow of execution."
      ],
      "metadata": {
        "id": "BPJPoEp367al"
      }
    },
    {
      "cell_type": "code",
      "source": [
        "def add_numbers(a, b):\n",
        "    print(f\"Entering add_numbers function with arguments: a = {a}, b = {b}\")\n",
        "    result = a + b\n",
        "    print(f\"Result of addition: {result}\")\n",
        "    return result\n",
        "def main():\n",
        "    print(\"Program started.\")\n",
        "\n",
        "    # Variables to test the functions\n",
        "    num1 = 5\n",
        "    num2 = 10\n",
        "\n",
        "    print(f\"Calling add_numbers with {num1} and {num2}\")\n",
        "    addition_result = add_numbers(num1, num2)\n",
        "\n",
        "    print(f\"Addition result: {addition_result}\")\n",
        "\n",
        "    print(\"Program ended.\")\n",
        "\n",
        "if __name__ == \"__main__\":\n",
        "    main()"
      ],
      "metadata": {
        "colab": {
          "base_uri": "https://localhost:8080/"
        },
        "id": "EdVDjLo6059b",
        "outputId": "11dcf2e8-eaba-4024-a7c9-f4a36b998e97"
      },
      "execution_count": null,
      "outputs": [
        {
          "output_type": "stream",
          "name": "stdout",
          "text": [
            "Program started.\n",
            "Calling add_numbers with 5 and 10\n",
            "Entering add_numbers function with arguments: a = 5, b = 10\n",
            "Result of addition: 15\n",
            "Addition result: 15\n",
            "Program ended.\n"
          ]
        }
      ]
    },
    {
      "cell_type": "markdown",
      "source": [
        "28.\tImplement a function and write unit tests to confirm its correctness using assertions"
      ],
      "metadata": {
        "id": "oSVEQRgEx7Oh"
      }
    },
    {
      "cell_type": "code",
      "source": [
        "def factorial(n):\n",
        "    if n < 0:\n",
        "        print(\"Input must be a non-negative integer\")\n",
        "    if n == 0:\n",
        "        return 1\n",
        "    result = 1\n",
        "    if n>0:\n",
        "      return n*factorial(n-1)\n",
        "\n",
        "def test_factorial():\n",
        "    # Test factorial of 0\n",
        "    assert factorial(0) == 1, \"Test Case 1 Failed\"\n",
        "\n",
        "    # Test factorial of 1\n",
        "    assert factorial(1) == 1, \"Test Case 2 Failed\"\n",
        "\n",
        "    # Test factorial of 2\n",
        "    assert factorial(2) == 2, \"Test Case 3 Failed\"\n",
        "\n",
        "    # Test factorial of 3\n",
        "    assert factorial(3) == 6, \"Test Case 4 Failed\"\n",
        "\n",
        "    # Test factorial of 4\n",
        "    assert factorial(4) == 24, \"Test Case 5 Failed\"\n",
        "\n",
        "    # Test factorial of 5\n",
        "    assert factorial(5) == 120, \"Test Case 6 Failed\"\n",
        "\n",
        "    print(\"All test cases passed!\")\n",
        "\n",
        "print(factorial(5))\n",
        "test_factorial()"
      ],
      "metadata": {
        "colab": {
          "base_uri": "https://localhost:8080/"
        },
        "id": "LXZ3YAhj0_Mk",
        "outputId": "75826f74-b114-4e23-bac9-73273c2b5f0d"
      },
      "execution_count": null,
      "outputs": [
        {
          "output_type": "stream",
          "name": "stdout",
          "text": [
            "120\n",
            "All test cases passed!\n"
          ]
        }
      ]
    },
    {
      "cell_type": "markdown",
      "source": [
        "29.\tWrite a program that intentionally has a bug, and then demonstrate how to fix it."
      ],
      "metadata": {
        "id": "tKq8rFng7ElN"
      }
    },
    {
      "cell_type": "code",
      "source": [
        "def calculate_average(numbers):\n",
        "    if len(numbers) == 0:\n",
        "        return None\n",
        "\n",
        "    total = 0\n",
        "    for number in numbers:\n",
        "        total += number\n",
        "\n",
        "    return total / len(numbers)\n",
        "\n",
        "numbers = []\n",
        "result = calculate_average(numbers)\n",
        "\n",
        "if result is None:\n",
        "    print(\"Cannot calculate the average: The list is empty.\")\n",
        "else:\n",
        "    print(\"Average:\", result)"
      ],
      "metadata": {
        "colab": {
          "base_uri": "https://localhost:8080/"
        },
        "id": "eNHO7kHD1DE0",
        "outputId": "ace8538b-702b-4532-ec1f-5f318b9e5454"
      },
      "execution_count": null,
      "outputs": [
        {
          "output_type": "stream",
          "name": "stdout",
          "text": [
            "Cannot calculate the average: The list is empty.\n"
          ]
        }
      ]
    },
    {
      "cell_type": "markdown",
      "source": [
        "30.\tCreate a logging system that tracks function calls and their parameters."
      ],
      "metadata": {
        "id": "OLtkg29C7JJV"
      }
    },
    {
      "cell_type": "code",
      "source": [
        "import logging\n",
        "from functools import wraps\n",
        "\n",
        "logging.basicConfig(level=logging.INFO, format='%(asctime)s - %(message)s')\n",
        "logger = logging.getLogger(__name__)\n",
        "\n",
        "def log_function_call(func):\n",
        "    @wraps(func)\n",
        "    def wrapper(*args, **kwargs):\n",
        "        logger.info(f\"Calling function: {func.__name__} with arguments: {args} and keyword arguments: {kwargs}\")\n",
        "\n",
        "        result = func(*args, **kwargs)\n",
        "\n",
        "        logger.info(f\"Function: {func.__name__} returned: {result}\")\n",
        "\n",
        "        return result\n",
        "    return wrapper\n",
        "\n",
        "@log_function_call\n",
        "def add(a, b):\n",
        "    return a + b\n",
        "\n",
        "@log_function_call\n",
        "def greet(name, greeting=\"Hello\"):\n",
        "    return f\"{greeting}, {name}!\"\n",
        "\n",
        "@log_function_call\n",
        "def multiply(x, y):\n",
        "    return x * y\n",
        "\n",
        "add(2, 3)\n",
        "greet(\"Alice\", greeting=\"Hi\")\n",
        "multiply(4, 5)\n"
      ],
      "metadata": {
        "colab": {
          "base_uri": "https://localhost:8080/"
        },
        "id": "rvChnyBU1RUs",
        "outputId": "135eaaf1-95d7-47e7-c099-4c9e2cb66e7d"
      },
      "execution_count": null,
      "outputs": [
        {
          "output_type": "execute_result",
          "data": {
            "text/plain": [
              "20"
            ]
          },
          "metadata": {},
          "execution_count": 36
        }
      ]
    },
    {
      "cell_type": "markdown",
      "source": [
        "31.\tWrite a Python script to demonstrate the usage of tuples for storing coordinates."
      ],
      "metadata": {
        "id": "jWzN8VeD7MlE"
      }
    },
    {
      "cell_type": "code",
      "source": [
        "point1 = (2, 3)  # Represents x = 2, y = 3\n",
        "point2 = (5, 7)  # Represents x = 5, y = 7\n",
        "\n",
        "x1, y1 = point1  # Unpacking the tuple\n",
        "x2, y2 = point2\n",
        "\n",
        "print(x1,y1)\n",
        "print(x2,y2)\n",
        "\n",
        "distance = ((x2 - x1)**2 + (y2 - y1)**2)**0.5\n",
        "print(f\"Distance between points: {distance}\")"
      ],
      "metadata": {
        "colab": {
          "base_uri": "https://localhost:8080/"
        },
        "id": "WxxrlUSl1bDb",
        "outputId": "01ef5120-1a6b-4b17-a63b-41430ea88305"
      },
      "execution_count": null,
      "outputs": [
        {
          "output_type": "stream",
          "name": "stdout",
          "text": [
            "2 3\n",
            "5 7\n",
            "Distance between points: 5.0\n"
          ]
        }
      ]
    },
    {
      "cell_type": "markdown",
      "source": [
        "32.\tCreate a program that uses lists and demonstrates mutability by modifying the list items."
      ],
      "metadata": {
        "id": "Fuwg-qkj7Rfc"
      }
    },
    {
      "cell_type": "code",
      "source": [
        "list1 = ['a','b','c']\n",
        "print(list1)\n",
        "list1.append('d')\n",
        "print(list1)"
      ],
      "metadata": {
        "colab": {
          "base_uri": "https://localhost:8080/"
        },
        "id": "0VgAHLAe1dcj",
        "outputId": "030c965d-f82e-4d78-98f1-4b7bf5400639"
      },
      "execution_count": null,
      "outputs": [
        {
          "output_type": "stream",
          "name": "stdout",
          "text": [
            "['a', 'b', 'c']\n",
            "['a', 'b', 'c', 'd']\n"
          ]
        }
      ]
    },
    {
      "cell_type": "markdown",
      "source": [
        "33.\tImplement a higher-order function that takes another function as an argument and applies it to a list."
      ],
      "metadata": {
        "id": "-AVyG3sE7Wb7"
      }
    },
    {
      "cell_type": "code",
      "source": [
        "def sqr(x):\n",
        "  return x*x\n",
        "\n",
        "def func(func, lst):\n",
        "  result = []\n",
        "  for item in lst:\n",
        "    result.append(func(item))\n",
        "  return result\n",
        "\n",
        "numbers = [1, 2, 3, 4, 5]\n",
        "squared = func(sqr, numbers)\n",
        "print(squared)"
      ],
      "metadata": {
        "colab": {
          "base_uri": "https://localhost:8080/"
        },
        "id": "sArnqY5B1geT",
        "outputId": "8fd0cc1c-3c98-4671-8226-146d517075f0"
      },
      "execution_count": null,
      "outputs": [
        {
          "output_type": "stream",
          "name": "stdout",
          "text": [
            "[1, 4, 9, 16, 25]\n"
          ]
        }
      ]
    },
    {
      "cell_type": "markdown",
      "source": [
        "34.\tWrite a program to simulate a simple inventory system using dictionaries."
      ],
      "metadata": {
        "id": "62AQYN-I7bZE"
      }
    },
    {
      "cell_type": "code",
      "source": [
        "class InventorySystem:\n",
        "    def __init__(self):\n",
        "        self.inventory = {}\n",
        "\n",
        "    def add_item(self, item_name, quantity):\n",
        "        \"\"\"Adds a new item or updates an existing item in the inventory.\"\"\"\n",
        "        if item_name in self.inventory:\n",
        "            self.inventory[item_name] += quantity\n",
        "            print(f\"Updated {item_name} quantity to {self.inventory[item_name]}.\")\n",
        "        else:\n",
        "            self.inventory[item_name] = quantity\n",
        "            print(f\"Added {item_name} with quantity {quantity}.\")\n",
        "\n",
        "    def remove_item(self, item_name):\n",
        "        \"\"\"Removes an item from the inventory.\"\"\"\n",
        "        if item_name in self.inventory:\n",
        "            del self.inventory[item_name]\n",
        "            print(f\"Removed {item_name} from the inventory.\")\n",
        "        else:\n",
        "            print(f\"Item {item_name} not found in the inventory.\")\n",
        "\n",
        "    def update_quantity(self, item_name, quantity):\n",
        "        \"\"\"Updates the quantity of an existing item in the inventory.\"\"\"\n",
        "        if item_name in self.inventory:\n",
        "            self.inventory[item_name] = quantity\n",
        "            print(f\"Updated {item_name} to quantity {quantity}.\")\n",
        "        else:\n",
        "            print(f\"Item {item_name} not found in the inventory.\")\n",
        "\n",
        "    def display_inventory(self):\n",
        "        \"\"\"Displays the current inventory.\"\"\"\n",
        "        if self.inventory:\n",
        "            print(\"\\nCurrent Inventory:\")\n",
        "            for item_name, quantity in self.inventory.items():\n",
        "                print(f\"{item_name}: {quantity}\")\n",
        "        else:\n",
        "            print(\"Inventory is empty.\")\n",
        "\n",
        "def inventory_menu():\n",
        "    inventory_system = InventorySystem()\n",
        "\n",
        "    while True:\n",
        "        print(\"\\nInventory Menu:\")\n",
        "        print(\"1. Add Item\")\n",
        "        print(\"2. Remove Item\")\n",
        "        print(\"3. Update Item Quantity\")\n",
        "        print(\"4. Display Inventory\")\n",
        "        print(\"5. Exit\")\n",
        "\n",
        "        choice = input(\"Choose an option (1-5): \")\n",
        "\n",
        "        if choice == '1':\n",
        "            item_name = input(\"Enter item name: \")\n",
        "            quantity = int(input(\"Enter item quantity: \"))\n",
        "            inventory_system.add_item(item_name, quantity)\n",
        "\n",
        "        elif choice == '2':\n",
        "            item_name = input(\"Enter item name to remove: \")\n",
        "            inventory_system.remove_item(item_name)\n",
        "\n",
        "        elif choice == '3':\n",
        "            item_name = input(\"Enter item name to update: \")\n",
        "            quantity = int(input(\"Enter new quantity: \"))\n",
        "            inventory_system.update_quantity(item_name, quantity)\n",
        "\n",
        "        elif choice == '4':\n",
        "            inventory_system.display_inventory()\n",
        "\n",
        "        elif choice == '5':\n",
        "            print(\"Exiting the inventory system. Goodbye!\")\n",
        "            break\n",
        "\n",
        "        else:\n",
        "            print(\"Invalid choice. Please select a valid option.\")\n",
        "\n",
        "if __name__ == \"__main__\":\n",
        "    inventory_menu()\n"
      ],
      "metadata": {
        "colab": {
          "base_uri": "https://localhost:8080/"
        },
        "id": "4ehdKNWS1ilU",
        "outputId": "14e4238c-3184-4184-b127-ef3f25425a6e"
      },
      "execution_count": null,
      "outputs": [
        {
          "output_type": "stream",
          "name": "stdout",
          "text": [
            "\n",
            "Inventory Menu:\n",
            "1. Add Item\n",
            "2. Remove Item\n",
            "3. Update Item Quantity\n",
            "4. Display Inventory\n",
            "5. Exit\n",
            "Choose an option (1-5): 1\n",
            "Enter item name: 1\n",
            "Enter item quantity: 1\n",
            "Added 1 with quantity 1.\n",
            "\n",
            "Inventory Menu:\n",
            "1. Add Item\n",
            "2. Remove Item\n",
            "3. Update Item Quantity\n",
            "4. Display Inventory\n",
            "5. Exit\n",
            "Choose an option (1-5): 5\n",
            "Exiting the inventory system. Goodbye!\n"
          ]
        }
      ]
    },
    {
      "cell_type": "markdown",
      "source": [
        "35.\tCreate a function that sorts a list of dictionaries by a specified key."
      ],
      "metadata": {
        "id": "FqSVaQGZ7fmc"
      }
    },
    {
      "cell_type": "code",
      "source": [
        "list = [{\"name\": \"Nandini\", \"age\": 20},\n",
        "       {\"name\": \"Manjeet\", \"age\": 20},\n",
        "       {\"name\": \"Nikhil\", \"age\": 19}]\n",
        "\n",
        "print(\"list printed sorting by age: \")\n",
        "print(sorted(list, key=lambda i: i['age']))\n",
        "\n",
        "print(\"\\r\")\n",
        "\n",
        "print(\"list printed sorting by age and name: \")\n",
        "print(sorted(list, key=lambda i: (i['age'], i['name'])))\n",
        "\n",
        "print(\"\\r\")\n",
        "\n",
        "print(\"list printed sorting by age in descending order: \")\n",
        "print(sorted(list, key=lambda i: i['age'], reverse=True))"
      ],
      "metadata": {
        "id": "wg6QF4yl6poi"
      },
      "execution_count": null,
      "outputs": []
    },
    {
      "cell_type": "markdown",
      "source": [
        "36.\tWrite a program that reads a file and handles exceptions if the file does not exist."
      ],
      "metadata": {
        "id": "d6Zhey0jB1hq"
      }
    },
    {
      "cell_type": "code",
      "source": [
        "def read_file(file_name):\n",
        "    try:\n",
        "        with open(file_name, 'r') as file:\n",
        "            content = file.read()\n",
        "            print(content)\n",
        "    except FileNotFoundError:\n",
        "        print(f\"Error: The file '{file_name}' does not exist.\")\n",
        "    except Exception as e:\n",
        "        print(f\"An unexpected error occurred: {e}\")\n",
        "\n",
        "# Example usage\n",
        "file_name = input(\"Enter the file name: \")\n",
        "read_file(file_name)"
      ],
      "metadata": {
        "colab": {
          "base_uri": "https://localhost:8080/"
        },
        "id": "2uCm-7PR1_aD",
        "outputId": "be67b1ec-5de1-40ba-b1ad-d763e02b6dd4"
      },
      "execution_count": null,
      "outputs": [
        {
          "output_type": "stream",
          "name": "stdout",
          "text": [
            "Enter the file name: swww\n",
            "Error: The file 'swww' does not exist.\n"
          ]
        }
      ]
    },
    {
      "cell_type": "markdown",
      "source": [
        "37.\tCreate a function that raises an exception if the input is not a positive number."
      ],
      "metadata": {
        "id": "TXOXShlzCBuK"
      }
    },
    {
      "cell_type": "code",
      "source": [
        "def check_number(value):\n",
        "    if value <= 0:\n",
        "        raise ValueError(\"Input must be a positive number.\")\n",
        "    return value\n",
        "    try:\n",
        "        number = float(input(\"Enter a positive number: \"))\n",
        "        result = check_number(number)\n",
        "        print(f\"Valid positive number: {result}\")\n",
        "    except ValueError as e:\n",
        "        print(f\"Error: {e}\")\n",
        "        return value\n",
        "\n",
        "value = float(input(\"Enter a number: \"))\n",
        "check_number(value)"
      ],
      "metadata": {
        "colab": {
          "base_uri": "https://localhost:8080/"
        },
        "id": "c1YVORiE2CQb",
        "outputId": "2ee2ad5e-515c-43c0-e74f-d64f8dd028d8"
      },
      "execution_count": null,
      "outputs": [
        {
          "name": "stdout",
          "output_type": "stream",
          "text": [
            "Enter a number: 13\n"
          ]
        },
        {
          "output_type": "execute_result",
          "data": {
            "text/plain": [
              "13.0"
            ]
          },
          "metadata": {},
          "execution_count": 43
        }
      ]
    },
    {
      "cell_type": "markdown",
      "source": [
        "38.\tImplement a program that uses assertions to check the validity of user input."
      ],
      "metadata": {
        "id": "P8asskI7B7Bx"
      }
    },
    {
      "cell_type": "code",
      "source": [
        "def get_positive_integer():\n",
        "    user_input = input(\"Enter a positive integer: \")\n",
        "\n",
        "    # Check if the input is a valid positive integer using an assertion\n",
        "    try:\n",
        "        value = int(user_input)\n",
        "        assert value > 0, \"The number must be positive.\"\n",
        "        print(f\"Valid input: {value}\")\n",
        "    except ValueError:\n",
        "        print(\"Error: The input must be an integer.\")\n",
        "    except AssertionError as e:\n",
        "        print(f\"Error: {e}\")\n",
        "\n",
        "get_positive_integer()"
      ],
      "metadata": {
        "colab": {
          "base_uri": "https://localhost:8080/"
        },
        "id": "xhadbubD2Hdr",
        "outputId": "491d6596-8ebf-4548-9586-aeece75b12f9"
      },
      "execution_count": null,
      "outputs": [
        {
          "output_type": "stream",
          "name": "stdout",
          "text": [
            "Enter a positive integer: 45\n",
            "Valid input: 45\n"
          ]
        }
      ]
    },
    {
      "cell_type": "markdown",
      "source": [
        "39.\tWrite a function to demonstrate the use of try-except blocks when dividing numbers."
      ],
      "metadata": {
        "id": "NLpot5FpCGd5"
      }
    },
    {
      "cell_type": "code",
      "source": [
        "def divide_numbers():\n",
        "    try:\n",
        "        numerator = float(input(\"Enter the numerator: \"))\n",
        "        denominator = float(input(\"Enter the denominator: \"))\n",
        "        result = numerator / denominator\n",
        "        print(f\"The result of {numerator} divided by {denominator} is {result}.\")\n",
        "\n",
        "    except ZeroDivisionError:\n",
        "        print(\"Error: Cannot divide by zero.\")\n",
        "\n",
        "    except ValueError:\n",
        "        print(\"Error: Please enter valid numbers.\")\n",
        "\n",
        "    except Exception as e:\n",
        "        print(f\"An unexpected error occurred: {e}\")\n",
        "\n",
        "divide_numbers()"
      ],
      "metadata": {
        "colab": {
          "base_uri": "https://localhost:8080/"
        },
        "id": "kqFZ_q9a2KVz",
        "outputId": "77fe0824-0878-4e29-d7c5-4a7672949501"
      },
      "execution_count": null,
      "outputs": [
        {
          "output_type": "stream",
          "name": "stdout",
          "text": [
            "Enter the numerator: 12\n",
            "Enter the denominator: 2\n",
            "The result of 12.0 divided by 2.0 is 6.0.\n"
          ]
        }
      ]
    },
    {
      "cell_type": "markdown",
      "source": [
        "40.\tCreate a program that captures and logs exceptions thrown in a mathematical computation."
      ],
      "metadata": {
        "id": "c0nWAOITCs1S"
      }
    },
    {
      "cell_type": "code",
      "source": [
        "import logging\n",
        "\n",
        "logging.basicConfig(\n",
        "    filename='math_operations.log',\n",
        "    level=logging.ERROR,\n",
        "    format='%(asctime)s - %(levelname)s - %(message)s'\n",
        ")\n",
        "\n",
        "def perform_computation(x, y, operation):\n",
        "    try:\n",
        "        if operation == 'add':\n",
        "            result = x + y\n",
        "        elif operation == 'subtract':\n",
        "            result = x - y\n",
        "        elif operation == 'multiply':\n",
        "            result = x * y\n",
        "        elif operation == 'divide':\n",
        "            if y == 0:\n",
        "                raise ZeroDivisionError(\"Cannot divide by zero.\")\n",
        "            result = x / y\n",
        "        else:\n",
        "            raise ValueError(f\"Unknown operation: {operation}\")\n",
        "\n",
        "        return result\n",
        "\n",
        "    except Exception as e:\n",
        "        logging.error(f\"Exception occurred: {str(e)} | Operation: {operation} | x: {x}, y: {y}\")\n",
        "        return f\"Error: {str(e)}\"\n",
        "\n",
        "def main():\n",
        "    print(\"Result 1:\", perform_computation(10, 5, 'add'))\n",
        "    print(\"Result 2:\", perform_computation(10, 0, 'divide'))  # Will trigger division by zero\n",
        "    print(\"Result 3:\", perform_computation(10, 'a', 'multiply'))  # Will trigger a TypeError\n",
        "    print(\"Result 4:\", perform_computation(10, 5, 'unknown'))  # Will trigger a ValueError\n",
        "\n",
        "if __name__ == \"__main__\":\n",
        "    main()\n"
      ],
      "metadata": {
        "colab": {
          "base_uri": "https://localhost:8080/"
        },
        "id": "QN0UjlVj3UCL",
        "outputId": "c14d3383-26b3-422d-eda8-f7a2dd15628f"
      },
      "execution_count": null,
      "outputs": [
        {
          "output_type": "stream",
          "name": "stderr",
          "text": [
            "ERROR:root:Exception occurred: Cannot divide by zero. | Operation: divide | x: 10, y: 0\n",
            "ERROR:root:Exception occurred: Unknown operation: unknown | Operation: unknown | x: 10, y: 5\n"
          ]
        },
        {
          "output_type": "stream",
          "name": "stdout",
          "text": [
            "Result 1: 15\n",
            "Result 2: Error: Cannot divide by zero.\n",
            "Result 3: aaaaaaaaaa\n",
            "Result 4: Error: Unknown operation: unknown\n"
          ]
        }
      ]
    },
    {
      "cell_type": "markdown",
      "source": [
        "41.\tDefine a class for a Rectangle that calculates the area and perimeter."
      ],
      "metadata": {
        "id": "dfdtgJLL3sxC"
      }
    },
    {
      "cell_type": "code",
      "source": [
        "class Rectangle:\n",
        "    def __init__(self, length, width):\n",
        "        self.length = length\n",
        "        self.width = width\n",
        "\n",
        "    def calculate_area(self):\n",
        "        return self.length * self.width\n",
        "\n",
        "    def calculate_perimeter(self):\n",
        "        return 2*(self.length + self.width)\n",
        "\n",
        "o1= Rectangle(5, 8)\n",
        "result1 = o1.calculate_area()\n",
        "result2 = o1.calculate_perimeter()\n",
        "print(result1)\n",
        "print(result2)"
      ],
      "metadata": {
        "id": "ZwP5HN1p7EjL"
      },
      "execution_count": null,
      "outputs": []
    },
    {
      "cell_type": "markdown",
      "source": [
        "42.\tCreate a class that models a BankAccount with methods to deposit and withdraw funds."
      ],
      "metadata": {
        "id": "og4S8uY13vnJ"
      }
    },
    {
      "cell_type": "code",
      "source": [
        "class Bank_Account:\n",
        "\tdef __init__(self):\n",
        "\t\tself.balance=0\n",
        "\t\tprint(\"hello\")\n",
        "\n",
        "\tdef deposit(self):\n",
        "\t\tamount=float(input(\"Enter amount to be Deposited: \"))\n",
        "\t\tself.balance += amount\n",
        "\t\tprint(\"\\n Amount Deposited:\",amount)\n",
        "\n",
        "\tdef withdraw(self):\n",
        "\t\tamount = float(input(\"Enter amount to be Withdrawn: \"))\n",
        "\t\tif self.balance>=amount:\n",
        "\t\t\tself.balance-=amount\n",
        "\t\t\tprint(\"\\n You Withdraw:\", amount)\n",
        "\t\telse:\n",
        "\t\t\tprint(\"\\n Insufficient balance \")\n",
        "\n",
        "\tdef display(self):\n",
        "\t\tprint(\"\\n Net Available Balance=\",self.balance)\n",
        "\n",
        "s = Bank_Account()\n",
        "\n",
        "s.deposit()\n",
        "s.withdraw()\n",
        "s.display()"
      ],
      "metadata": {
        "id": "2yHBY1fD7IBD"
      },
      "execution_count": null,
      "outputs": []
    },
    {
      "cell_type": "markdown",
      "source": [
        "43.\tImplement inheritance by creating a Circle class that inherits from a Shape class."
      ],
      "metadata": {
        "id": "PjALCCtg3yRy"
      }
    },
    {
      "cell_type": "code",
      "source": [
        "class Shape:\n",
        "    def __eq__(self, other):\n",
        "        return False\n",
        "    def type(self):\n",
        "        return \"Shape\"\n",
        "\n",
        "class Circle(Shape):\n",
        "    def __init__(self, x, y, radius):\n",
        "        self.centre =(x,y)\n",
        "        self.radius = radius\n",
        "    def type(self):\n",
        "        return \"Circle\"\n",
        "\n",
        "c1 = Circle(1,2,3)\n",
        "print(c1.type)"
      ],
      "metadata": {
        "id": "jwCFRSlC7Ljq"
      },
      "execution_count": null,
      "outputs": []
    },
    {
      "cell_type": "markdown",
      "source": [
        "44.\tWrite a program that demonstrates encapsulation through private class members."
      ],
      "metadata": {
        "id": "D29iq48m36Ty"
      }
    },
    {
      "cell_type": "code",
      "source": [
        "class Base:\n",
        "    def __init__(self):\n",
        "        self.a = \"swati\"\n",
        "        self.__c = \"kashish\"\n",
        "\n",
        "# Creating a derived class\n",
        "class Derived(Base):\n",
        "    def __init__(self):\n",
        "        Base.__init__(self)\n",
        "        print(\"Calling private member of base class: \")\n",
        "        print(self.__c)\n",
        "\n",
        "\n",
        "# Driver code\n",
        "obj1 = Base()\n",
        "print(obj1.a)"
      ],
      "metadata": {
        "id": "RJIfhCDw7Obj"
      },
      "execution_count": null,
      "outputs": []
    },
    {
      "cell_type": "markdown",
      "source": [
        "45.\tCreate an abstract class Animal with subclasses for Dog and Cat."
      ],
      "metadata": {
        "id": "F71WSefl3-B5"
      }
    },
    {
      "cell_type": "code",
      "source": [
        "from abc import ABC, abstractmethod\n",
        "class Animal(ABC):\n",
        "  def move(self):\n",
        "    pass\n",
        "\n",
        "class Dog(Animal):\n",
        "  def move(self):\n",
        "    print(\"I can bark\")\n",
        "\n",
        "class cat(Animal):\n",
        "  def move(self):\n",
        "    print(\"I can Meow\")\n",
        "\n",
        "o1 = Dog()\n",
        "o1.move()\n",
        "o2 = cat()\n",
        "o2.move()"
      ],
      "metadata": {
        "id": "f-6HGcnD7VWq"
      },
      "execution_count": null,
      "outputs": []
    },
    {
      "cell_type": "markdown",
      "source": [
        "46.\tImplement a binary search algorithm on a sorted list of numbers."
      ],
      "metadata": {
        "id": "_OO9kYUR4CL6"
      }
    },
    {
      "cell_type": "code",
      "source": [
        "def search(arr, target):\n",
        "    low = 0\n",
        "    high = len(arr) - 1\n",
        "\n",
        "    while low <= high:\n",
        "        mid = (low + high) // 2\n",
        "\n",
        "        if arr[mid] == target:\n",
        "            return mid\n",
        "\n",
        "        elif arr[mid] > target:\n",
        "            high = mid - 1\n",
        "\n",
        "        else:\n",
        "            low = mid + 1\n",
        "\n",
        "    return -1\n",
        "\n",
        "arr = [1, 3, 5, 7, 9, 11, 13, 15]\n",
        "target = 7\n",
        "\n",
        "result = search(arr, target)\n",
        "\n",
        "if result != -1:\n",
        "    print(f\"Element found in list\")\n",
        "else:\n",
        "    print(f\"Element not found in the list.\")"
      ],
      "metadata": {
        "id": "JBgj9Cwc7Zba"
      },
      "execution_count": null,
      "outputs": []
    },
    {
      "cell_type": "markdown",
      "source": [
        "47.\tWrite a sorting algorithm (e.g., bubble sort) and test its functionality."
      ],
      "metadata": {
        "id": "16l0q2-G4Hba"
      }
    },
    {
      "cell_type": "code",
      "source": [
        "def bubble_sort(arr):\n",
        "\n",
        "    for n in range(len(arr) - 1, 0, -1):\n",
        "\n",
        "        swapped = False\n",
        "\n",
        "        for i in range(n):\n",
        "            if arr[i] > arr[i + 1]:\n",
        "\n",
        "                arr[i], arr[i + 1] = arr[i + 1], arr[i]\n",
        "\n",
        "                swapped = True\n",
        "\n",
        "        if not swapped:\n",
        "            break\n",
        "\n",
        "\n",
        "arr = [39, 12, 18, 85, 72, 10, 2, 18]\n",
        "print(\"Unsorted list is:\")\n",
        "print(arr)\n",
        "\n",
        "bubble_sort(arr)\n",
        "\n",
        "print(\"Sorted list is:\")\n",
        "print(arr)"
      ],
      "metadata": {
        "id": "KrDNkXJi7cSa"
      },
      "execution_count": null,
      "outputs": []
    },
    {
      "cell_type": "markdown",
      "source": [
        "48.\tCreate a program that utilizes a hashtable to store and retrieve key-value pairs."
      ],
      "metadata": {
        "id": "clNy_3j94KLa"
      }
    },
    {
      "cell_type": "code",
      "source": [
        "class Node:\n",
        "\tdef __init__(self, key, value):\n",
        "\t\tself.key = key\n",
        "\t\tself.value = value\n",
        "\t\tself.next = None\n",
        "\n",
        "\n",
        "class HashTable:\n",
        "\tdef __init__(self, capacity):\n",
        "\t\tself.capacity = capacity\n",
        "\t\tself.size = 0\n",
        "\t\tself.table = [None] * capacity\n",
        "\n",
        "\tdef _hash(self, key):\n",
        "\t\treturn hash(key) % self.capacity\n",
        "\n",
        "\tdef insert(self, key, value):\n",
        "\t\tindex = self._hash(key)\n",
        "\n",
        "\t\tif self.table[index] is None:\n",
        "\t\t\tself.table[index] = Node(key, value)\n",
        "\t\t\tself.size += 1\n",
        "\t\telse:\n",
        "\t\t\tcurrent = self.table[index]\n",
        "\t\t\twhile current:\n",
        "\t\t\t\tif current.key == key:\n",
        "\t\t\t\t\tcurrent.value = value\n",
        "\t\t\t\t\treturn\n",
        "\t\t\t\tcurrent = current.next\n",
        "\t\t\tnew_node = Node(key, value)\n",
        "\t\t\tnew_node.next = self.table[index]\n",
        "\t\t\tself.table[index] = new_node\n",
        "\t\t\tself.size += 1\n",
        "\n",
        "\tdef search(self, key):\n",
        "\t\tindex = self._hash(key)\n",
        "\n",
        "\t\tcurrent = self.table[index]\n",
        "\t\twhile current:\n",
        "\t\t\tif current.key == key:\n",
        "\t\t\t\treturn current.value\n",
        "\t\t\tcurrent = current.next\n",
        "\n",
        "\t\traise KeyError(key)\n",
        "\n",
        "\tdef remove(self, key):\n",
        "\t\tindex = self._hash(key)\n",
        "\n",
        "\t\tprevious = None\n",
        "\t\tcurrent = self.table[index]\n",
        "\n",
        "\t\twhile current:\n",
        "\t\t\tif current.key == key:\n",
        "\t\t\t\tif previous:\n",
        "\t\t\t\t\tprevious.next = current.next\n",
        "\t\t\t\telse:\n",
        "\t\t\t\t\tself.table[index] = current.next\n",
        "\t\t\t\tself.size -= 1\n",
        "\t\t\t\treturn\n",
        "\t\t\tprevious = current\n",
        "\t\t\tcurrent = current.next\n",
        "\n",
        "\t\traise KeyError(key)\n",
        "\n",
        "\tdef __len__(self):\n",
        "\t\treturn self.size\n",
        "\n",
        "\tdef __contains__(self, key):\n",
        "\t\ttry:\n",
        "\t\t\tself.search(key)\n",
        "\t\t\treturn True\n",
        "\t\texcept KeyError:\n",
        "\t\t\treturn False\n",
        "\n",
        "if __name__ == '__main__':\n",
        "\n",
        "\tht = HashTable(5)\n",
        "\n",
        "\tht.insert(\"apple\", 3)\n",
        "\tht.insert(\"banana\", 2)\n",
        "\tht.insert(\"cherry\", 5)\n",
        "\n",
        "\tprint(\"apple\" in ht)\n",
        "\tprint(\"durian\" in ht)\n",
        "\n",
        "\tprint(ht.search(\"banana\"))\n",
        "\n",
        "\tht.insert(\"banana\", 4)\n",
        "\tprint(ht.search(\"banana\"))\n",
        "\n",
        "\tht.remove(\"apple\")\n",
        "\tprint(len(ht))\n"
      ],
      "metadata": {
        "colab": {
          "base_uri": "https://localhost:8080/"
        },
        "id": "MPN3z9AM8Cx6",
        "outputId": "474b8ee0-afb9-4274-c219-df5092a3323c"
      },
      "execution_count": null,
      "outputs": [
        {
          "output_type": "stream",
          "name": "stdout",
          "text": [
            "True\n",
            "False\n",
            "2\n",
            "4\n",
            "2\n"
          ]
        }
      ]
    },
    {
      "cell_type": "markdown",
      "source": [
        "49.\tDevelop a function that sorts a list of dictionaries based on the values of a specific key"
      ],
      "metadata": {
        "id": "PxnVxVAu4Mu6"
      }
    },
    {
      "cell_type": "code",
      "source": [
        "d = {2: 5, 1: 2, 5: 12, 4: 11}\n",
        "\n",
        "print(\"Dictionary\", d)\n",
        "\n",
        "# Sorting and printing dictionary keys\n",
        "for i in sorted(d.keys()):\n",
        "    print(i, end=\" \")"
      ],
      "metadata": {
        "id": "FkK20O908fvC"
      },
      "execution_count": null,
      "outputs": []
    },
    {
      "cell_type": "markdown",
      "source": [
        "50.\tWrite a program that implements a breadth-first search for a graph structure."
      ],
      "metadata": {
        "id": "xrvKTIV74POq"
      }
    },
    {
      "cell_type": "code",
      "source": [
        "graph = {\n",
        "  '5' : ['3','7'],\n",
        "  '3' : ['2', '4'],\n",
        "  '7' : ['8'],\n",
        "  '2' : [],\n",
        "  '4' : ['8'],\n",
        "  '8' : []\n",
        "}\n",
        "\n",
        "visited = [] # List for visited nodes.\n",
        "queue = []     #Initialize a queue\n",
        "\n",
        "def bfs(visited, graph, node): #function for BFS\n",
        "  visited.append(node)\n",
        "  queue.append(node)\n",
        "\n",
        "  while queue:          # Creating loop to visit each node\n",
        "    m = queue.pop(0)\n",
        "    print (m, end = \" \")\n",
        "\n",
        "    for neighbour in graph[m]:\n",
        "      if neighbour not in visited:\n",
        "        visited.append(neighbour)\n",
        "        queue.append(neighbour)\n",
        "\n",
        "# Driver Code\n",
        "print(\"Following is the Breadth-First Search\")\n",
        "bfs(visited, graph, '5')    # function calling"
      ],
      "metadata": {
        "colab": {
          "base_uri": "https://localhost:8080/"
        },
        "id": "RPrAAJMY9mXa",
        "outputId": "63e1be21-ff7f-44e9-8885-6f8dff14211c"
      },
      "execution_count": null,
      "outputs": [
        {
          "output_type": "stream",
          "name": "stdout",
          "text": [
            "Following is the Breadth-First Search\n",
            "5 3 7 2 4 8 "
          ]
        }
      ]
    },
    {
      "cell_type": "markdown",
      "source": [
        "51.\tUse Matplotlib to plot a simple line graph representing a mathematical function."
      ],
      "metadata": {
        "id": "yN0Vo23l4TiB"
      }
    },
    {
      "cell_type": "code",
      "source": [
        "import matplotlib.pyplot as plt\n",
        "import numpy as np\n",
        "\n",
        "x = np.array([1, 2, 3, 4])\n",
        "y = x*2\n",
        "\n",
        "plt.plot(x, y)\n",
        "plt.show()"
      ],
      "metadata": {
        "colab": {
          "base_uri": "https://localhost:8080/",
          "height": 430
        },
        "id": "L472Bw-V9sNS",
        "outputId": "e2b71f1e-e3af-43ea-f59f-f9bf2be4ace8"
      },
      "execution_count": null,
      "outputs": [
        {
          "output_type": "display_data",
          "data": {
            "text/plain": [
              "<Figure size 640x480 with 1 Axes>"
            ],
            "image/png": "[encoded data removed]"
          },
          "metadata": {}
        }
      ]
    },
    {
      "cell_type": "markdown",
      "source": [
        "52.\tCreate a program that plots a scatter plot for random data points."
      ],
      "metadata": {
        "id": "XEvWe80W4WhC"
      }
    },
    {
      "cell_type": "code",
      "source": [
        "import matplotlib.pyplot as plt\n",
        "\n",
        "x = [5,7,8,7,2,17,2,9,4,11,12,9,6]\n",
        "y = [99,86,87,88,111,86,103,87,94,78,77,85,86]\n",
        "\n",
        "plt.scatter(x, y)\n",
        "plt.show()"
      ],
      "metadata": {
        "colab": {
          "base_uri": "https://localhost:8080/",
          "height": 430
        },
        "id": "vFMSqkiS9yh6",
        "outputId": "6871f835-2a14-4e61-a37c-74e313c91f44"
      },
      "execution_count": null,
      "outputs": [
        {
          "output_type": "display_data",
          "data": {
            "text/plain": [
              "<Figure size 640x480 with 1 Axes>"
            ],
            "image/png": "[encoded data removed]"
          },
          "metadata": {}
        }
      ]
    },
    {
      "cell_type": "markdown",
      "source": [
        "53.\tImplement a bar chart visualizing sales data over a month."
      ],
      "metadata": {
        "id": "qdfQtG7C4Zvi"
      }
    },
    {
      "cell_type": "code",
      "source": [
        "import matplotlib.pyplot as plt\n",
        "\n",
        "days = [\n",
        "    '1', '2', '3', '4', '5', '6', '7', '8', '9', '10',\n",
        "    '11', '12', '13', '14', '15', '16', '17', '18', '19', '20',\n",
        "    '21', '22', '23', '24', '25', '26', '27', '28', '29', '30'\n",
        "]\n",
        "sales = [\n",
        "    200, 250, 300, 150, 400, 350, 500, 600, 450, 550,\n",
        "    700, 650, 600, 500, 550, 600, 650, 700, 750, 800,\n",
        "    900, 850, 950, 1000, 1100, 1200, 1150, 1050, 1200, 1250\n",
        "]\n",
        "\n",
        "plt.figure(figsize=(10, 6))\n",
        "plt.bar(days, sales, color='skyblue')"
      ],
      "metadata": {
        "colab": {
          "base_uri": "https://localhost:8080/",
          "height": 539
        },
        "id": "tUBkFwAl92Sq",
        "outputId": "2d6c37a7-7a12-4ae4-a9ad-57fd7b872503"
      },
      "execution_count": null,
      "outputs": [
        {
          "output_type": "execute_result",
          "data": {
            "text/plain": [
              "<BarContainer object of 30 artists>"
            ]
          },
          "metadata": {},
          "execution_count": 57
        },
        {
          "output_type": "display_data",
          "data": {
            "text/plain": [
              "<Figure size 1000x600 with 1 Axes>"
            ],
            "image/png": "[encoded data removed]"
          },
          "metadata": {}
        }
      ]
    },
    {
      "cell_type": "markdown",
      "source": [
        "54.\tWrite a program that demonstrates plotting the Fibonacci sequence with PyLab."
      ],
      "metadata": {
        "id": "_JxEUK-O4c_S"
      }
    },
    {
      "cell_type": "code",
      "source": [
        "import numpy as np\n",
        "import matplotlib.pyplot as plt\n",
        "\n",
        "def fibonacci(n):\n",
        "    fib_seq = [0, 1]\n",
        "    for i in range(2, n):\n",
        "        fib_seq.append(fib_seq[-1] + fib_seq[-2])\n",
        "    return fib_seq\n",
        "\n",
        "num_terms = 20\n",
        "\n",
        "fib_seq = fibonacci(num_terms)\n",
        "\n",
        "x = np.arange(1, num_terms + 1)\n",
        "\n",
        "plt.plot(x, fib_seq, marker='o', color='b', label='Fibonacci Sequence')\n",
        "\n",
        "plt.xlabel('Term Number')\n",
        "plt.ylabel('Fibonacci Value')\n",
        "plt.title('Fibonacci Sequence')\n",
        "\n",
        "plt.legend()\n",
        "\n",
        "plt.grid(True)\n",
        "plt.show()"
      ],
      "metadata": {
        "colab": {
          "base_uri": "https://localhost:8080/",
          "height": 472
        },
        "id": "yuWZu0-E97sx",
        "outputId": "37db7ced-4162-42f4-e197-11b0852eff78"
      },
      "execution_count": null,
      "outputs": [
        {
          "output_type": "display_data",
          "data": {
            "text/plain": [
              "<Figure size 640x480 with 1 Axes>"
            ],
            "image/png": "[encoded data removed]"
          },
          "metadata": {}
        }
      ]
    },
    {
      "cell_type": "markdown",
      "source": [
        "55.\tCreate a function that plots the trajectory of a projectile motion."
      ],
      "metadata": {
        "id": "IDu5GyIq4jEa"
      }
    },
    {
      "cell_type": "code",
      "source": [
        "import numpy as np\n",
        "import matplotlib.pylab as plot\n",
        "\n",
        "v = 30\n",
        "g = -9.8\n",
        "\n",
        "theta = np.arange(25,65,5)\n",
        "\n",
        "t = ((2 * v) * np.sin(theta)) / g\n",
        "t1 = np.array(t)\n",
        "\n",
        "\n",
        "\n",
        "x = ((v * t1) * np.cos(theta))\n",
        "y = ((v * t1) * np.sin(theta)) - ((0.5 * g) * (t ** 2))\n",
        "\n",
        "plot.plot(x,y)\n",
        "plot.show()"
      ],
      "metadata": {
        "colab": {
          "base_uri": "https://localhost:8080/",
          "height": 445
        },
        "id": "jWAUCqxf-BIx",
        "outputId": "24c546f9-f555-4368-f2ef-ef3fe92725c1"
      },
      "execution_count": null,
      "outputs": [
        {
          "output_type": "display_data",
          "data": {
            "text/plain": [
              "<Figure size 640x480 with 1 Axes>"
            ],
            "image/png": "[encoded data removed]"
          },
          "metadata": {}
        }
      ]
    },
    {
      "cell_type": "markdown",
      "source": [
        "56.\tImplement the 0/1 knapsack algorithm to solve a simple problem."
      ],
      "metadata": {
        "id": "bgZ9Nnle4rji"
      }
    },
    {
      "cell_type": "code",
      "source": [
        "def knapSack(W, wt, val, n):\n",
        "   if n == 0 or W == 0 :\n",
        "      return 0\n",
        "   if (wt[n-1] > W):\n",
        "      return knapSack(W, wt, val, n-1)\n",
        "   else:\n",
        "      return max(val[n-1] + knapSack(W-wt[n-1], wt, val, n-1),\n",
        "         knapSack(W, wt, val, n-1))\n",
        "val = [50,100,150,200]\n",
        "wt = [8,16,32,40]\n",
        "W = 64\n",
        "n = len(val)\n",
        "print (knapSack(W, wt, val, n))"
      ],
      "metadata": {
        "colab": {
          "base_uri": "https://localhost:8080/"
        },
        "id": "rnKLMTEI-GWZ",
        "outputId": "144fab2f-6b84-438e-c442-00145cf37c77"
      },
      "execution_count": null,
      "outputs": [
        {
          "output_type": "stream",
          "name": "stdout",
          "text": [
            "350\n"
          ]
        }
      ]
    },
    {
      "cell_type": "markdown",
      "source": [
        "57.\tWrite a dynamic programming solution for finding the longest common subsequence."
      ],
      "metadata": {
        "id": "VUXkoX9K4u7y"
      }
    },
    {
      "cell_type": "code",
      "source": [
        "def lcs(X, Y):\n",
        "\t# find the length of the strings\n",
        "\tm = len(X)\n",
        "\tn = len(Y)\n",
        "\n",
        "\tL = [[None]*(n + 1) for i in range(m + 1)]\n",
        "\n",
        "\tfor i in range(m + 1):\n",
        "\t\tfor j in range(n + 1):\n",
        "\t\t\tif i == 0 or j == 0 :\n",
        "\t\t\t\tL[i][j] = 0\n",
        "\t\t\telif X[i-1] == Y[j-1]:\n",
        "\t\t\t\tL[i][j] = L[i-1][j-1]+1\n",
        "\t\t\telse:\n",
        "\t\t\t\tL[i][j] = max(L[i-1][j], L[i][j-1])\n",
        "\n",
        "\treturn L[m][n]\n",
        "X = \"AGGTAB\"\n",
        "Y = \"GXTXAYB\"\n",
        "print(\"Length of LCS is \", lcs(X, Y))"
      ],
      "metadata": {
        "colab": {
          "base_uri": "https://localhost:8080/"
        },
        "id": "KdfRCfQb-LxB",
        "outputId": "a0a33d77-8fb3-4fb4-e3fc-fea40588825a"
      },
      "execution_count": null,
      "outputs": [
        {
          "output_type": "stream",
          "name": "stdout",
          "text": [
            "Length of LCS is  4\n"
          ]
        }
      ]
    },
    {
      "cell_type": "markdown",
      "source": [
        "58.\tCreate a program to visualize dynamic programming approaches for the Fibonacci sequence."
      ],
      "metadata": {
        "id": "iBhmi5jE4yPx"
      }
    },
    {
      "cell_type": "code",
      "source": [
        "FibArray = [0, 1]\n",
        "\n",
        "def fibonacci(n):\n",
        "    if n<0:\n",
        "        print(\"Incorrect input\")\n",
        "    elif n<= len(FibArray):\n",
        "        return FibArray[n-1]\n",
        "    else:\n",
        "        temp_fib = fibonacci(n-1)+fibonacci(n-2)\n",
        "        FibArray.append(temp_fib)\n",
        "        return temp_fib\n",
        "\n",
        "print(fibonacci(9))"
      ],
      "metadata": {
        "colab": {
          "base_uri": "https://localhost:8080/"
        },
        "id": "PpcKVNUf-RD5",
        "outputId": "d2990d07-7a9d-429a-d240-c3e1f4e22851"
      },
      "execution_count": null,
      "outputs": [
        {
          "output_type": "stream",
          "name": "stdout",
          "text": [
            "21\n"
          ]
        }
      ]
    },
    {
      "cell_type": "markdown",
      "source": [
        "59.\tDevelop a divide-and-conquer algorithm to sort an array."
      ],
      "metadata": {
        "id": "7j1jwQkC41wB"
      }
    },
    {
      "cell_type": "code",
      "source": [
        "def divide_conq(arr1, arr2):\n",
        "    i = 0\n",
        "    j = 0\n",
        "    result = []\n",
        "    while(i < len(arr1) and j < len(arr2)):\n",
        "        if arr2[j] > arr1[i]:\n",
        "            result.append(arr1[i])\n",
        "            i += 1\n",
        "        else:\n",
        "            result.append(arr2[j])\n",
        "            j += 1\n",
        "\n",
        "    while(i < len(arr1)):\n",
        "        result.append(arr1[i])\n",
        "        i += 1\n",
        "    while(j < len(arr2)):\n",
        "        result.append(arr2[j])\n",
        "        j += 1\n",
        "    return result\n",
        "\n",
        "def d_c(arr):\n",
        "    if len(arr) <= 1:\n",
        "        return arr\n",
        "    mid = len(arr)//2\n",
        "    left = d_c(arr[:mid])\n",
        "    right = d_c(arr[mid:])\n",
        "\n",
        "    return divide_conq(left, right)\n",
        "\n",
        "if __name__ == '__main__':\n",
        "    arr = [12, 11, 13, 5, 6, 7]\n",
        "    print(\"Given array is\")\n",
        "    print(*arr)\n",
        "    arr = d_c(arr)\n",
        "    print(\"\\nSorted array is \")\n",
        "    print(*arr)"
      ],
      "metadata": {
        "colab": {
          "base_uri": "https://localhost:8080/"
        },
        "id": "4bhmpnTg-XeB",
        "outputId": "fe89e499-d83c-4692-c85e-b3c6e975098f"
      },
      "execution_count": null,
      "outputs": [
        {
          "output_type": "stream",
          "name": "stdout",
          "text": [
            "Given array is\n",
            "12 11 13 5 6 7\n",
            "\n",
            "Sorted array is \n",
            "5 6 7 11 12 13\n"
          ]
        }
      ]
    },
    {
      "cell_type": "markdown",
      "source": [
        "60.\tWrite a Python function that uses memoization to optimize a recursive problem"
      ],
      "metadata": {
        "id": "1iHIGpw545KC"
      }
    },
    {
      "cell_type": "code",
      "source": [
        "def facto(n):\n",
        "\tif n == 1:\n",
        "\t\treturn 1\n",
        "\telse:\n",
        "\t\treturn n * facto(n-1)\n",
        "\n",
        "print(facto(5))\n",
        "print(facto(5))"
      ],
      "metadata": {
        "colab": {
          "base_uri": "https://localhost:8080/"
        },
        "id": "Ic8jN1AL-c7h",
        "outputId": "a96de525-72ab-44db-cf7b-3268d67e10ab"
      },
      "execution_count": null,
      "outputs": [
        {
          "output_type": "stream",
          "name": "stdout",
          "text": [
            "120\n",
            "120\n"
          ]
        }
      ]
    }
  ]
}